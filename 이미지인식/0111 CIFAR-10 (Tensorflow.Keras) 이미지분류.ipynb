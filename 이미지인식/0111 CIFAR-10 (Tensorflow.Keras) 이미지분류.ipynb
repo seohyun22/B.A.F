{
 "cells": [
  {
   "cell_type": "markdown",
   "id": "950f6e88",
   "metadata": {},
   "source": [
    "### 딥러닝 모델 적용 단계\n",
    "1. 데이터 로딩  \n",
    "2. 데이터 전처리  \n",
    "3. 모델 정의 (define)  \n",
    "4. 모델 컴파일 (compile)  \n",
    "5. 모델 적합 (fit)  \n",
    "6. 모델 평가 (evaluate)  \n",
    "7. 예측하기 (predict)  \n",
    "8. 모델 저장  "
   ]
  },
  {
   "cell_type": "code",
   "execution_count": 1,
   "id": "942a7352",
   "metadata": {},
   "outputs": [],
   "source": [
    "import numpy as np\n",
    "import os\n",
    "import tensorflow as tf\n",
    "from tensorflow.keras.datasets import cifar10\n",
    "from tensorflow.keras.utils import to_categorical\n",
    "from tensorflow.keras.models import Sequential\n",
    "from tensorflow.keras.layers import Dense, Dropout, Activation\n",
    "from tensorflow.keras.optimizers import Adam"
   ]
  },
  {
   "cell_type": "markdown",
   "id": "5d0f1faa",
   "metadata": {},
   "source": [
    "### Label Description  \n",
    "0 airplane  \n",
    "1 automobile  \n",
    "2 bird  \n",
    "3 cat  \n",
    "4 deer  \n",
    "5 dog  \n",
    "6 frog  \n",
    "7 horse  \n",
    "8 ship  \n",
    "9 truck  "
   ]
  },
  {
   "cell_type": "markdown",
   "id": "0f77d24b",
   "metadata": {},
   "source": [
    "## 1. 데이터로딩"
   ]
  },
  {
   "cell_type": "code",
   "execution_count": 2,
   "id": "b8ff4417",
   "metadata": {},
   "outputs": [
    {
     "name": "stdout",
     "output_type": "stream",
     "text": [
      "Downloading data from https://www.cs.toronto.edu/~kriz/cifar-10-python.tar.gz\n",
      "170500096/170498071 [==============================] - 84s 0us/step\n",
      "170508288/170498071 [==============================] - 84s 0us/step\n",
      "(50000, 32, 32, 3)\n",
      "(50000, 1)\n",
      "(10000, 32, 32, 3)\n",
      "(10000, 1)\n"
     ]
    }
   ],
   "source": [
    "np.random.seed(100)\n",
    "(x_train, y_train), (x_test, y_test) = cifar10.load_data()\n",
    "\n",
    "print(x_train.shape)\n",
    "print(y_train.shape)\n",
    "\n",
    "print(x_test.shape)\n",
    "print(y_test.shape)"
   ]
  },
  {
   "cell_type": "markdown",
   "id": "adcc6206",
   "metadata": {},
   "source": [
    "<font color=blue> (50000개, 32, 32, 3)     \n",
    "32픽셀 그림   \n",
    "3 >>  R, G, B  \n",
    "</font>\n"
   ]
  },
  {
   "cell_type": "code",
   "execution_count": 3,
   "id": "f5dc9c43",
   "metadata": {},
   "outputs": [
    {
     "name": "stdout",
     "output_type": "stream",
     "text": [
      "y_train :  [6]\n",
      "x_train :  [[[ 59  62  63]\n",
      "  [ 43  46  45]\n",
      "  [ 50  48  43]\n",
      "  ...\n",
      "  [158 132 108]\n",
      "  [152 125 102]\n",
      "  [148 124 103]]\n",
      "\n",
      " [[ 16  20  20]\n",
      "  [  0   0   0]\n",
      "  [ 18   8   0]\n",
      "  ...\n",
      "  [123  88  55]\n",
      "  [119  83  50]\n",
      "  [122  87  57]]\n",
      "\n",
      " [[ 25  24  21]\n",
      "  [ 16   7   0]\n",
      "  [ 49  27   8]\n",
      "  ...\n",
      "  [118  84  50]\n",
      "  [120  84  50]\n",
      "  [109  73  42]]\n",
      "\n",
      " ...\n",
      "\n",
      " [[208 170  96]\n",
      "  [201 153  34]\n",
      "  [198 161  26]\n",
      "  ...\n",
      "  [160 133  70]\n",
      "  [ 56  31   7]\n",
      "  [ 53  34  20]]\n",
      "\n",
      " [[180 139  96]\n",
      "  [173 123  42]\n",
      "  [186 144  30]\n",
      "  ...\n",
      "  [184 148  94]\n",
      "  [ 97  62  34]\n",
      "  [ 83  53  34]]\n",
      "\n",
      " [[177 144 116]\n",
      "  [168 129  94]\n",
      "  [179 142  87]\n",
      "  ...\n",
      "  [216 184 140]\n",
      "  [151 118  84]\n",
      "  [123  92  72]]]\n",
      "y_train :  [9]\n",
      "x_train :  [[[154 177 187]\n",
      "  [126 137 136]\n",
      "  [105 104  95]\n",
      "  ...\n",
      "  [ 91  95  71]\n",
      "  [ 87  90  71]\n",
      "  [ 79  81  70]]\n",
      "\n",
      " [[140 160 169]\n",
      "  [145 153 154]\n",
      "  [125 125 118]\n",
      "  ...\n",
      "  [ 96  99  78]\n",
      "  [ 77  80  62]\n",
      "  [ 71  73  61]]\n",
      "\n",
      " [[140 155 164]\n",
      "  [139 146 149]\n",
      "  [115 115 112]\n",
      "  ...\n",
      "  [ 79  82  64]\n",
      "  [ 68  70  55]\n",
      "  [ 67  69  55]]\n",
      "\n",
      " ...\n",
      "\n",
      " [[175 167 166]\n",
      "  [156 154 160]\n",
      "  [154 160 170]\n",
      "  ...\n",
      "  [ 42  34  36]\n",
      "  [ 61  53  57]\n",
      "  [ 93  83  91]]\n",
      "\n",
      " [[165 154 128]\n",
      "  [156 152 130]\n",
      "  [159 161 142]\n",
      "  ...\n",
      "  [103  93  96]\n",
      "  [123 114 120]\n",
      "  [131 121 131]]\n",
      "\n",
      " [[163 148 120]\n",
      "  [158 148 122]\n",
      "  [163 156 133]\n",
      "  ...\n",
      "  [143 133 139]\n",
      "  [143 134 142]\n",
      "  [143 133 144]]]\n",
      "y_train :  [9]\n",
      "x_train :  [[[255 255 255]\n",
      "  [253 253 253]\n",
      "  [253 253 253]\n",
      "  ...\n",
      "  [253 253 253]\n",
      "  [253 253 253]\n",
      "  [253 253 253]]\n",
      "\n",
      " [[255 255 255]\n",
      "  [255 255 255]\n",
      "  [255 255 255]\n",
      "  ...\n",
      "  [255 255 255]\n",
      "  [255 255 255]\n",
      "  [255 255 255]]\n",
      "\n",
      " [[255 255 255]\n",
      "  [254 254 254]\n",
      "  [254 254 254]\n",
      "  ...\n",
      "  [254 254 254]\n",
      "  [254 254 254]\n",
      "  [254 254 254]]\n",
      "\n",
      " ...\n",
      "\n",
      " [[113 120 112]\n",
      "  [111 118 111]\n",
      "  [105 112 106]\n",
      "  ...\n",
      "  [ 72  81  80]\n",
      "  [ 72  80  79]\n",
      "  [ 72  80  79]]\n",
      "\n",
      " [[111 118 110]\n",
      "  [104 111 104]\n",
      "  [ 99 106  98]\n",
      "  ...\n",
      "  [ 68  75  73]\n",
      "  [ 70  76  75]\n",
      "  [ 78  84  82]]\n",
      "\n",
      " [[106 113 105]\n",
      "  [ 99 106  98]\n",
      "  [ 95 102  94]\n",
      "  ...\n",
      "  [ 78  85  83]\n",
      "  [ 79  85  83]\n",
      "  [ 80  86  84]]]\n",
      "y_train :  [4]\n",
      "x_train :  [[[ 28  25  10]\n",
      "  [ 37  34  19]\n",
      "  [ 38  35  20]\n",
      "  ...\n",
      "  [ 76  67  39]\n",
      "  [ 81  72  43]\n",
      "  [ 85  76  47]]\n",
      "\n",
      " [[ 33  28  13]\n",
      "  [ 34  30  14]\n",
      "  [ 32  27  12]\n",
      "  ...\n",
      "  [ 95  82  55]\n",
      "  [ 96  82  56]\n",
      "  [ 85  72  45]]\n",
      "\n",
      " [[ 39  32  15]\n",
      "  [ 40  33  17]\n",
      "  [ 57  50  33]\n",
      "  ...\n",
      "  [ 93  76  52]\n",
      "  [107  89  66]\n",
      "  [ 95  77  54]]\n",
      "\n",
      " ...\n",
      "\n",
      " [[ 83  73  52]\n",
      "  [ 87  77  56]\n",
      "  [ 84  74  52]\n",
      "  ...\n",
      "  [ 99  93  70]\n",
      "  [ 90  84  61]\n",
      "  [ 81  75  52]]\n",
      "\n",
      " [[ 88  72  51]\n",
      "  [ 90  74  52]\n",
      "  [ 93  77  56]\n",
      "  ...\n",
      "  [ 80  74  53]\n",
      "  [ 76  70  49]\n",
      "  [ 82  76  55]]\n",
      "\n",
      " [[ 97  78  56]\n",
      "  [ 94  75  53]\n",
      "  [ 93  75  53]\n",
      "  ...\n",
      "  [ 54  47  28]\n",
      "  [ 63  56  37]\n",
      "  [ 72  65  46]]]\n",
      "y_train :  [1]\n",
      "x_train :  [[[170 180 198]\n",
      "  [168 178 196]\n",
      "  [177 185 203]\n",
      "  ...\n",
      "  [162 179 215]\n",
      "  [158 178 214]\n",
      "  [157 177 212]]\n",
      "\n",
      " [[168 181 198]\n",
      "  [172 185 201]\n",
      "  [171 183 200]\n",
      "  ...\n",
      "  [159 177 212]\n",
      "  [156 176 211]\n",
      "  [154 174 209]]\n",
      "\n",
      " [[154 170 186]\n",
      "  [149 165 181]\n",
      "  [129 144 162]\n",
      "  ...\n",
      "  [161 178 214]\n",
      "  [157 177 212]\n",
      "  [154 174 209]]\n",
      "\n",
      " ...\n",
      "\n",
      " [[ 74  84  80]\n",
      "  [ 76  85  81]\n",
      "  [ 78  85  82]\n",
      "  ...\n",
      "  [ 71  75  78]\n",
      "  [ 68  72  75]\n",
      "  [ 61  65  68]]\n",
      "\n",
      " [[ 68  76  77]\n",
      "  [ 69  77  78]\n",
      "  [ 72  79  78]\n",
      "  ...\n",
      "  [ 76  80  83]\n",
      "  [ 71  75  78]\n",
      "  [ 71  75  78]]\n",
      "\n",
      " [[ 67  75  78]\n",
      "  [ 68  76  79]\n",
      "  [ 69  75  76]\n",
      "  ...\n",
      "  [ 75  79  82]\n",
      "  [ 71  75  78]\n",
      "  [ 73  77  80]]]\n"
     ]
    }
   ],
   "source": [
    "for i in range(5):\n",
    "    print(\"y_train : \", y_train[i])\n",
    "    print(\"x_train : \", x_train[i])"
   ]
  },
  {
   "cell_type": "code",
   "execution_count": 4,
   "id": "1830f6f9",
   "metadata": {},
   "outputs": [
    {
     "name": "stdout",
     "output_type": "stream",
     "text": [
      "[6], "
     ]
    },
    {
     "data": {
      "image/png": "[encoded data removed]",
      "text/plain": [
       "<Figure size 432x288 with 1 Axes>"
      ]
     },
     "metadata": {
      "needs_background": "light"
     },
     "output_type": "display_data"
    },
    {
     "name": "stdout",
     "output_type": "stream",
     "text": [
      "[9], "
     ]
    },
    {
     "data": {
      "image/png": "[encoded data removed]",
      "text/plain": [
       "<Figure size 432x288 with 1 Axes>"
      ]
     },
     "metadata": {
      "needs_background": "light"
     },
     "output_type": "display_data"
    },
    {
     "name": "stdout",
     "output_type": "stream",
     "text": [
      "[9], "
     ]
    },
    {
     "data": {
      "image/png": "[encoded data removed]",
      "text/plain": [
       "<Figure size 432x288 with 1 Axes>"
      ]
     },
     "metadata": {
      "needs_background": "light"
     },
     "output_type": "display_data"
    },
    {
     "name": "stdout",
     "output_type": "stream",
     "text": [
      "[4], "
     ]
    },
    {
     "data": {
      "image/png": "[encoded data removed]",
      "text/plain": [
       "<Figure size 432x288 with 1 Axes>"
      ]
     },
     "metadata": {
      "needs_background": "light"
     },
     "output_type": "display_data"
    },
    {
     "name": "stdout",
     "output_type": "stream",
     "text": [
      "[1], "
     ]
    },
    {
     "data": {
      "image/png": "[encoded data removed]",
      "text/plain": [
       "<Figure size 432x288 with 1 Axes>"
      ]
     },
     "metadata": {
      "needs_background": "light"
     },
     "output_type": "display_data"
    }
   ],
   "source": [
    "import matplotlib.pyplot as plt \n",
    "%matplotlib inline \n",
    "\n",
    "for i in range(5): \n",
    "    plt.imshow(x_train[i]) \n",
    "    print(y_train[i], end=\", \") \n",
    "    plt.show()"
   ]
  },
  {
   "cell_type": "markdown",
   "id": "19a7be0e",
   "metadata": {},
   "source": [
    "## 2. 데이터 전처리"
   ]
  },
  {
   "cell_type": "code",
   "execution_count": null,
   "id": "1890e31f",
   "metadata": {},
   "outputs": [],
   "source": [
    "# Resize 생략 "
   ]
  },
  {
   "cell_type": "code",
   "execution_count": 5,
   "id": "935a0254",
   "metadata": {},
   "outputs": [],
   "source": [
    "# 3차원을 1차원으로 \n",
    "x_train = x_train.reshape(50000, 3072)\n",
    "x_test = x_test.reshape(10000, 3072)"
   ]
  },
  {
   "cell_type": "code",
   "execution_count": 6,
   "id": "90bb2cbc",
   "metadata": {},
   "outputs": [],
   "source": [
    "# Gaussian Normalization (Z-score)\n",
    "x_train = (x_train - np.mean(x_train)) / np.std(x_train)\n",
    "x_test = (x_test - np.mean(x_test)) / np.std(x_test)"
   ]
  },
  {
   "cell_type": "code",
   "execution_count": 7,
   "id": "f8d56360",
   "metadata": {
    "scrolled": false
   },
   "outputs": [
    {
     "name": "stdout",
     "output_type": "stream",
     "text": [
      "y_train :  [[0. 0. 0. ... 0. 0. 0.]\n",
      " [0. 0. 0. ... 0. 0. 1.]\n",
      " [0. 0. 0. ... 0. 0. 1.]\n",
      " ...\n",
      " [0. 0. 0. ... 0. 0. 1.]\n",
      " [0. 1. 0. ... 0. 0. 0.]\n",
      " [0. 1. 0. ... 0. 0. 0.]]\n",
      "y_test :  [[0. 0. 0. ... 0. 0. 0.]\n",
      " [0. 0. 0. ... 0. 1. 0.]\n",
      " [0. 0. 0. ... 0. 1. 0.]\n",
      " ...\n",
      " [0. 0. 0. ... 0. 0. 0.]\n",
      " [0. 1. 0. ... 0. 0. 0.]\n",
      " [0. 0. 0. ... 1. 0. 0.]]\n"
     ]
    }
   ],
   "source": [
    "# class vector를 one-hot vector로 변환\n",
    "labels = 10\n",
    "y_train = to_categorical(y_train, labels)\n",
    "y_test = to_categorical(y_test, labels)\n",
    "\n",
    "print(\"y_train : \", y_train)\n",
    "print(\"y_test : \", y_test)"
   ]
  },
  {
   "cell_type": "code",
   "execution_count": null,
   "id": "9d69f741",
   "metadata": {},
   "outputs": [],
   "source": [
    "# 이미지 augmentation 과정 진행여부 "
   ]
  },
  {
   "cell_type": "markdown",
   "id": "b04c0218",
   "metadata": {},
   "source": [
    "## 3. 모델정의"
   ]
  },
  {
   "cell_type": "code",
   "execution_count": 10,
   "id": "26573983",
   "metadata": {},
   "outputs": [],
   "source": [
    "model = Sequential()    #input layer 자동으로 설계됨\n",
    "model.add(Dense(512, input_shape=(3072,), activation='relu', name = 'Hidden1')) \n",
    "model.add(Dense(256, activation = 'relu', name = 'Hidden2'))\n",
    "model.add(Dense(512, activation = 'relu', name = 'Hidden3') )\n",
    "model.add(Dense(10, activation = 'sigmoid'))    # output Layer"
   ]
  },
  {
   "cell_type": "markdown",
   "id": "bba25a96",
   "metadata": {},
   "source": [
    "## 4. 모델 컴파일 "
   ]
  },
  {
   "cell_type": "markdown",
   "id": "592adf43",
   "metadata": {},
   "source": [
    "#### 손실함수(Loss function)  \n",
    "**회귀 : 평균제곱오차**   \n",
    "       - 연속형 변수를 예측할때 사용    \n",
    "   \n",
    "**분류 : 크로스 엔트로피**  \n",
    "       - 이진분류 : binary_crossentropy   \n",
    "       - 다중분류 : categorical_crossentropy"
   ]
  },
  {
   "cell_type": "code",
   "execution_count": 11,
   "id": "76513ebb",
   "metadata": {},
   "outputs": [
    {
     "name": "stdout",
     "output_type": "stream",
     "text": [
      "Model: \"sequential\"\n",
      "_________________________________________________________________\n",
      " Layer (type)                Output Shape              Param #   \n",
      "=================================================================\n",
      " Hidden1 (Dense)             (None, 512)               1573376   \n",
      "                                                                 \n",
      " Hidden2 (Dense)             (None, 256)               131328    \n",
      "                                                                 \n",
      " Hidden3 (Dense)             (None, 512)               131584    \n",
      "                                                                 \n",
      " dense (Dense)               (None, 10)                5130      \n",
      "                                                                 \n",
      "=================================================================\n",
      "Total params: 1,841,418\n",
      "Trainable params: 1,841,418\n",
      "Non-trainable params: 0\n",
      "_________________________________________________________________\n"
     ]
    }
   ],
   "source": [
    "model.compile(loss = 'categorical_crossentropy', optimizer = 'adam', metrics =['accuracy'])\n",
    "model.summary()"
   ]
  },
  {
   "cell_type": "markdown",
   "id": "94bba7a0",
   "metadata": {},
   "source": [
    "<font color=blue> *\n",
    "- optimizer = 훈련 과정을 설정하는 옵티마이저를 설정  \n",
    "- loss = 훈련 과정에서 사용할 손실 함수(loss function)를 설정  \n",
    "- metrics = 훈련을 모니터링하기 위한 지표  \n",
    "</font>"
   ]
  },
  {
   "cell_type": "markdown",
   "id": "3680b68b",
   "metadata": {},
   "source": [
    "## 5. 모델적합(fit)"
   ]
  },
  {
   "cell_type": "code",
   "execution_count": 12,
   "id": "180ad088",
   "metadata": {},
   "outputs": [
    {
     "name": "stdout",
     "output_type": "stream",
     "text": [
      "Epoch 1/10\n",
      "49/49 [==============================] - 6s 88ms/step - loss: 1.7684 - accuracy: 0.3796 - val_loss: 1.5446 - val_accuracy: 0.4546\n",
      "Epoch 2/10\n",
      "49/49 [==============================] - 4s 77ms/step - loss: 1.4665 - accuracy: 0.4853 - val_loss: 1.4626 - val_accuracy: 0.4855\n",
      "Epoch 3/10\n",
      "49/49 [==============================] - 4s 78ms/step - loss: 1.3317 - accuracy: 0.5334 - val_loss: 1.4093 - val_accuracy: 0.5005\n",
      "Epoch 4/10\n",
      "49/49 [==============================] - 4s 79ms/step - loss: 1.2164 - accuracy: 0.5732 - val_loss: 1.3979 - val_accuracy: 0.5105\n",
      "Epoch 5/10\n",
      "49/49 [==============================] - 4s 78ms/step - loss: 1.1262 - accuracy: 0.6082 - val_loss: 1.3796 - val_accuracy: 0.5205\n",
      "Epoch 6/10\n",
      "49/49 [==============================] - 4s 78ms/step - loss: 1.0243 - accuracy: 0.6439 - val_loss: 1.3664 - val_accuracy: 0.5294\n",
      "Epoch 7/10\n",
      "49/49 [==============================] - 4s 79ms/step - loss: 0.9255 - accuracy: 0.6801 - val_loss: 1.4075 - val_accuracy: 0.5301\n",
      "Epoch 8/10\n",
      "49/49 [==============================] - 4s 78ms/step - loss: 0.8532 - accuracy: 0.7038 - val_loss: 1.4197 - val_accuracy: 0.5343\n",
      "Epoch 9/10\n",
      "49/49 [==============================] - 4s 79ms/step - loss: 0.7594 - accuracy: 0.7379 - val_loss: 1.4764 - val_accuracy: 0.5358\n",
      "Epoch 10/10\n",
      "49/49 [==============================] - 4s 79ms/step - loss: 0.6789 - accuracy: 0.7675 - val_loss: 1.5720 - val_accuracy: 0.5290\n"
     ]
    },
    {
     "data": {
      "text/plain": [
       "<keras.callbacks.History at 0x2f6cad21a00>"
      ]
     },
     "execution_count": 12,
     "metadata": {},
     "output_type": "execute_result"
    }
   ],
   "source": [
    "model.fit(x_train, y_train, batch_size = 1024, epochs=10, validation_data=(x_test, y_test), verbose = 1)"
   ]
  },
  {
   "cell_type": "markdown",
   "id": "a1b9edb0",
   "metadata": {},
   "source": [
    "<font color=blue> **verbose = 학습 중 출력되는 문구를 설정**  \n",
    "- 0 : 아무 것도 출력하지 않습니다.  \n",
    "- 1 : 훈련의 진행도를 보여주는 진행 막대를 보여줍니다.  \n",
    "- 2 : 미니 배치마다 손실 정보를 출력합니다.  \n",
    "</font>"
   ]
  },
  {
   "cell_type": "markdown",
   "id": "2ba39b74",
   "metadata": {},
   "source": [
    "## 6. 모델평가"
   ]
  },
  {
   "cell_type": "code",
   "execution_count": 13,
   "id": "baed8c51",
   "metadata": {},
   "outputs": [
    {
     "name": "stdout",
     "output_type": "stream",
     "text": [
      "313/313 [==============================] - 3s 8ms/step - loss: 1.5720 - accuracy: 0.5290\n",
      "loss =  1.5720325708389282 test accuracy(정답율):  52.89999842643738\n"
     ]
    }
   ],
   "source": [
    "score = model.evaluate(x_test, y_test, verbose = 1)\n",
    "print('loss = ', score[0], 'test accuracy(정답율): ', score[1]*100)"
   ]
  },
  {
   "cell_type": "markdown",
   "id": "461db424",
   "metadata": {},
   "source": [
    "## 7. 예측"
   ]
  },
  {
   "cell_type": "code",
   "execution_count": null,
   "id": "b81c7292",
   "metadata": {},
   "outputs": [],
   "source": [
    "result_predict = model.predict_classes(x_test)\n",
    "print(result_predict)"
   ]
  },
  {
   "cell_type": "code",
   "execution_count": 17,
   "id": "daccd47e",
   "metadata": {},
   "outputs": [
    {
     "name": "stdout",
     "output_type": "stream",
     "text": [
      "[3 8 8 ... 5 5 7]\n"
     ]
    }
   ],
   "source": [
    "y_prob = model.predict(x_test, verbose=0) \n",
    "result_predict = y_prob.argmax(axis=-1)\n",
    "print(result_predict)"
   ]
  },
  {
   "cell_type": "code",
   "execution_count": 18,
   "id": "4622995f",
   "metadata": {},
   "outputs": [
    {
     "name": "stderr",
     "output_type": "stream",
     "text": [
      "Clipping input data to the valid range for imshow with RGB data ([0..1] for floats or [0..255] for integers).\n"
     ]
    },
    {
     "name": "stdout",
     "output_type": "stream",
     "text": [
      "3, "
     ]
    },
    {
     "data": {
      "image/png": "[encoded data removed]",
      "text/plain": [
       "<Figure size 432x288 with 1 Axes>"
      ]
     },
     "metadata": {
      "needs_background": "light"
     },
     "output_type": "display_data"
    },
    {
     "name": "stderr",
     "output_type": "stream",
     "text": [
      "Clipping input data to the valid range for imshow with RGB data ([0..1] for floats or [0..255] for integers).\n"
     ]
    },
    {
     "name": "stdout",
     "output_type": "stream",
     "text": [
      "8, "
     ]
    },
    {
     "data": {
      "image/png": "[encoded data removed]",
      "text/plain": [
       "<Figure size 432x288 with 1 Axes>"
      ]
     },
     "metadata": {
      "needs_background": "light"
     },
     "output_type": "display_data"
    },
    {
     "name": "stderr",
     "output_type": "stream",
     "text": [
      "Clipping input data to the valid range for imshow with RGB data ([0..1] for floats or [0..255] for integers).\n"
     ]
    },
    {
     "name": "stdout",
     "output_type": "stream",
     "text": [
      "8, "
     ]
    },
    {
     "data": {
      "image/png": "[encoded data removed]",
      "text/plain": [
       "<Figure size 432x288 with 1 Axes>"
      ]
     },
     "metadata": {
      "needs_background": "light"
     },
     "output_type": "display_data"
    },
    {
     "name": "stderr",
     "output_type": "stream",
     "text": [
      "Clipping input data to the valid range for imshow with RGB data ([0..1] for floats or [0..255] for integers).\n"
     ]
    },
    {
     "name": "stdout",
     "output_type": "stream",
     "text": [
      "8, "
     ]
    },
    {
     "data": {
      "image/png": "[encoded data removed]",
      "text/plain": [
       "<Figure size 432x288 with 1 Axes>"
      ]
     },
     "metadata": {
      "needs_background": "light"
     },
     "output_type": "display_data"
    },
    {
     "name": "stderr",
     "output_type": "stream",
     "text": [
      "Clipping input data to the valid range for imshow with RGB data ([0..1] for floats or [0..255] for integers).\n"
     ]
    },
    {
     "name": "stdout",
     "output_type": "stream",
     "text": [
      "6, "
     ]
    },
    {
     "data": {
      "image/png": "[encoded data removed]",
      "text/plain": [
       "<Figure size 432x288 with 1 Axes>"
      ]
     },
     "metadata": {
      "needs_background": "light"
     },
     "output_type": "display_data"
    },
    {
     "name": "stderr",
     "output_type": "stream",
     "text": [
      "Clipping input data to the valid range for imshow with RGB data ([0..1] for floats or [0..255] for integers).\n"
     ]
    },
    {
     "name": "stdout",
     "output_type": "stream",
     "text": [
      "6, "
     ]
    },
    {
     "data": {
      "image/png": "[encoded data removed]",
      "text/plain": [
       "<Figure size 432x288 with 1 Axes>"
      ]
     },
     "metadata": {
      "needs_background": "light"
     },
     "output_type": "display_data"
    },
    {
     "name": "stderr",
     "output_type": "stream",
     "text": [
      "Clipping input data to the valid range for imshow with RGB data ([0..1] for floats or [0..255] for integers).\n"
     ]
    },
    {
     "name": "stdout",
     "output_type": "stream",
     "text": [
      "3, "
     ]
    },
    {
     "data": {
      "image/png": "[encoded data removed]",
      "text/plain": [
       "<Figure size 432x288 with 1 Axes>"
      ]
     },
     "metadata": {
      "needs_background": "light"
     },
     "output_type": "display_data"
    },
    {
     "name": "stderr",
     "output_type": "stream",
     "text": [
      "Clipping input data to the valid range for imshow with RGB data ([0..1] for floats or [0..255] for integers).\n"
     ]
    },
    {
     "name": "stdout",
     "output_type": "stream",
     "text": [
      "6, "
     ]
    },
    {
     "data": {
      "image/png": "[encoded data removed]",
      "text/plain": [
       "<Figure size 432x288 with 1 Axes>"
      ]
     },
     "metadata": {
      "needs_background": "light"
     },
     "output_type": "display_data"
    },
    {
     "name": "stderr",
     "output_type": "stream",
     "text": [
      "Clipping input data to the valid range for imshow with RGB data ([0..1] for floats or [0..255] for integers).\n"
     ]
    },
    {
     "name": "stdout",
     "output_type": "stream",
     "text": [
      "2, "
     ]
    },
    {
     "data": {
      "image/png": "[encoded data removed]",
      "text/plain": [
       "<Figure size 432x288 with 1 Axes>"
      ]
     },
     "metadata": {
      "needs_background": "light"
     },
     "output_type": "display_data"
    },
    {
     "name": "stderr",
     "output_type": "stream",
     "text": [
      "Clipping input data to the valid range for imshow with RGB data ([0..1] for floats or [0..255] for integers).\n"
     ]
    },
    {
     "name": "stdout",
     "output_type": "stream",
     "text": [
      "9, "
     ]
    },
    {
     "data": {
      "image/png": "[encoded data removed]",
      "text/plain": [
       "<Figure size 432x288 with 1 Axes>"
      ]
     },
     "metadata": {
      "needs_background": "light"
     },
     "output_type": "display_data"
    },
    {
     "name": "stderr",
     "output_type": "stream",
     "text": [
      "Clipping input data to the valid range for imshow with RGB data ([0..1] for floats or [0..255] for integers).\n"
     ]
    },
    {
     "name": "stdout",
     "output_type": "stream",
     "text": [
      "0, "
     ]
    },
    {
     "data": {
      "image/png": "[encoded data removed]",
      "text/plain": [
       "<Figure size 432x288 with 1 Axes>"
      ]
     },
     "metadata": {
      "needs_background": "light"
     },
     "output_type": "display_data"
    },
    {
     "name": "stderr",
     "output_type": "stream",
     "text": [
      "Clipping input data to the valid range for imshow with RGB data ([0..1] for floats or [0..255] for integers).\n"
     ]
    },
    {
     "name": "stdout",
     "output_type": "stream",
     "text": [
      "9, "
     ]
    },
    {
     "data": {
      "image/png": "[encoded data removed]",
      "text/plain": [
       "<Figure size 432x288 with 1 Axes>"
      ]
     },
     "metadata": {
      "needs_background": "light"
     },
     "output_type": "display_data"
    },
    {
     "name": "stderr",
     "output_type": "stream",
     "text": [
      "Clipping input data to the valid range for imshow with RGB data ([0..1] for floats or [0..255] for integers).\n"
     ]
    },
    {
     "name": "stdout",
     "output_type": "stream",
     "text": [
      "5, "
     ]
    },
    {
     "data": {
      "image/png": "[encoded data removed]",
      "text/plain": [
       "<Figure size 432x288 with 1 Axes>"
      ]
     },
     "metadata": {
      "needs_background": "light"
     },
     "output_type": "display_data"
    },
    {
     "name": "stderr",
     "output_type": "stream",
     "text": [
      "Clipping input data to the valid range for imshow with RGB data ([0..1] for floats or [0..255] for integers).\n"
     ]
    },
    {
     "name": "stdout",
     "output_type": "stream",
     "text": [
      "5, "
     ]
    },
    {
     "data": {
      "image/png": "[encoded data removed]",
      "text/plain": [
       "<Figure size 432x288 with 1 Axes>"
      ]
     },
     "metadata": {
      "needs_background": "light"
     },
     "output_type": "display_data"
    },
    {
     "name": "stderr",
     "output_type": "stream",
     "text": [
      "Clipping input data to the valid range for imshow with RGB data ([0..1] for floats or [0..255] for integers).\n"
     ]
    },
    {
     "name": "stdout",
     "output_type": "stream",
     "text": [
      "1, "
     ]
    },
    {
     "data": {
      "image/png": "[encoded data removed]",
      "text/plain": [
       "<Figure size 432x288 with 1 Axes>"
      ]
     },
     "metadata": {
      "needs_background": "light"
     },
     "output_type": "display_data"
    },
    {
     "name": "stderr",
     "output_type": "stream",
     "text": [
      "Clipping input data to the valid range for imshow with RGB data ([0..1] for floats or [0..255] for integers).\n"
     ]
    },
    {
     "name": "stdout",
     "output_type": "stream",
     "text": [
      "5, "
     ]
    },
    {
     "data": {
      "image/png": "[encoded data removed]",
      "text/plain": [
       "<Figure size 432x288 with 1 Axes>"
      ]
     },
     "metadata": {
      "needs_background": "light"
     },
     "output_type": "display_data"
    },
    {
     "name": "stderr",
     "output_type": "stream",
     "text": [
      "Clipping input data to the valid range for imshow with RGB data ([0..1] for floats or [0..255] for integers).\n"
     ]
    },
    {
     "name": "stdout",
     "output_type": "stream",
     "text": [
      "3, "
     ]
    },
    {
     "data": {
      "image/png": "[encoded data removed]",
      "text/plain": [
       "<Figure size 432x288 with 1 Axes>"
      ]
     },
     "metadata": {
      "needs_background": "light"
     },
     "output_type": "display_data"
    },
    {
     "name": "stderr",
     "output_type": "stream",
     "text": [
      "Clipping input data to the valid range for imshow with RGB data ([0..1] for floats or [0..255] for integers).\n"
     ]
    },
    {
     "name": "stdout",
     "output_type": "stream",
     "text": [
      "9, "
     ]
    },
    {
     "data": {
      "image/png": "[encoded data removed]",
      "text/plain": [
       "<Figure size 432x288 with 1 Axes>"
      ]
     },
     "metadata": {
      "needs_background": "light"
     },
     "output_type": "display_data"
    },
    {
     "name": "stderr",
     "output_type": "stream",
     "text": [
      "Clipping input data to the valid range for imshow with RGB data ([0..1] for floats or [0..255] for integers).\n"
     ]
    },
    {
     "name": "stdout",
     "output_type": "stream",
     "text": [
      "8, "
     ]
    },
    {
     "data": {
      "image/png": "[encoded data removed]",
      "text/plain": [
       "<Figure size 432x288 with 1 Axes>"
      ]
     },
     "metadata": {
      "needs_background": "light"
     },
     "output_type": "display_data"
    },
    {
     "name": "stderr",
     "output_type": "stream",
     "text": [
      "Clipping input data to the valid range for imshow with RGB data ([0..1] for floats or [0..255] for integers).\n"
     ]
    },
    {
     "name": "stdout",
     "output_type": "stream",
     "text": [
      "6, "
     ]
    },
    {
     "data": {
      "image/png": "[encoded data removed]",
      "text/plain": [
       "<Figure size 432x288 with 1 Axes>"
      ]
     },
     "metadata": {
      "needs_background": "light"
     },
     "output_type": "display_data"
    }
   ],
   "source": [
    "x_test = x_test.reshape(10000, 32, 32, 3)\n",
    "\n",
    "for i in range(20): \n",
    "    plt.imshow(x_test[i]) \n",
    "    print(result_predict[i], end=\", \") \n",
    "    plt.show()"
   ]
  },
  {
   "cell_type": "markdown",
   "id": "c340fb80",
   "metadata": {},
   "source": [
    "## 8. 모델저장"
   ]
  },
  {
   "cell_type": "code",
   "execution_count": null,
   "id": "6c03d20d",
   "metadata": {},
   "outputs": [],
   "source": [
    "## 모델저장 ##\n",
    "\n",
    "# model.save(\"model_name.h5\")"
   ]
  },
  {
   "cell_type": "code",
   "execution_count": null,
   "id": "2aff0d19",
   "metadata": {},
   "outputs": [],
   "source": [
    "## 저장된 모델 로드 ## \n",
    "\n",
    "# from tensorflow.keras.models import load_model\n",
    "# model = load_model(\"model_name.h5\")"
   ]
  },
  {
   "cell_type": "code",
   "execution_count": null,
   "id": "1e2a6699",
   "metadata": {},
   "outputs": [],
   "source": []
  }
 ],
 "metadata": {
  "kernelspec": {
   "display_name": "Python 3",
   "language": "python",
   "name": "python3"
  },
  "language_info": {
   "codemirror_mode": {
    "name": "ipython",
    "version": 3
   },
   "file_extension": ".py",
   "mimetype": "text/x-python",
   "name": "python",
   "nbconvert_exporter": "python",
   "pygments_lexer": "ipython3",
   "version": "3.8.8"
  }
 },
 "nbformat": 4,
 "nbformat_minor": 5
}
