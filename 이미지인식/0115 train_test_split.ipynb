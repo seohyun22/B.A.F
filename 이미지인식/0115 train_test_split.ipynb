{
 "cells": [
  {
   "cell_type": "code",
   "execution_count": 1,
   "id": "c1a0db13",
   "metadata": {},
   "outputs": [],
   "source": [
    "import os \n",
    "from glob import glob\n",
    "import shutil\n",
    "import random\n",
    "\n",
    "import torchvision \n",
    "from torchvision import transforms"
   ]
  },
  {
   "cell_type": "code",
   "execution_count": 2,
   "id": "d0328060",
   "metadata": {},
   "outputs": [],
   "source": [
    "data_dir = './dataset/'\n",
    "\n",
    "cat = glob(os.path.join(data_dir,'cat/*'))\n",
    "dog = glob(os.path.join(data_dir,'dog/*'))"
   ]
  },
  {
   "cell_type": "code",
   "execution_count": 3,
   "id": "ae58736a",
   "metadata": {},
   "outputs": [
    {
     "name": "stdout",
     "output_type": "stream",
     "text": [
      "cat 이미지 개수:  444\n",
      "dog 이미지 개수:  469\n"
     ]
    }
   ],
   "source": [
    "# 이미지 정렬\n",
    "cat = sorted(glob(os.path.join(data_dir,'cat/*')))\n",
    "dog = sorted(glob(os.path.join(data_dir,'dog/*')))\n",
    "print('cat 이미지 개수: ',len(cat))\n",
    "print('dog 이미지 개수: ',len(dog))"
   ]
  },
  {
   "cell_type": "markdown",
   "id": "bbc29dc4",
   "metadata": {},
   "source": [
    "# train/test split "
   ]
  },
  {
   "cell_type": "code",
   "execution_count": 4,
   "id": "f9a3d6e1",
   "metadata": {},
   "outputs": [],
   "source": [
    "cat_train_path='./dataset/train/cat'\n",
    "cat_valid_path='./dataset/valid/cat'\n",
    "cat_test_path='./dataset/test/cat'\n",
    "\n",
    "dog_train_path='./dataset/train/dog'\n",
    "dog_valid_path='./dataset/valid/dog'\n",
    "dog_test_path='./dataset/test/dog'"
   ]
  },
  {
   "cell_type": "code",
   "execution_count": 5,
   "id": "79d9ef02",
   "metadata": {},
   "outputs": [],
   "source": [
    "# test split -> validation split\n",
    "cat_temp='./dataset/temp/cat'\n",
    "dog_temp='./dataset/temp/dog'"
   ]
  },
  {
   "cell_type": "code",
   "execution_count": 6,
   "id": "2336e69a",
   "metadata": {},
   "outputs": [
    {
     "name": "stdout",
     "output_type": "stream",
     "text": [
      "cats test 이미지 개수:  89\n",
      "dogs test 이미지 개수:  94\n"
     ]
    }
   ],
   "source": [
    "# 비율 계산 \n",
    "import math\n",
    "\n",
    "cat_split_count = round(len(cat)*0.2)\n",
    "dog_split_count = round(len(dog)*0.2)\n",
    "\n",
    "print('cats test 이미지 개수: ', cat_split_count)\n",
    "print('dogs test 이미지 개수: ', dog_split_count)\n",
    "\n",
    "# validation set도 같은 갯수로 쪼개기"
   ]
  },
  {
   "cell_type": "code",
   "execution_count": 7,
   "id": "a788de91",
   "metadata": {},
   "outputs": [],
   "source": [
    "def split( img_list, split_count, train_path, test_path):\n",
    "  \n",
    "    test_files=[]\n",
    "    for i in random.sample( img_list, split_count ):\n",
    "        test_files.append(i)\n",
    "\n",
    "    # 차집합으로 train/test 리스트 생성하기\n",
    "    train_files = [x for x in img_list if x not in test_files]\n",
    "\n",
    "    for k in train_files:\n",
    "        shutil.copy(k, train_path)\n",
    "  \n",
    "    for c in test_files:\n",
    "        shutil.copy(c, test_path)"
   ]
  },
  {
   "cell_type": "code",
   "execution_count": 8,
   "id": "bc89b32b",
   "metadata": {},
   "outputs": [],
   "source": [
    "split(cat, cat_split_count, cat_temp, cat_test_path)\n",
    "split(dog, dog_split_count, dog_temp, dog_test_path)"
   ]
  },
  {
   "cell_type": "code",
   "execution_count": 9,
   "id": "3eff40ef",
   "metadata": {},
   "outputs": [
    {
     "name": "stdout",
     "output_type": "stream",
     "text": [
      "cat_train 이미지 수:  355\n",
      "cat_test 이미지 수:  89\n",
      "dog_train 이미지 수:  375\n",
      "dog_test 이미지 수:  94\n"
     ]
    }
   ],
   "source": [
    "print('cat_train 이미지 수: ', len(glob(os.path.join(data_dir,'temp/cat/*'))))\n",
    "print('cat_test 이미지 수: ', len(glob(os.path.join(data_dir,'test/cat/*'))))\n",
    "print('dog_train 이미지 수: ', len(glob(os.path.join(data_dir,'temp/dog/*'))))\n",
    "print('dog_test 이미지 수: ', len(glob(os.path.join(data_dir,'test/dog/*'))))"
   ]
  },
  {
   "cell_type": "code",
   "execution_count": 10,
   "id": "6be64846",
   "metadata": {},
   "outputs": [
    {
     "name": "stdout",
     "output_type": "stream",
     "text": [
      "cat2 이미지 개수:  355\n",
      "dog2 이미지 개수:  375\n"
     ]
    }
   ],
   "source": [
    "cat2 = glob(os.path.join(data_dir,'temp/cat/*'))\n",
    "dog2 = glob(os.path.join(data_dir,'temp/dog/*'))\n",
    "\n",
    "print('cat2 이미지 개수: ',len(cat2))\n",
    "print('dog2 이미지 개수: ',len(dog2))"
   ]
  },
  {
   "cell_type": "code",
   "execution_count": 11,
   "id": "532ee5e9",
   "metadata": {},
   "outputs": [],
   "source": [
    "def split2( img_list, split_count, train_path, valid_path):\n",
    "  \n",
    "    valid_files=[]\n",
    "    for i in random.sample( img_list, split_count ):\n",
    "        valid_files.append(i)\n",
    "\n",
    "    # 차집합으로 train/test 리스트 생성하기\n",
    "    train_files = [x for x in img_list if x not in valid_files]\n",
    "\n",
    "    for k in train_files:\n",
    "        shutil.copy(k, train_path)\n",
    "  \n",
    "    for c in valid_files:\n",
    "        shutil.copy(c, valid_path)"
   ]
  },
  {
   "cell_type": "code",
   "execution_count": 12,
   "id": "72b33ad5",
   "metadata": {},
   "outputs": [],
   "source": [
    "split2(cat2, 89, cat_train_path, cat_valid_path)\n",
    "split2(dog2, 94, dog_train_path, dog_valid_path)"
   ]
  },
  {
   "cell_type": "code",
   "execution_count": 13,
   "id": "bf6622d5",
   "metadata": {},
   "outputs": [
    {
     "name": "stdout",
     "output_type": "stream",
     "text": [
      "cat_train 이미지 수:  266\n",
      "cat_valid 이미지 수:  89\n",
      "cat_test 이미지 수:  89\n",
      "---------------------------\n",
      "dog_train 이미지 수:  281\n",
      "dog_valid 이미지 수:  94\n",
      "dog_test 이미지 수:  94\n"
     ]
    }
   ],
   "source": [
    "print('cat_train 이미지 수: ', len(glob(os.path.join(data_dir,'train/cat/*'))))\n",
    "print('cat_valid 이미지 수: ', len(glob(os.path.join(data_dir,'valid/cat/*'))))\n",
    "print('cat_test 이미지 수: ', len(glob(os.path.join(data_dir,'test/cat/*'))))\n",
    "print('---------------------------')\n",
    "print('dog_train 이미지 수: ', len(glob(os.path.join(data_dir,'train/dog/*'))))\n",
    "print('dog_valid 이미지 수: ', len(glob(os.path.join(data_dir,'valid/dog/*'))))\n",
    "print('dog_test 이미지 수: ', len(glob(os.path.join(data_dir,'test/dog/*'))))"
   ]
  },
  {
   "cell_type": "markdown",
   "id": "8ac4c32a",
   "metadata": {},
   "source": [
    "# 이미지 다시 넘버링 "
   ]
  },
  {
   "cell_type": "code",
   "execution_count": 14,
   "id": "2a3510e7",
   "metadata": {},
   "outputs": [],
   "source": [
    "def rename(files):\n",
    "\n",
    "    if 'cat' in files[0]:\n",
    "        for i,f in enumerate(files):\n",
    "            os.rename(f, os.path.join(path+\"/cat\", 'cat_' + '{0:03d}.jpg'.format(i)))\n",
    "        cat = glob.glob(path+\"/cat\" + '/*')    \n",
    "        print(\"cat {}번째 이미지까지 성공\".format(i+1))\n",
    "\n",
    "    elif 'dog' in files[0]:\n",
    "        for i,f in enumerate(files):\n",
    "            os.rename(f, os.path.join(path+\"/dog\", 'dog_' + '{0:03d}.jpg'.format(i)))\n",
    "        dog = glob.glob(path+\"/dog\"+'/*')\n",
    "        print(\"dog {}번째 이미지까지 성공\".format(i+1))"
   ]
  },
  {
   "cell_type": "code",
   "execution_count": 15,
   "id": "58f2f7ec",
   "metadata": {},
   "outputs": [],
   "source": [
    "# train 이미지 넘버링 \n",
    "import glob\n",
    "\n",
    "path = \"./dataset/train\"\n",
    "cat = glob.glob(path+\"/cat\" + '/*')\n",
    "dog = glob.glob(path+\"/dog\" + '/*')"
   ]
  },
  {
   "cell_type": "code",
   "execution_count": 16,
   "id": "3cae6ddb",
   "metadata": {},
   "outputs": [
    {
     "name": "stdout",
     "output_type": "stream",
     "text": [
      "cat 266번째 이미지까지 성공\n",
      "dog 281번째 이미지까지 성공\n"
     ]
    }
   ],
   "source": [
    "rename(cat)\n",
    "rename(dog)"
   ]
  },
  {
   "cell_type": "code",
   "execution_count": 17,
   "id": "18d57ee7",
   "metadata": {},
   "outputs": [],
   "source": [
    "# validation 이미지 넘버링 \n",
    "import glob\n",
    "\n",
    "path = \"./dataset/valid\"\n",
    "cat = glob.glob(path+\"/cat\" + '/*')\n",
    "dog = glob.glob(path+\"/dog\" + '/*')"
   ]
  },
  {
   "cell_type": "code",
   "execution_count": 18,
   "id": "66fa2b6e",
   "metadata": {},
   "outputs": [
    {
     "name": "stdout",
     "output_type": "stream",
     "text": [
      "cat 89번째 이미지까지 성공\n",
      "dog 94번째 이미지까지 성공\n"
     ]
    }
   ],
   "source": [
    "rename(cat)\n",
    "rename(dog)"
   ]
  },
  {
   "cell_type": "code",
   "execution_count": 19,
   "id": "d6c44354",
   "metadata": {},
   "outputs": [],
   "source": [
    "# test 이미지 넘버링 \n",
    "import glob\n",
    "\n",
    "path = \"./dataset/test\"\n",
    "cat = glob.glob(path+\"/cat\" + '/*')\n",
    "dog = glob.glob(path+\"/dog\" + '/*')"
   ]
  },
  {
   "cell_type": "code",
   "execution_count": 20,
   "id": "c03c8c99",
   "metadata": {},
   "outputs": [
    {
     "name": "stdout",
     "output_type": "stream",
     "text": [
      "cat 89번째 이미지까지 성공\n",
      "dog 94번째 이미지까지 성공\n"
     ]
    }
   ],
   "source": [
    "rename(cat)\n",
    "rename(dog)"
   ]
  },
  {
   "cell_type": "code",
   "execution_count": null,
   "id": "6066e089",
   "metadata": {},
   "outputs": [],
   "source": []
  },
  {
   "cell_type": "code",
   "execution_count": null,
   "id": "062573a1",
   "metadata": {},
   "outputs": [],
   "source": []
  },
  {
   "cell_type": "code",
   "execution_count": null,
   "id": "cdfe6ba8",
   "metadata": {},
   "outputs": [],
   "source": []
  },
  {
   "cell_type": "code",
   "execution_count": null,
   "id": "4a366029",
   "metadata": {},
   "outputs": [],
   "source": []
  }
 ],
 "metadata": {
  "kernelspec": {
   "display_name": "Python 3",
   "language": "python",
   "name": "python3"
  },
  "language_info": {
   "codemirror_mode": {
    "name": "ipython",
    "version": 3
   },
   "file_extension": ".py",
   "mimetype": "text/x-python",
   "name": "python",
   "nbconvert_exporter": "python",
   "pygments_lexer": "ipython3",
   "version": "3.8.8"
  }
 },
 "nbformat": 4,
 "nbformat_minor": 5
}
