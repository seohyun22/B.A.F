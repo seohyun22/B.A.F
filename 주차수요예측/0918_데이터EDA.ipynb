{
 "cells": [
  {
   "cell_type": "code",
   "execution_count": 1,
   "metadata": {},
   "outputs": [],
   "source": [
    "import pandas as pd\n",
    "import numpy as np\n",
    "import matplotlib.pyplot as plt \n",
    "import seaborn as sns"
   ]
  },
  {
   "cell_type": "code",
   "execution_count": 2,
   "metadata": {},
   "outputs": [],
   "source": [
    "age_gender = pd.read_csv(\"C:/Users/서현/python/비어플학회/프로젝트_주차수요/age_gender_info.csv\")\n",
    "sample_submission = pd.read_csv(\"C:/Users/서현/python/비어플학회/프로젝트_주차수요/sample_submission.csv\")\n",
    "test = pd.read_csv(\"C:/Users/서현/python/비어플학회/프로젝트_주차수요/test.csv\")\n",
    "train = pd.read_csv(\"C:/Users/서현/python/비어플학회/프로젝트_주차수요/train.csv\")"
   ]
  },
  {
   "cell_type": "code",
   "execution_count": 3,
   "metadata": {},
   "outputs": [
    {
     "name": "stdout",
     "output_type": "stream",
     "text": [
      "<class 'pandas.core.frame.DataFrame'>\n",
      "RangeIndex: 2952 entries, 0 to 2951\n",
      "Data columns (total 15 columns):\n",
      " #   Column                        Non-Null Count  Dtype  \n",
      "---  ------                        --------------  -----  \n",
      " 0   단지코드                          2952 non-null   object \n",
      " 1   총세대수                          2952 non-null   int64  \n",
      " 2   임대건물구분                        2952 non-null   object \n",
      " 3   지역                            2952 non-null   object \n",
      " 4   공급유형                          2952 non-null   object \n",
      " 5   전용면적                          2952 non-null   float64\n",
      " 6   전용면적별세대수                      2952 non-null   int64  \n",
      " 7   공가수                           2952 non-null   float64\n",
      " 8   자격유형                          2952 non-null   object \n",
      " 9   임대보증금                         2383 non-null   object \n",
      " 10  임대료                           2383 non-null   object \n",
      " 11  도보 10분거리 내 지하철역 수(환승노선 수 반영)  2741 non-null   float64\n",
      " 12  도보 10분거리 내 버스정류장 수            2948 non-null   float64\n",
      " 13  단지내주차면수                       2952 non-null   float64\n",
      " 14  등록차량수                         2952 non-null   float64\n",
      "dtypes: float64(6), int64(2), object(7)\n",
      "memory usage: 346.1+ KB\n"
     ]
    }
   ],
   "source": [
    "train.info()"
   ]
  },
  {
   "cell_type": "code",
   "execution_count": 4,
   "metadata": {},
   "outputs": [
    {
     "name": "stdout",
     "output_type": "stream",
     "text": [
      "<class 'pandas.core.frame.DataFrame'>\n",
      "RangeIndex: 1022 entries, 0 to 1021\n",
      "Data columns (total 14 columns):\n",
      " #   Column                        Non-Null Count  Dtype  \n",
      "---  ------                        --------------  -----  \n",
      " 0   단지코드                          1022 non-null   object \n",
      " 1   총세대수                          1022 non-null   int64  \n",
      " 2   임대건물구분                        1022 non-null   object \n",
      " 3   지역                            1022 non-null   object \n",
      " 4   공급유형                          1022 non-null   object \n",
      " 5   전용면적                          1022 non-null   float64\n",
      " 6   전용면적별세대수                      1022 non-null   int64  \n",
      " 7   공가수                           1022 non-null   float64\n",
      " 8   자격유형                          1020 non-null   object \n",
      " 9   임대보증금                         842 non-null    object \n",
      " 10  임대료                           842 non-null    object \n",
      " 11  도보 10분거리 내 지하철역 수(환승노선 수 반영)  980 non-null    float64\n",
      " 12  도보 10분거리 내 버스정류장 수            1022 non-null   float64\n",
      " 13  단지내주차면수                       1022 non-null   float64\n",
      "dtypes: float64(5), int64(2), object(7)\n",
      "memory usage: 111.9+ KB\n"
     ]
    }
   ],
   "source": [
    "test.info()"
   ]
  },
  {
   "cell_type": "code",
   "execution_count": 5,
   "metadata": {},
   "outputs": [
    {
     "name": "stdout",
     "output_type": "stream",
     "text": [
      "<class 'pandas.core.frame.DataFrame'>\n",
      "RangeIndex: 150 entries, 0 to 149\n",
      "Data columns (total 2 columns):\n",
      " #   Column  Non-Null Count  Dtype \n",
      "---  ------  --------------  ----- \n",
      " 0   code    150 non-null    object\n",
      " 1   num     150 non-null    int64 \n",
      "dtypes: int64(1), object(1)\n",
      "memory usage: 2.5+ KB\n"
     ]
    }
   ],
   "source": [
    "sample_submission.info()"
   ]
  },
  {
   "cell_type": "code",
   "execution_count": 6,
   "metadata": {},
   "outputs": [
    {
     "name": "stdout",
     "output_type": "stream",
     "text": [
      "<class 'pandas.core.frame.DataFrame'>\n",
      "RangeIndex: 16 entries, 0 to 15\n",
      "Data columns (total 23 columns):\n",
      " #   Column     Non-Null Count  Dtype  \n",
      "---  ------     --------------  -----  \n",
      " 0   지역         16 non-null     object \n",
      " 1   10대미만(여자)  16 non-null     float64\n",
      " 2   10대미만(남자)  16 non-null     float64\n",
      " 3   10대(여자)    16 non-null     float64\n",
      " 4   10대(남자)    16 non-null     float64\n",
      " 5   20대(여자)    16 non-null     float64\n",
      " 6   20대(남자)    16 non-null     float64\n",
      " 7   30대(여자)    16 non-null     float64\n",
      " 8   30대(남자)    16 non-null     float64\n",
      " 9   40대(여자)    16 non-null     float64\n",
      " 10  40대(남자)    16 non-null     float64\n",
      " 11  50대(여자)    16 non-null     float64\n",
      " 12  50대(남자)    16 non-null     float64\n",
      " 13  60대(여자)    16 non-null     float64\n",
      " 14  60대(남자)    16 non-null     float64\n",
      " 15  70대(여자)    16 non-null     float64\n",
      " 16  70대(남자)    16 non-null     float64\n",
      " 17  80대(여자)    16 non-null     float64\n",
      " 18  80대(남자)    16 non-null     float64\n",
      " 19  90대(여자)    16 non-null     float64\n",
      " 20  90대(남자)    16 non-null     float64\n",
      " 21  100대(여자)   16 non-null     float64\n",
      " 22  100대(남자)   16 non-null     float64\n",
      "dtypes: float64(22), object(1)\n",
      "memory usage: 3.0+ KB\n"
     ]
    }
   ],
   "source": [
    "age_gender.info()"
   ]
  },
  {
   "cell_type": "code",
   "execution_count": null,
   "metadata": {},
   "outputs": [],
   "source": []
  },
  {
   "cell_type": "markdown",
   "metadata": {},
   "source": [
    "### test데이터에 등록차량수데이터(sample_submission) 추가"
   ]
  },
  {
   "cell_type": "code",
   "execution_count": 7,
   "metadata": {},
   "outputs": [],
   "source": [
    "train_data = train"
   ]
  },
  {
   "cell_type": "code",
   "execution_count": 8,
   "metadata": {},
   "outputs": [],
   "source": [
    "test_data = pd.merge(test, sample_submission, how='inner',left_on='단지코드', right_on='code')"
   ]
  },
  {
   "cell_type": "code",
   "execution_count": 9,
   "metadata": {},
   "outputs": [],
   "source": [
    "test_data = test_data.drop(['code'], axis=1)\n",
    "test_data.rename(columns = {'num' : '등록차량수'}, inplace=True)"
   ]
  },
  {
   "cell_type": "code",
   "execution_count": 10,
   "metadata": {},
   "outputs": [
    {
     "name": "stdout",
     "output_type": "stream",
     "text": [
      "<class 'pandas.core.frame.DataFrame'>\n",
      "Int64Index: 1022 entries, 0 to 1021\n",
      "Data columns (total 15 columns):\n",
      " #   Column                        Non-Null Count  Dtype  \n",
      "---  ------                        --------------  -----  \n",
      " 0   단지코드                          1022 non-null   object \n",
      " 1   총세대수                          1022 non-null   int64  \n",
      " 2   임대건물구분                        1022 non-null   object \n",
      " 3   지역                            1022 non-null   object \n",
      " 4   공급유형                          1022 non-null   object \n",
      " 5   전용면적                          1022 non-null   float64\n",
      " 6   전용면적별세대수                      1022 non-null   int64  \n",
      " 7   공가수                           1022 non-null   float64\n",
      " 8   자격유형                          1020 non-null   object \n",
      " 9   임대보증금                         842 non-null    object \n",
      " 10  임대료                           842 non-null    object \n",
      " 11  도보 10분거리 내 지하철역 수(환승노선 수 반영)  980 non-null    float64\n",
      " 12  도보 10분거리 내 버스정류장 수            1022 non-null   float64\n",
      " 13  단지내주차면수                       1022 non-null   float64\n",
      " 14  등록차량수                         1022 non-null   int64  \n",
      "dtypes: float64(5), int64(3), object(7)\n",
      "memory usage: 127.8+ KB\n"
     ]
    }
   ],
   "source": [
    "test_data.info()"
   ]
  },
  {
   "cell_type": "markdown",
   "metadata": {},
   "source": [
    "--------"
   ]
  },
  {
   "cell_type": "markdown",
   "metadata": {},
   "source": [
    "# 데이터전처리"
   ]
  },
  {
   "cell_type": "code",
   "execution_count": 11,
   "metadata": {},
   "outputs": [
    {
     "data": {
      "text/html": [
       "<div>\n",
       "<style scoped>\n",
       "    .dataframe tbody tr th:only-of-type {\n",
       "        vertical-align: middle;\n",
       "    }\n",
       "\n",
       "    .dataframe tbody tr th {\n",
       "        vertical-align: top;\n",
       "    }\n",
       "\n",
       "    .dataframe thead th {\n",
       "        text-align: right;\n",
       "    }\n",
       "</style>\n",
       "<table border=\"1\" class=\"dataframe\">\n",
       "  <thead>\n",
       "    <tr style=\"text-align: right;\">\n",
       "      <th></th>\n",
       "      <th>단지코드</th>\n",
       "      <th>총세대수</th>\n",
       "      <th>임대건물구분</th>\n",
       "      <th>지역</th>\n",
       "      <th>공급유형</th>\n",
       "      <th>전용면적</th>\n",
       "      <th>전용면적별세대수</th>\n",
       "      <th>공가수</th>\n",
       "      <th>자격유형</th>\n",
       "      <th>임대보증금</th>\n",
       "      <th>임대료</th>\n",
       "      <th>도보 10분거리 내 지하철역 수(환승노선 수 반영)</th>\n",
       "      <th>도보 10분거리 내 버스정류장 수</th>\n",
       "      <th>단지내주차면수</th>\n",
       "      <th>등록차량수</th>\n",
       "    </tr>\n",
       "  </thead>\n",
       "  <tbody>\n",
       "    <tr>\n",
       "      <th>2547</th>\n",
       "      <td>C1326</td>\n",
       "      <td>1934</td>\n",
       "      <td>아파트</td>\n",
       "      <td>부산광역시</td>\n",
       "      <td>국민임대</td>\n",
       "      <td>24.72</td>\n",
       "      <td>472</td>\n",
       "      <td>43.0</td>\n",
       "      <td>H</td>\n",
       "      <td>-</td>\n",
       "      <td>-</td>\n",
       "      <td>0.0</td>\n",
       "      <td>4.0</td>\n",
       "      <td>1670.0</td>\n",
       "      <td>1153.0</td>\n",
       "    </tr>\n",
       "    <tr>\n",
       "      <th>2548</th>\n",
       "      <td>C1326</td>\n",
       "      <td>1934</td>\n",
       "      <td>아파트</td>\n",
       "      <td>부산광역시</td>\n",
       "      <td>국민임대</td>\n",
       "      <td>24.79</td>\n",
       "      <td>104</td>\n",
       "      <td>43.0</td>\n",
       "      <td>H</td>\n",
       "      <td>-</td>\n",
       "      <td>-</td>\n",
       "      <td>0.0</td>\n",
       "      <td>4.0</td>\n",
       "      <td>1670.0</td>\n",
       "      <td>1153.0</td>\n",
       "    </tr>\n",
       "    <tr>\n",
       "      <th>2549</th>\n",
       "      <td>C1326</td>\n",
       "      <td>1934</td>\n",
       "      <td>아파트</td>\n",
       "      <td>부산광역시</td>\n",
       "      <td>국민임대</td>\n",
       "      <td>26.83</td>\n",
       "      <td>590</td>\n",
       "      <td>43.0</td>\n",
       "      <td>H</td>\n",
       "      <td>-</td>\n",
       "      <td>-</td>\n",
       "      <td>0.0</td>\n",
       "      <td>4.0</td>\n",
       "      <td>1670.0</td>\n",
       "      <td>1153.0</td>\n",
       "    </tr>\n",
       "    <tr>\n",
       "      <th>2550</th>\n",
       "      <td>C1326</td>\n",
       "      <td>1934</td>\n",
       "      <td>아파트</td>\n",
       "      <td>부산광역시</td>\n",
       "      <td>국민임대</td>\n",
       "      <td>37.70</td>\n",
       "      <td>464</td>\n",
       "      <td>43.0</td>\n",
       "      <td>H</td>\n",
       "      <td>-</td>\n",
       "      <td>-</td>\n",
       "      <td>0.0</td>\n",
       "      <td>4.0</td>\n",
       "      <td>1670.0</td>\n",
       "      <td>1153.0</td>\n",
       "    </tr>\n",
       "    <tr>\n",
       "      <th>2551</th>\n",
       "      <td>C1326</td>\n",
       "      <td>1934</td>\n",
       "      <td>아파트</td>\n",
       "      <td>부산광역시</td>\n",
       "      <td>국민임대</td>\n",
       "      <td>46.94</td>\n",
       "      <td>304</td>\n",
       "      <td>43.0</td>\n",
       "      <td>H</td>\n",
       "      <td>-</td>\n",
       "      <td>-</td>\n",
       "      <td>0.0</td>\n",
       "      <td>4.0</td>\n",
       "      <td>1670.0</td>\n",
       "      <td>1153.0</td>\n",
       "    </tr>\n",
       "    <tr>\n",
       "      <th>2680</th>\n",
       "      <td>C1786</td>\n",
       "      <td>480</td>\n",
       "      <td>아파트</td>\n",
       "      <td>강원도</td>\n",
       "      <td>행복주택</td>\n",
       "      <td>16.91</td>\n",
       "      <td>156</td>\n",
       "      <td>25.0</td>\n",
       "      <td>K</td>\n",
       "      <td>-</td>\n",
       "      <td>-</td>\n",
       "      <td>0.0</td>\n",
       "      <td>3.0</td>\n",
       "      <td>338.0</td>\n",
       "      <td>345.0</td>\n",
       "    </tr>\n",
       "    <tr>\n",
       "      <th>2681</th>\n",
       "      <td>C1786</td>\n",
       "      <td>480</td>\n",
       "      <td>아파트</td>\n",
       "      <td>강원도</td>\n",
       "      <td>행복주택</td>\n",
       "      <td>26.90</td>\n",
       "      <td>136</td>\n",
       "      <td>25.0</td>\n",
       "      <td>K</td>\n",
       "      <td>-</td>\n",
       "      <td>-</td>\n",
       "      <td>0.0</td>\n",
       "      <td>3.0</td>\n",
       "      <td>338.0</td>\n",
       "      <td>345.0</td>\n",
       "    </tr>\n",
       "    <tr>\n",
       "      <th>2682</th>\n",
       "      <td>C1786</td>\n",
       "      <td>480</td>\n",
       "      <td>아파트</td>\n",
       "      <td>강원도</td>\n",
       "      <td>행복주택</td>\n",
       "      <td>26.90</td>\n",
       "      <td>72</td>\n",
       "      <td>25.0</td>\n",
       "      <td>K</td>\n",
       "      <td>-</td>\n",
       "      <td>-</td>\n",
       "      <td>0.0</td>\n",
       "      <td>3.0</td>\n",
       "      <td>338.0</td>\n",
       "      <td>345.0</td>\n",
       "    </tr>\n",
       "    <tr>\n",
       "      <th>2683</th>\n",
       "      <td>C1786</td>\n",
       "      <td>480</td>\n",
       "      <td>아파트</td>\n",
       "      <td>강원도</td>\n",
       "      <td>행복주택</td>\n",
       "      <td>26.90</td>\n",
       "      <td>24</td>\n",
       "      <td>25.0</td>\n",
       "      <td>K</td>\n",
       "      <td>-</td>\n",
       "      <td>-</td>\n",
       "      <td>0.0</td>\n",
       "      <td>3.0</td>\n",
       "      <td>338.0</td>\n",
       "      <td>345.0</td>\n",
       "    </tr>\n",
       "    <tr>\n",
       "      <th>2906</th>\n",
       "      <td>C2186</td>\n",
       "      <td>924</td>\n",
       "      <td>아파트</td>\n",
       "      <td>대구광역시</td>\n",
       "      <td>국민임대</td>\n",
       "      <td>29.17</td>\n",
       "      <td>238</td>\n",
       "      <td>0.0</td>\n",
       "      <td>H</td>\n",
       "      <td>-</td>\n",
       "      <td>-</td>\n",
       "      <td>0.0</td>\n",
       "      <td>8.0</td>\n",
       "      <td>664.0</td>\n",
       "      <td>744.0</td>\n",
       "    </tr>\n",
       "    <tr>\n",
       "      <th>2907</th>\n",
       "      <td>C2186</td>\n",
       "      <td>924</td>\n",
       "      <td>아파트</td>\n",
       "      <td>대구광역시</td>\n",
       "      <td>국민임대</td>\n",
       "      <td>29.34</td>\n",
       "      <td>38</td>\n",
       "      <td>0.0</td>\n",
       "      <td>H</td>\n",
       "      <td>-</td>\n",
       "      <td>-</td>\n",
       "      <td>0.0</td>\n",
       "      <td>8.0</td>\n",
       "      <td>664.0</td>\n",
       "      <td>744.0</td>\n",
       "    </tr>\n",
       "    <tr>\n",
       "      <th>2908</th>\n",
       "      <td>C2186</td>\n",
       "      <td>924</td>\n",
       "      <td>아파트</td>\n",
       "      <td>대구광역시</td>\n",
       "      <td>국민임대</td>\n",
       "      <td>37.43</td>\n",
       "      <td>220</td>\n",
       "      <td>0.0</td>\n",
       "      <td>H</td>\n",
       "      <td>-</td>\n",
       "      <td>-</td>\n",
       "      <td>0.0</td>\n",
       "      <td>8.0</td>\n",
       "      <td>664.0</td>\n",
       "      <td>744.0</td>\n",
       "    </tr>\n",
       "  </tbody>\n",
       "</table>\n",
       "</div>"
      ],
      "text/plain": [
       "       단지코드  총세대수 임대건물구분     지역  공급유형   전용면적  전용면적별세대수   공가수 자격유형 임대보증금 임대료  \\\n",
       "2547  C1326  1934    아파트  부산광역시  국민임대  24.72       472  43.0    H     -   -   \n",
       "2548  C1326  1934    아파트  부산광역시  국민임대  24.79       104  43.0    H     -   -   \n",
       "2549  C1326  1934    아파트  부산광역시  국민임대  26.83       590  43.0    H     -   -   \n",
       "2550  C1326  1934    아파트  부산광역시  국민임대  37.70       464  43.0    H     -   -   \n",
       "2551  C1326  1934    아파트  부산광역시  국민임대  46.94       304  43.0    H     -   -   \n",
       "2680  C1786   480    아파트    강원도  행복주택  16.91       156  25.0    K     -   -   \n",
       "2681  C1786   480    아파트    강원도  행복주택  26.90       136  25.0    K     -   -   \n",
       "2682  C1786   480    아파트    강원도  행복주택  26.90        72  25.0    K     -   -   \n",
       "2683  C1786   480    아파트    강원도  행복주택  26.90        24  25.0    K     -   -   \n",
       "2906  C2186   924    아파트  대구광역시  국민임대  29.17       238   0.0    H     -   -   \n",
       "2907  C2186   924    아파트  대구광역시  국민임대  29.34        38   0.0    H     -   -   \n",
       "2908  C2186   924    아파트  대구광역시  국민임대  37.43       220   0.0    H     -   -   \n",
       "\n",
       "      도보 10분거리 내 지하철역 수(환승노선 수 반영)  도보 10분거리 내 버스정류장 수  단지내주차면수   등록차량수  \n",
       "2547                           0.0                 4.0   1670.0  1153.0  \n",
       "2548                           0.0                 4.0   1670.0  1153.0  \n",
       "2549                           0.0                 4.0   1670.0  1153.0  \n",
       "2550                           0.0                 4.0   1670.0  1153.0  \n",
       "2551                           0.0                 4.0   1670.0  1153.0  \n",
       "2680                           0.0                 3.0    338.0   345.0  \n",
       "2681                           0.0                 3.0    338.0   345.0  \n",
       "2682                           0.0                 3.0    338.0   345.0  \n",
       "2683                           0.0                 3.0    338.0   345.0  \n",
       "2906                           0.0                 8.0    664.0   744.0  \n",
       "2907                           0.0                 8.0    664.0   744.0  \n",
       "2908                           0.0                 8.0    664.0   744.0  "
      ]
     },
     "execution_count": 11,
     "metadata": {},
     "output_type": "execute_result"
    }
   ],
   "source": [
    "# '-' 포함된 행 찾기\n",
    "find_row = train_data.loc[ (train_data['임대보증금'] == '-') ]\n",
    "find_row"
   ]
  },
  {
   "cell_type": "markdown",
   "metadata": {},
   "source": [
    "#### 임대보증금과 임대료 '-'인 값 삭제"
   ]
  },
  {
   "cell_type": "code",
   "execution_count": 12,
   "metadata": {},
   "outputs": [],
   "source": [
    "# train_data = train_data[train_data.임대보증금 != '-']\n",
    "# train_data = train_data[train_data.임대료 != '-']\n",
    "\n",
    "# test_data = test_data[test_data.임대보증금 != '-']\n",
    "# test_data = test_data[test_data.임대료 != '-']"
   ]
  },
  {
   "cell_type": "markdown",
   "metadata": {},
   "source": [
    "#### 임대보증금과 임대료 '-'을 null로 바꾸기"
   ]
  },
  {
   "cell_type": "code",
   "execution_count": 13,
   "metadata": {},
   "outputs": [],
   "source": [
    "train_data.loc[train_data.임대보증금=='-', '임대보증금'] = np.nan\n",
    "train_data.loc[train_data.임대료=='-', '임대료'] = np.nan\n",
    "\n",
    "test_data.loc[test_data.임대보증금=='-', '임대보증금'] = np.nan\n",
    "test_data.loc[test_data.임대료=='-', '임대료'] = np.nan"
   ]
  },
  {
   "cell_type": "markdown",
   "metadata": {},
   "source": [
    "### 결측치확인"
   ]
  },
  {
   "cell_type": "code",
   "execution_count": 14,
   "metadata": {},
   "outputs": [
    {
     "name": "stdout",
     "output_type": "stream",
     "text": [
      "단지코드                              0\n",
      "총세대수                              0\n",
      "임대건물구분                            0\n",
      "지역                                0\n",
      "공급유형                              0\n",
      "전용면적                              0\n",
      "전용면적별세대수                          0\n",
      "공가수                               0\n",
      "자격유형                              0\n",
      "임대보증금                           581\n",
      "임대료                             590\n",
      "도보 10분거리 내 지하철역 수(환승노선 수 반영)    211\n",
      "도보 10분거리 내 버스정류장 수                4\n",
      "단지내주차면수                           0\n",
      "등록차량수                             0\n",
      "dtype: int64\n"
     ]
    }
   ],
   "source": [
    "print(train_data.isnull().sum())"
   ]
  },
  {
   "cell_type": "code",
   "execution_count": 15,
   "metadata": {},
   "outputs": [
    {
     "name": "stdout",
     "output_type": "stream",
     "text": [
      "단지코드                              0\n",
      "총세대수                              0\n",
      "임대건물구분                            0\n",
      "지역                                0\n",
      "공급유형                              0\n",
      "전용면적                              0\n",
      "전용면적별세대수                          0\n",
      "공가수                               0\n",
      "자격유형                              2\n",
      "임대보증금                           186\n",
      "임대료                             186\n",
      "도보 10분거리 내 지하철역 수(환승노선 수 반영)     42\n",
      "도보 10분거리 내 버스정류장 수                0\n",
      "단지내주차면수                           0\n",
      "등록차량수                             0\n",
      "dtype: int64\n"
     ]
    }
   ],
   "source": [
    "print(test_data.isnull().sum())"
   ]
  },
  {
   "cell_type": "markdown",
   "metadata": {},
   "source": [
    "### 결측치처리  \n",
    "\n",
    "**2952행 -> 2952행  \n",
    "1022행 -> 1020행**"
   ]
  },
  {
   "cell_type": "markdown",
   "metadata": {},
   "source": [
    "- 임대보증금과 임대료 NULL값 -> 0으로 대체  \n",
    "- 도보 10분거리 내 지하철역/버스정류장 수 NULL값 -> 0으로대체 "
   ]
  },
  {
   "cell_type": "code",
   "execution_count": 16,
   "metadata": {},
   "outputs": [],
   "source": [
    "# 임대보증금과 임대료 NULL값 -> 0으로 대체\n",
    "# 도보 10분거리 내 지하철역/버스정류장 수 NULL값 -> 0으로대체 \n",
    "\n",
    "train_data[['임대보증금', '임대료']] = train_data[['임대보증금', '임대료']].fillna(0)\n",
    "test_data[['임대보증금', '임대료']] = test_data[['임대보증금', '임대료']].fillna(0)\n",
    "\n",
    "train_data[['도보 10분거리 내 지하철역 수(환승노선 수 반영)', '도보 10분거리 내 버스정류장 수']] = train[['도보 10분거리 내 지하철역 수(환승노선 수 반영)', '도보 10분거리 내 버스정류장 수']].fillna(0)\n",
    "test_data['도보 10분거리 내 지하철역 수(환승노선 수 반영)'] = test_data['도보 10분거리 내 지하철역 수(환승노선 수 반영)'].fillna(0)"
   ]
  },
  {
   "cell_type": "markdown",
   "metadata": {},
   "source": [
    "- 자격유형 NULL값 -> ?"
   ]
  },
  {
   "cell_type": "code",
   "execution_count": 17,
   "metadata": {},
   "outputs": [
    {
     "data": {
      "text/html": [
       "<div>\n",
       "<style scoped>\n",
       "    .dataframe tbody tr th:only-of-type {\n",
       "        vertical-align: middle;\n",
       "    }\n",
       "\n",
       "    .dataframe tbody tr th {\n",
       "        vertical-align: top;\n",
       "    }\n",
       "\n",
       "    .dataframe thead th {\n",
       "        text-align: right;\n",
       "    }\n",
       "</style>\n",
       "<table border=\"1\" class=\"dataframe\">\n",
       "  <thead>\n",
       "    <tr style=\"text-align: right;\">\n",
       "      <th></th>\n",
       "      <th>단지코드</th>\n",
       "      <th>총세대수</th>\n",
       "      <th>임대건물구분</th>\n",
       "      <th>지역</th>\n",
       "      <th>공급유형</th>\n",
       "      <th>전용면적</th>\n",
       "      <th>전용면적별세대수</th>\n",
       "      <th>공가수</th>\n",
       "      <th>자격유형</th>\n",
       "      <th>임대보증금</th>\n",
       "      <th>임대료</th>\n",
       "      <th>도보 10분거리 내 지하철역 수(환승노선 수 반영)</th>\n",
       "      <th>도보 10분거리 내 버스정류장 수</th>\n",
       "      <th>단지내주차면수</th>\n",
       "      <th>등록차량수</th>\n",
       "    </tr>\n",
       "  </thead>\n",
       "  <tbody>\n",
       "    <tr>\n",
       "      <th>196</th>\n",
       "      <td>C2411</td>\n",
       "      <td>962</td>\n",
       "      <td>아파트</td>\n",
       "      <td>경상남도</td>\n",
       "      <td>국민임대</td>\n",
       "      <td>46.90</td>\n",
       "      <td>240</td>\n",
       "      <td>25.0</td>\n",
       "      <td>NaN</td>\n",
       "      <td>71950000</td>\n",
       "      <td>37470</td>\n",
       "      <td>0.0</td>\n",
       "      <td>2.0</td>\n",
       "      <td>840.0</td>\n",
       "      <td>0</td>\n",
       "    </tr>\n",
       "    <tr>\n",
       "      <th>258</th>\n",
       "      <td>C2253</td>\n",
       "      <td>1161</td>\n",
       "      <td>아파트</td>\n",
       "      <td>강원도</td>\n",
       "      <td>영구임대</td>\n",
       "      <td>26.37</td>\n",
       "      <td>745</td>\n",
       "      <td>0.0</td>\n",
       "      <td>NaN</td>\n",
       "      <td>2249000</td>\n",
       "      <td>44770</td>\n",
       "      <td>0.0</td>\n",
       "      <td>2.0</td>\n",
       "      <td>173.0</td>\n",
       "      <td>0</td>\n",
       "    </tr>\n",
       "  </tbody>\n",
       "</table>\n",
       "</div>"
      ],
      "text/plain": [
       "      단지코드  총세대수 임대건물구분    지역  공급유형   전용면적  전용면적별세대수   공가수 자격유형     임대보증금  \\\n",
       "196  C2411   962    아파트  경상남도  국민임대  46.90       240  25.0  NaN  71950000   \n",
       "258  C2253  1161    아파트   강원도  영구임대  26.37       745   0.0  NaN   2249000   \n",
       "\n",
       "       임대료  도보 10분거리 내 지하철역 수(환승노선 수 반영)  도보 10분거리 내 버스정류장 수  단지내주차면수  등록차량수  \n",
       "196  37470                           0.0                 2.0    840.0      0  \n",
       "258  44770                           0.0                 2.0    173.0      0  "
      ]
     },
     "execution_count": 17,
     "metadata": {},
     "output_type": "execute_result"
    }
   ],
   "source": [
    "test_data[test_data.자격유형.isnull()]"
   ]
  },
  {
   "cell_type": "markdown",
   "metadata": {},
   "source": [
    "- 나머지 drop해버리기 "
   ]
  },
  {
   "cell_type": "code",
   "execution_count": 18,
   "metadata": {},
   "outputs": [],
   "source": [
    "train_data=train_data.dropna()   \n",
    "test_data=test_data.dropna() "
   ]
  },
  {
   "cell_type": "markdown",
   "metadata": {},
   "source": [
    "### 데이터유형 변경"
   ]
  },
  {
   "cell_type": "code",
   "execution_count": 19,
   "metadata": {},
   "outputs": [],
   "source": [
    "train_data = train_data.astype({'임대보증금': float})\n",
    "train_data = train_data.astype({'임대료': float})\n",
    "\n",
    "test_data = test_data.astype({'임대보증금': float})\n",
    "test_data = test_data.astype({'임대료': float})"
   ]
  },
  {
   "cell_type": "code",
   "execution_count": 20,
   "metadata": {},
   "outputs": [],
   "source": [
    "train_data = train_data.astype({'도보 10분거리 내 지하철역 수(환승노선 수 반영)': int})\n",
    "train_data = train_data.astype({'도보 10분거리 내 버스정류장 수': int})"
   ]
  },
  {
   "cell_type": "markdown",
   "metadata": {},
   "source": [
    "### 데이터중복 확인"
   ]
  },
  {
   "cell_type": "code",
   "execution_count": 21,
   "metadata": {},
   "outputs": [
    {
     "data": {
      "text/plain": [
       "((2952, 15), (2632, 15))"
      ]
     },
     "execution_count": 21,
     "metadata": {},
     "output_type": "execute_result"
    }
   ],
   "source": [
    "train_data.shape, train_data.drop_duplicates().shape"
   ]
  },
  {
   "cell_type": "code",
   "execution_count": 22,
   "metadata": {},
   "outputs": [
    {
     "data": {
      "text/plain": [
       "((1020, 15), (947, 15))"
      ]
     },
     "execution_count": 22,
     "metadata": {},
     "output_type": "execute_result"
    }
   ],
   "source": [
    "test_data.shape, test_data.drop_duplicates().shape"
   ]
  },
  {
   "cell_type": "code",
   "execution_count": 23,
   "metadata": {},
   "outputs": [],
   "source": [
    "train_data = train_data.drop_duplicates()\n",
    "test_data = test_data.drop_duplicates()"
   ]
  },
  {
   "cell_type": "markdown",
   "metadata": {},
   "source": [
    "### train/test데이터에 age_gender결합"
   ]
  },
  {
   "cell_type": "code",
   "execution_count": 24,
   "metadata": {},
   "outputs": [],
   "source": [
    "train_data = pd.merge(train, age_gender, how='inner')"
   ]
  },
  {
   "cell_type": "code",
   "execution_count": 25,
   "metadata": {},
   "outputs": [],
   "source": [
    "test_data = pd.merge(test_data, age_gender, how='inner')"
   ]
  },
  {
   "cell_type": "markdown",
   "metadata": {},
   "source": [
    "---"
   ]
  },
  {
   "cell_type": "markdown",
   "metadata": {},
   "source": [
    "# 데이터 EDA-1"
   ]
  },
  {
   "cell_type": "code",
   "execution_count": 26,
   "metadata": {},
   "outputs": [
    {
     "data": {
      "text/plain": [
       "(2952, 37)"
      ]
     },
     "execution_count": 26,
     "metadata": {},
     "output_type": "execute_result"
    }
   ],
   "source": [
    "train_data.shape "
   ]
  },
  {
   "cell_type": "markdown",
   "metadata": {},
   "source": [
    "### 총세대수 분포확인"
   ]
  },
  {
   "cell_type": "code",
   "execution_count": 27,
   "metadata": {
    "scrolled": true
   },
   "outputs": [
    {
     "data": {
      "text/plain": [
       "<matplotlib.axes._subplots.AxesSubplot at 0x190451d0160>"
      ]
     },
     "execution_count": 27,
     "metadata": {},
     "output_type": "execute_result"
    },
    {
     "data": {
      "image/png": "[encoded data removed]",
      "text/plain": [
       "<Figure size 432x288 with 1 Axes>"
      ]
     },
     "metadata": {
      "needs_background": "light"
     },
     "output_type": "display_data"
    }
   ],
   "source": [
    "plt.rc('font',family='Malgun Gothic')\n",
    "sns.distplot(train_data['총세대수'],color='pink')"
   ]
  },
  {
   "cell_type": "markdown",
   "metadata": {},
   "source": [
    "### 임대건물구분"
   ]
  },
  {
   "cell_type": "code",
   "execution_count": 28,
   "metadata": {},
   "outputs": [
    {
     "data": {
      "text/plain": [
       "<matplotlib.axes._subplots.AxesSubplot at 0x190453cf610>"
      ]
     },
     "execution_count": 28,
     "metadata": {},
     "output_type": "execute_result"
    },
    {
     "data": {
      "image/png": "[encoded data removed]",
      "text/plain": [
       "<Figure size 288x216 with 1 Axes>"
      ]
     },
     "metadata": {
      "needs_background": "light"
     },
     "output_type": "display_data"
    }
   ],
   "source": [
    "plt.rc('font',family='Malgun Gothic')\n",
    "train_data['임대건물구분'].value_counts().plot(kind='bar',colormap='Pastel2_r',figsize=(4,3))"
   ]
  },
  {
   "cell_type": "markdown",
   "metadata": {},
   "source": [
    "### 지역별 데이터개수 확인"
   ]
  },
  {
   "cell_type": "code",
   "execution_count": 29,
   "metadata": {
    "scrolled": true
   },
   "outputs": [
    {
     "data": {
      "text/plain": [
       "<matplotlib.axes._subplots.AxesSubplot at 0x190454225e0>"
      ]
     },
     "execution_count": 29,
     "metadata": {},
     "output_type": "execute_result"
    },
    {
     "data": {
      "image/png": "[encoded data removed]",
      "text/plain": [
       "<Figure size 720x216 with 1 Axes>"
      ]
     },
     "metadata": {
      "needs_background": "light"
     },
     "output_type": "display_data"
    }
   ],
   "source": [
    "plt.rc('font',family='Malgun Gothic')\n",
    "train_data['지역'].value_counts().plot(kind='bar',colormap='Pastel2',figsize=(10,3))"
   ]
  },
  {
   "cell_type": "markdown",
   "metadata": {},
   "source": [
    "### 공급유형별 데이터개수확인"
   ]
  },
  {
   "cell_type": "code",
   "execution_count": 30,
   "metadata": {
    "scrolled": true
   },
   "outputs": [
    {
     "data": {
      "text/plain": [
       "<matplotlib.axes._subplots.AxesSubplot at 0x190454c3f10>"
      ]
     },
     "execution_count": 30,
     "metadata": {},
     "output_type": "execute_result"
    },
    {
     "data": {
      "image/png": "[encoded data removed]",
      "text/plain": [
       "<Figure size 432x216 with 1 Axes>"
      ]
     },
     "metadata": {
      "needs_background": "light"
     },
     "output_type": "display_data"
    }
   ],
   "source": [
    "plt.rc('font',family='Malgun Gothic')\n",
    "train_data['공급유형'].value_counts().plot(kind='bar',colormap='Pastel2_r',figsize=(6,3))"
   ]
  },
  {
   "cell_type": "markdown",
   "metadata": {},
   "source": [
    "### 전용면적분포확인"
   ]
  },
  {
   "cell_type": "code",
   "execution_count": 31,
   "metadata": {
    "scrolled": true
   },
   "outputs": [
    {
     "data": {
      "text/plain": [
       "<matplotlib.axes._subplots.AxesSubplot at 0x1904551adc0>"
      ]
     },
     "execution_count": 31,
     "metadata": {},
     "output_type": "execute_result"
    },
    {
     "data": {
      "image/png": "[encoded data removed]",
      "text/plain": [
       "<Figure size 432x288 with 1 Axes>"
      ]
     },
     "metadata": {
      "needs_background": "light"
     },
     "output_type": "display_data"
    }
   ],
   "source": [
    "plt.rc('font',family='Malgun Gothic')\n",
    "sns.distplot(train_data['전용면적'],color='pink')"
   ]
  },
  {
   "cell_type": "markdown",
   "metadata": {},
   "source": [
    "### 전용면적별세대수 →  의미하는바?"
   ]
  },
  {
   "cell_type": "code",
   "execution_count": 32,
   "metadata": {
    "scrolled": false
   },
   "outputs": [
    {
     "data": {
      "text/plain": [
       "<matplotlib.axes._subplots.AxesSubplot at 0x1904561f130>"
      ]
     },
     "execution_count": 32,
     "metadata": {},
     "output_type": "execute_result"
    },
    {
     "data": {
      "image/png": "[encoded data removed]",
      "text/plain": [
       "<Figure size 432x288 with 1 Axes>"
      ]
     },
     "metadata": {
      "needs_background": "light"
     },
     "output_type": "display_data"
    }
   ],
   "source": [
    "plt.rc('font',family='Malgun Gothic')\n",
    "sns.distplot(train_data['전용면적별세대수'],color='blue')"
   ]
  },
  {
   "cell_type": "code",
   "execution_count": 33,
   "metadata": {
    "scrolled": true
   },
   "outputs": [
    {
     "data": {
      "text/plain": [
       "(array([2.461e+03, 3.670e+02, 8.200e+01, 3.300e+01, 3.000e+00, 2.000e+00,\n",
       "        1.000e+00, 2.000e+00, 0.000e+00, 1.000e+00]),\n",
       " array([1.0000e+00, 1.8740e+02, 3.7380e+02, 5.6020e+02, 7.4660e+02,\n",
       "        9.3300e+02, 1.1194e+03, 1.3058e+03, 1.4922e+03, 1.6786e+03,\n",
       "        1.8650e+03]),\n",
       " <a list of 10 Patch objects>)"
      ]
     },
     "execution_count": 33,
     "metadata": {},
     "output_type": "execute_result"
    },
    {
     "data": {
      "image/png": "[encoded data removed]",
      "text/plain": [
       "<Figure size 432x288 with 1 Axes>"
      ]
     },
     "metadata": {
      "needs_background": "light"
     },
     "output_type": "display_data"
    }
   ],
   "source": [
    "plt.hist(train_data['전용면적별세대수'],color='gray')"
   ]
  },
  {
   "cell_type": "markdown",
   "metadata": {},
   "source": [
    "### 공가수"
   ]
  },
  {
   "cell_type": "code",
   "execution_count": 34,
   "metadata": {},
   "outputs": [
    {
     "data": {
      "text/plain": [
       "<matplotlib.axes._subplots.AxesSubplot at 0x19045762190>"
      ]
     },
     "execution_count": 34,
     "metadata": {},
     "output_type": "execute_result"
    },
    {
     "name": "stderr",
     "output_type": "stream",
     "text": [
      "C:\\ProgramData\\Anaconda3\\lib\\site-packages\\matplotlib\\backends\\backend_agg.py:214: RuntimeWarning: Glyph 8722 missing from current font.\n",
      "  font.set_text(s, 0.0, flags=flags)\n",
      "C:\\ProgramData\\Anaconda3\\lib\\site-packages\\matplotlib\\backends\\backend_agg.py:183: RuntimeWarning: Glyph 8722 missing from current font.\n",
      "  font.set_text(s, 0, flags=flags)\n"
     ]
    },
    {
     "data": {
      "image/png": "[encoded data removed]",
      "text/plain": [
       "<Figure size 432x288 with 1 Axes>"
      ]
     },
     "metadata": {
      "needs_background": "light"
     },
     "output_type": "display_data"
    }
   ],
   "source": [
    "plt.rc('font',family='Malgun Gothic')\n",
    "sns.distplot(train_data['공가수'],color='pink')"
   ]
  },
  {
   "cell_type": "markdown",
   "metadata": {},
   "source": [
    "### 자격유형"
   ]
  },
  {
   "cell_type": "code",
   "execution_count": 35,
   "metadata": {
    "scrolled": true
   },
   "outputs": [
    {
     "data": {
      "text/plain": [
       "<matplotlib.axes._subplots.AxesSubplot at 0x19045608430>"
      ]
     },
     "execution_count": 35,
     "metadata": {},
     "output_type": "execute_result"
    },
    {
     "data": {
      "image/png": "[encoded data removed]",
      "text/plain": [
       "<Figure size 576x216 with 1 Axes>"
      ]
     },
     "metadata": {
      "needs_background": "light"
     },
     "output_type": "display_data"
    }
   ],
   "source": [
    "plt.rc('font',family='Malgun Gothic')\n",
    "train_data['자격유형'].value_counts().plot(kind='bar',colormap='Pastel2_r',figsize=(8,3))"
   ]
  },
  {
   "cell_type": "markdown",
   "metadata": {},
   "source": [
    "### 데이터 유형변환 후, 확인 "
   ]
  },
  {
   "cell_type": "code",
   "execution_count": 36,
   "metadata": {},
   "outputs": [
    {
     "data": {
      "text/plain": [
       "<matplotlib.axes._subplots.AxesSubplot at 0x19045861d90>"
      ]
     },
     "execution_count": 36,
     "metadata": {},
     "output_type": "execute_result"
    },
    {
     "name": "stderr",
     "output_type": "stream",
     "text": [
      "C:\\ProgramData\\Anaconda3\\lib\\site-packages\\matplotlib\\backends\\backend_agg.py:214: RuntimeWarning: Glyph 8722 missing from current font.\n",
      "  font.set_text(s, 0.0, flags=flags)\n",
      "C:\\ProgramData\\Anaconda3\\lib\\site-packages\\matplotlib\\backends\\backend_agg.py:183: RuntimeWarning: Glyph 8722 missing from current font.\n",
      "  font.set_text(s, 0, flags=flags)\n"
     ]
    },
    {
     "data": {
      "image/png": "[encoded data removed]",
      "text/plain": [
       "<Figure size 432x288 with 1 Axes>"
      ]
     },
     "metadata": {
      "needs_background": "light"
     },
     "output_type": "display_data"
    }
   ],
   "source": [
    "plt.rc('font',family='Malgun Gothic')\n",
    "sns.distplot(train_data['임대보증금'],color='pink')"
   ]
  },
  {
   "cell_type": "code",
   "execution_count": 37,
   "metadata": {},
   "outputs": [
    {
     "data": {
      "text/plain": [
       "<matplotlib.axes._subplots.AxesSubplot at 0x19045952df0>"
      ]
     },
     "execution_count": 37,
     "metadata": {},
     "output_type": "execute_result"
    },
    {
     "name": "stderr",
     "output_type": "stream",
     "text": [
      "C:\\ProgramData\\Anaconda3\\lib\\site-packages\\matplotlib\\backends\\backend_agg.py:214: RuntimeWarning: Glyph 8722 missing from current font.\n",
      "  font.set_text(s, 0.0, flags=flags)\n",
      "C:\\ProgramData\\Anaconda3\\lib\\site-packages\\matplotlib\\backends\\backend_agg.py:183: RuntimeWarning: Glyph 8722 missing from current font.\n",
      "  font.set_text(s, 0, flags=flags)\n"
     ]
    },
    {
     "data": {
      "image/png": "[encoded data removed]",
      "text/plain": [
       "<Figure size 432x288 with 1 Axes>"
      ]
     },
     "metadata": {
      "needs_background": "light"
     },
     "output_type": "display_data"
    }
   ],
   "source": [
    "plt.rc('font',family='Malgun Gothic')\n",
    "sns.distplot(train_data['임대료'],color='pink')"
   ]
  },
  {
   "cell_type": "code",
   "execution_count": 38,
   "metadata": {},
   "outputs": [
    {
     "data": {
      "text/plain": [
       "<matplotlib.axes._subplots.AxesSubplot at 0x19045866310>"
      ]
     },
     "execution_count": 38,
     "metadata": {},
     "output_type": "execute_result"
    },
    {
     "data": {
      "image/png": "[encoded data removed]",
      "text/plain": [
       "<Figure size 576x216 with 1 Axes>"
      ]
     },
     "metadata": {
      "needs_background": "light"
     },
     "output_type": "display_data"
    }
   ],
   "source": [
    "plt.rc('font',family='Malgun Gothic')\n",
    "train_data['도보 10분거리 내 지하철역 수(환승노선 수 반영)'].value_counts().plot(kind='bar',colormap='Pastel2_r',figsize=(8,3))"
   ]
  },
  {
   "cell_type": "code",
   "execution_count": 39,
   "metadata": {},
   "outputs": [
    {
     "data": {
      "text/plain": [
       "<matplotlib.axes._subplots.AxesSubplot at 0x19045a53eb0>"
      ]
     },
     "execution_count": 39,
     "metadata": {},
     "output_type": "execute_result"
    },
    {
     "data": {
      "image/png": "[encoded data removed]",
      "text/plain": [
       "<Figure size 576x216 with 1 Axes>"
      ]
     },
     "metadata": {
      "needs_background": "light"
     },
     "output_type": "display_data"
    }
   ],
   "source": [
    "plt.rc('font',family='Malgun Gothic')\n",
    "train_data['도보 10분거리 내 버스정류장 수'].value_counts().plot(kind='bar',colormap='Pastel2_r',figsize=(8,3))"
   ]
  },
  {
   "cell_type": "markdown",
   "metadata": {},
   "source": [
    "### 단지내주차면수 분포"
   ]
  },
  {
   "cell_type": "code",
   "execution_count": 40,
   "metadata": {},
   "outputs": [
    {
     "data": {
      "text/plain": [
       "<matplotlib.axes._subplots.AxesSubplot at 0x19045af76a0>"
      ]
     },
     "execution_count": 40,
     "metadata": {},
     "output_type": "execute_result"
    },
    {
     "data": {
      "image/png": "[encoded data removed]",
      "text/plain": [
       "<Figure size 432x288 with 1 Axes>"
      ]
     },
     "metadata": {
      "needs_background": "light"
     },
     "output_type": "display_data"
    }
   ],
   "source": [
    "plt.rc('font',family='Malgun Gothic')\n",
    "sns.distplot(train_data['단지내주차면수'],color='pink')"
   ]
  },
  {
   "cell_type": "markdown",
   "metadata": {},
   "source": [
    "### 등록차량수 분포"
   ]
  },
  {
   "cell_type": "code",
   "execution_count": 41,
   "metadata": {
    "scrolled": true
   },
   "outputs": [
    {
     "data": {
      "text/plain": [
       "<matplotlib.axes._subplots.AxesSubplot at 0x19045b3c970>"
      ]
     },
     "execution_count": 41,
     "metadata": {},
     "output_type": "execute_result"
    },
    {
     "data": {
      "image/png": "[encoded data removed]",
      "text/plain": [
       "<Figure size 432x288 with 1 Axes>"
      ]
     },
     "metadata": {
      "needs_background": "light"
     },
     "output_type": "display_data"
    }
   ],
   "source": [
    "plt.rc('font',family='Malgun Gothic')\n",
    "sns.distplot(train_data['등록차량수'],color='pink')"
   ]
  },
  {
   "cell_type": "code",
   "execution_count": 42,
   "metadata": {},
   "outputs": [],
   "source": [
    "# sns.histplot( x = train_data['등록차량수'] )"
   ]
  },
  {
   "cell_type": "markdown",
   "metadata": {},
   "source": [
    "---"
   ]
  },
  {
   "cell_type": "markdown",
   "metadata": {},
   "source": [
    "# 데이터 EDA-2"
   ]
  },
  {
   "cell_type": "markdown",
   "metadata": {},
   "source": [
    "### 가장 많은 나잇대 분포확인"
   ]
  },
  {
   "cell_type": "code",
   "execution_count": 43,
   "metadata": {},
   "outputs": [],
   "source": [
    "# age데이터 슬라이스하기 \n",
    "train_df = train_data.iloc[:,15:]\n",
    "test_df = test_data.iloc[:,15:]"
   ]
  },
  {
   "cell_type": "code",
   "execution_count": 44,
   "metadata": {},
   "outputs": [
    {
     "name": "stdout",
     "output_type": "stream",
     "text": [
      "            0         1\n",
      "0     50대(여자)  0.087149\n",
      "1     50대(여자)  0.087149\n",
      "2     50대(여자)  0.087149\n",
      "3     50대(여자)  0.087149\n",
      "4     50대(여자)  0.087149\n",
      "...       ...       ...\n",
      "2947  30대(여자)  0.106121\n",
      "2948  30대(여자)  0.106121\n",
      "2949  30대(여자)  0.106121\n",
      "2950  30대(여자)  0.106121\n",
      "2951  30대(여자)  0.106121\n",
      "\n",
      "[2952 rows x 2 columns]\n",
      "           0         1\n",
      "0    40대(여자)  0.083208\n",
      "1    40대(여자)  0.083208\n",
      "2    40대(여자)  0.083208\n",
      "3    40대(여자)  0.083208\n",
      "4    40대(여자)  0.083208\n",
      "..       ...       ...\n",
      "942  30대(여자)  0.106121\n",
      "943  30대(여자)  0.106121\n",
      "944  30대(여자)  0.106121\n",
      "945  30대(여자)  0.106121\n",
      "946  30대(여자)  0.106121\n",
      "\n",
      "[947 rows x 2 columns]\n"
     ]
    }
   ],
   "source": [
    "train_result = pd.concat([train_df.idxmax(axis=1),train_df.max(axis=1)],axis=1)\n",
    "print(train_result)\n",
    "\n",
    "test_result = pd.concat([test_df.idxmax(axis=1),test_df.max(axis=1)],axis=1)\n",
    "print(test_result)"
   ]
  },
  {
   "cell_type": "code",
   "execution_count": 45,
   "metadata": {
    "scrolled": false
   },
   "outputs": [
    {
     "data": {
      "text/html": [
       "<div>\n",
       "<style scoped>\n",
       "    .dataframe tbody tr th:only-of-type {\n",
       "        vertical-align: middle;\n",
       "    }\n",
       "\n",
       "    .dataframe tbody tr th {\n",
       "        vertical-align: top;\n",
       "    }\n",
       "\n",
       "    .dataframe thead th {\n",
       "        text-align: right;\n",
       "    }\n",
       "</style>\n",
       "<table border=\"1\" class=\"dataframe\">\n",
       "  <thead>\n",
       "    <tr style=\"text-align: right;\">\n",
       "      <th></th>\n",
       "      <th>1</th>\n",
       "    </tr>\n",
       "    <tr>\n",
       "      <th>0</th>\n",
       "      <th></th>\n",
       "    </tr>\n",
       "  </thead>\n",
       "  <tbody>\n",
       "    <tr>\n",
       "      <th>30대(여자)</th>\n",
       "      <td>47</td>\n",
       "    </tr>\n",
       "    <tr>\n",
       "      <th>40대(여자)</th>\n",
       "      <td>762</td>\n",
       "    </tr>\n",
       "    <tr>\n",
       "      <th>50대(여자)</th>\n",
       "      <td>791</td>\n",
       "    </tr>\n",
       "    <tr>\n",
       "      <th>60대(여자)</th>\n",
       "      <td>1352</td>\n",
       "    </tr>\n",
       "  </tbody>\n",
       "</table>\n",
       "</div>"
      ],
      "text/plain": [
       "            1\n",
       "0            \n",
       "30대(여자)    47\n",
       "40대(여자)   762\n",
       "50대(여자)   791\n",
       "60대(여자)  1352"
      ]
     },
     "execution_count": 45,
     "metadata": {},
     "output_type": "execute_result"
    }
   ],
   "source": [
    "train_result.groupby([0]).count()"
   ]
  },
  {
   "cell_type": "code",
   "execution_count": 46,
   "metadata": {},
   "outputs": [
    {
     "data": {
      "text/plain": [
       "Text(0.5, 1.0, '나이대 분포비율')"
      ]
     },
     "execution_count": 46,
     "metadata": {},
     "output_type": "execute_result"
    },
    {
     "data": {
      "image/png": "[encoded data removed]",
      "text/plain": [
       "<Figure size 432x288 with 1 Axes>"
      ]
     },
     "metadata": {},
     "output_type": "display_data"
    }
   ],
   "source": [
    "values = [47, 762, 791, 1352]\n",
    "colors = ['b', 'g', 'r', 'c']\n",
    "labels = ['30대(여자)', '40대(여자)', '50대(여자)', '60대(여자)']\n",
    "plt.pie(values, colors=colors, labels=labels, autopct='%1.1f%%')\n",
    "plt.rc('font',family='Malgun Gothic')\n",
    "plt.title('나이대 분포비율')"
   ]
  },
  {
   "cell_type": "markdown",
   "metadata": {},
   "source": [
    "#### 단지코드별 unique값 찾기"
   ]
  },
  {
   "cell_type": "code",
   "execution_count": 47,
   "metadata": {},
   "outputs": [
    {
     "data": {
      "text/plain": [
       "단지코드                             423\n",
       "총세대수                             423\n",
       "임대건물구분                           456\n",
       "지역                               423\n",
       "공급유형                             488\n",
       "전용면적                            1898\n",
       "전용면적별세대수                        2230\n",
       "공가수                              423\n",
       "자격유형                             510\n",
       "임대보증금                           1277\n",
       "임대료                             1289\n",
       "도보 10분거리 내 지하철역 수(환승노선 수 반영)     423\n",
       "도보 10분거리 내 버스정류장 수               423\n",
       "단지내주차면수                          423\n",
       "등록차량수                            423\n",
       "dtype: int64"
      ]
     },
     "execution_count": 47,
     "metadata": {},
     "output_type": "execute_result"
    }
   ],
   "source": [
    "train.groupby(['단지코드']).nunique(dropna=False).sum(axis=0)"
   ]
  },
  {
   "cell_type": "code",
   "execution_count": null,
   "metadata": {},
   "outputs": [],
   "source": []
  },
  {
   "cell_type": "code",
   "execution_count": null,
   "metadata": {},
   "outputs": [],
   "source": []
  },
  {
   "cell_type": "code",
   "execution_count": null,
   "metadata": {},
   "outputs": [],
   "source": []
  },
  {
   "cell_type": "code",
   "execution_count": null,
   "metadata": {},
   "outputs": [],
   "source": []
  },
  {
   "cell_type": "code",
   "execution_count": null,
   "metadata": {},
   "outputs": [],
   "source": []
  },
  {
   "cell_type": "code",
   "execution_count": null,
   "metadata": {},
   "outputs": [],
   "source": []
  },
  {
   "cell_type": "code",
   "execution_count": null,
   "metadata": {},
   "outputs": [],
   "source": []
  },
  {
   "cell_type": "code",
   "execution_count": null,
   "metadata": {},
   "outputs": [],
   "source": []
  },
  {
   "cell_type": "markdown",
   "metadata": {},
   "source": [
    "---"
   ]
  },
  {
   "cell_type": "code",
   "execution_count": 48,
   "metadata": {},
   "outputs": [],
   "source": [
    "# train_data = pd.DataFrame(train_data)\n",
    "# train_data.to_csv('C:/Users/서현/Desktop/train_data.csv')\n",
    "\n",
    "# test_data = pd.DataFrame(test_data)\n",
    "# test_data.to_csv('C:/Users/서현/Desktop/test_data.csv')"
   ]
  },
  {
   "cell_type": "markdown",
   "metadata": {},
   "source": [
    "# 모델링 "
   ]
  },
  {
   "cell_type": "code",
   "execution_count": 49,
   "metadata": {},
   "outputs": [],
   "source": [
    "# !pip install pycaret\n",
    "# !pip install shap"
   ]
  },
  {
   "cell_type": "code",
   "execution_count": 50,
   "metadata": {},
   "outputs": [],
   "source": [
    "import pycaret"
   ]
  },
  {
   "cell_type": "code",
   "execution_count": 51,
   "metadata": {},
   "outputs": [],
   "source": [
    "from pycaret.regression import *"
   ]
  },
  {
   "cell_type": "markdown",
   "metadata": {},
   "source": [
    "#### categorical 값들 펼치기"
   ]
  },
  {
   "cell_type": "code",
   "execution_count": 52,
   "metadata": {},
   "outputs": [],
   "source": [
    "def reshape_cat_features(data, cast_col, value_col):\n",
    "    res = data.drop_duplicates(['단지코드', cast_col]).assign(counter=1).pivot(index='단지코드', columns=cast_col, values=value_col).fillna(0)\n",
    "    res.columns.name = None\n",
    "    res = res.rename(columns={col:col for col in res.columns})\n",
    "    return res"
   ]
  },
  {
   "cell_type": "code",
   "execution_count": 53,
   "metadata": {},
   "outputs": [],
   "source": [
    "def reshape_cat_features_plus_underbar(data, cast_col, value_col):\n",
    "    res = data.drop_duplicates(['단지코드', cast_col]).assign(counter=1).pivot(index='단지코드', columns=cast_col, values=value_col).fillna(0)\n",
    "    res.columns.name = None\n",
    "    res = res.rename(columns={col:cast_col+'_'+ str(col) for col in res.columns})\n",
    "    return res"
   ]
  },
  {
   "cell_type": "code",
   "execution_count": 54,
   "metadata": {},
   "outputs": [],
   "source": [
    "train_r = train_data.drop(['단지코드','임대건물구분','공급유형','자격유형','지역'] , axis=1)\n",
    "\n",
    "train_data = pd.concat([\n",
    "    train_r,\n",
    "    reshape_cat_features(data=train_data, cast_col='임대건물구분', value_col='counter'),\n",
    "    reshape_cat_features(data=train_data, cast_col='공급유형', value_col='counter'),\n",
    "    reshape_cat_features(data=train_data, cast_col='자격유형', value_col='counter'),\n",
    "    reshape_cat_features(data=train_data, cast_col='지역', value_col='counter')\n",
    "    ], axis=1)"
   ]
  },
  {
   "cell_type": "code",
   "execution_count": 55,
   "metadata": {},
   "outputs": [],
   "source": [
    "test_r = test_data.drop(['단지코드','임대건물구분','공급유형','자격유형','지역'] , axis=1)\n",
    "\n",
    "test_data = pd.concat([\n",
    "    test_r,\n",
    "    reshape_cat_features(data=test_data, cast_col='임대건물구분', value_col='counter'),\n",
    "    reshape_cat_features(data=test_data, cast_col='공급유형', value_col='counter'),\n",
    "    reshape_cat_features(data=test_data, cast_col='자격유형', value_col='counter'),\n",
    "    reshape_cat_features(data=test_data, cast_col='지역', value_col='counter')\n",
    "    ], axis=1)"
   ]
  },
  {
   "cell_type": "code",
   "execution_count": 56,
   "metadata": {},
   "outputs": [
    {
     "data": {
      "text/html": [
       "<style  type=\"text/css\" >\n",
       "    #T_983cdd57_1870_11ec_af2c_782b46b87dberow3_col1 {\n",
       "            background-color:  lightgreen;\n",
       "        }    #T_983cdd57_1870_11ec_af2c_782b46b87dberow27_col1 {\n",
       "            background-color:  lightgreen;\n",
       "        }    #T_983cdd57_1870_11ec_af2c_782b46b87dberow29_col1 {\n",
       "            background-color:  lightgreen;\n",
       "        }    #T_983cdd57_1870_11ec_af2c_782b46b87dberow40_col1 {\n",
       "            background-color:  lightgreen;\n",
       "        }    #T_983cdd57_1870_11ec_af2c_782b46b87dberow42_col1 {\n",
       "            background-color:  lightgreen;\n",
       "        }    #T_983cdd57_1870_11ec_af2c_782b46b87dberow56_col1 {\n",
       "            background-color:  lightgreen;\n",
       "        }</style><table id=\"T_983cdd57_1870_11ec_af2c_782b46b87dbe\" ><thead>    <tr>        <th class=\"blank level0\" ></th>        <th class=\"col_heading level0 col0\" >Description</th>        <th class=\"col_heading level0 col1\" >Value</th>    </tr></thead><tbody>\n",
       "                <tr>\n",
       "                        <th id=\"T_983cdd57_1870_11ec_af2c_782b46b87dbelevel0_row0\" class=\"row_heading level0 row0\" >0</th>\n",
       "                        <td id=\"T_983cdd57_1870_11ec_af2c_782b46b87dberow0_col0\" class=\"data row0 col0\" >session_id</td>\n",
       "                        <td id=\"T_983cdd57_1870_11ec_af2c_782b46b87dberow0_col1\" class=\"data row0 col1\" >123</td>\n",
       "            </tr>\n",
       "            <tr>\n",
       "                        <th id=\"T_983cdd57_1870_11ec_af2c_782b46b87dbelevel0_row1\" class=\"row_heading level0 row1\" >1</th>\n",
       "                        <td id=\"T_983cdd57_1870_11ec_af2c_782b46b87dberow1_col0\" class=\"data row1 col0\" >Target</td>\n",
       "                        <td id=\"T_983cdd57_1870_11ec_af2c_782b46b87dberow1_col1\" class=\"data row1 col1\" >등록차량수</td>\n",
       "            </tr>\n",
       "            <tr>\n",
       "                        <th id=\"T_983cdd57_1870_11ec_af2c_782b46b87dbelevel0_row2\" class=\"row_heading level0 row2\" >2</th>\n",
       "                        <td id=\"T_983cdd57_1870_11ec_af2c_782b46b87dberow2_col0\" class=\"data row2 col0\" >Original Data</td>\n",
       "                        <td id=\"T_983cdd57_1870_11ec_af2c_782b46b87dberow2_col1\" class=\"data row2 col1\" >(3375, 75)</td>\n",
       "            </tr>\n",
       "            <tr>\n",
       "                        <th id=\"T_983cdd57_1870_11ec_af2c_782b46b87dbelevel0_row3\" class=\"row_heading level0 row3\" >3</th>\n",
       "                        <td id=\"T_983cdd57_1870_11ec_af2c_782b46b87dberow3_col0\" class=\"data row3 col0\" >Missing Values</td>\n",
       "                        <td id=\"T_983cdd57_1870_11ec_af2c_782b46b87dberow3_col1\" class=\"data row3 col1\" >True</td>\n",
       "            </tr>\n",
       "            <tr>\n",
       "                        <th id=\"T_983cdd57_1870_11ec_af2c_782b46b87dbelevel0_row4\" class=\"row_heading level0 row4\" >4</th>\n",
       "                        <td id=\"T_983cdd57_1870_11ec_af2c_782b46b87dberow4_col0\" class=\"data row4 col0\" >Numeric Features</td>\n",
       "                        <td id=\"T_983cdd57_1870_11ec_af2c_782b46b87dberow4_col1\" class=\"data row4 col1\" >27</td>\n",
       "            </tr>\n",
       "            <tr>\n",
       "                        <th id=\"T_983cdd57_1870_11ec_af2c_782b46b87dbelevel0_row5\" class=\"row_heading level0 row5\" >5</th>\n",
       "                        <td id=\"T_983cdd57_1870_11ec_af2c_782b46b87dberow5_col0\" class=\"data row5 col0\" >Categorical Features</td>\n",
       "                        <td id=\"T_983cdd57_1870_11ec_af2c_782b46b87dberow5_col1\" class=\"data row5 col1\" >47</td>\n",
       "            </tr>\n",
       "            <tr>\n",
       "                        <th id=\"T_983cdd57_1870_11ec_af2c_782b46b87dbelevel0_row6\" class=\"row_heading level0 row6\" >6</th>\n",
       "                        <td id=\"T_983cdd57_1870_11ec_af2c_782b46b87dberow6_col0\" class=\"data row6 col0\" >Ordinal Features</td>\n",
       "                        <td id=\"T_983cdd57_1870_11ec_af2c_782b46b87dberow6_col1\" class=\"data row6 col1\" >False</td>\n",
       "            </tr>\n",
       "            <tr>\n",
       "                        <th id=\"T_983cdd57_1870_11ec_af2c_782b46b87dbelevel0_row7\" class=\"row_heading level0 row7\" >7</th>\n",
       "                        <td id=\"T_983cdd57_1870_11ec_af2c_782b46b87dberow7_col0\" class=\"data row7 col0\" >High Cardinality Features</td>\n",
       "                        <td id=\"T_983cdd57_1870_11ec_af2c_782b46b87dberow7_col1\" class=\"data row7 col1\" >False</td>\n",
       "            </tr>\n",
       "            <tr>\n",
       "                        <th id=\"T_983cdd57_1870_11ec_af2c_782b46b87dbelevel0_row8\" class=\"row_heading level0 row8\" >8</th>\n",
       "                        <td id=\"T_983cdd57_1870_11ec_af2c_782b46b87dberow8_col0\" class=\"data row8 col0\" >High Cardinality Method</td>\n",
       "                        <td id=\"T_983cdd57_1870_11ec_af2c_782b46b87dberow8_col1\" class=\"data row8 col1\" >None</td>\n",
       "            </tr>\n",
       "            <tr>\n",
       "                        <th id=\"T_983cdd57_1870_11ec_af2c_782b46b87dbelevel0_row9\" class=\"row_heading level0 row9\" >9</th>\n",
       "                        <td id=\"T_983cdd57_1870_11ec_af2c_782b46b87dberow9_col0\" class=\"data row9 col0\" >Transformed Train Set</td>\n",
       "                        <td id=\"T_983cdd57_1870_11ec_af2c_782b46b87dberow9_col1\" class=\"data row9 col1\" >(2063, 779)</td>\n",
       "            </tr>\n",
       "            <tr>\n",
       "                        <th id=\"T_983cdd57_1870_11ec_af2c_782b46b87dbelevel0_row10\" class=\"row_heading level0 row10\" >10</th>\n",
       "                        <td id=\"T_983cdd57_1870_11ec_af2c_782b46b87dberow10_col0\" class=\"data row10 col0\" >Transformed Test Set</td>\n",
       "                        <td id=\"T_983cdd57_1870_11ec_af2c_782b46b87dberow10_col1\" class=\"data row10 col1\" >(889, 779)</td>\n",
       "            </tr>\n",
       "            <tr>\n",
       "                        <th id=\"T_983cdd57_1870_11ec_af2c_782b46b87dbelevel0_row11\" class=\"row_heading level0 row11\" >11</th>\n",
       "                        <td id=\"T_983cdd57_1870_11ec_af2c_782b46b87dberow11_col0\" class=\"data row11 col0\" >Shuffle Train-Test</td>\n",
       "                        <td id=\"T_983cdd57_1870_11ec_af2c_782b46b87dberow11_col1\" class=\"data row11 col1\" >True</td>\n",
       "            </tr>\n",
       "            <tr>\n",
       "                        <th id=\"T_983cdd57_1870_11ec_af2c_782b46b87dbelevel0_row12\" class=\"row_heading level0 row12\" >12</th>\n",
       "                        <td id=\"T_983cdd57_1870_11ec_af2c_782b46b87dberow12_col0\" class=\"data row12 col0\" >Stratify Train-Test</td>\n",
       "                        <td id=\"T_983cdd57_1870_11ec_af2c_782b46b87dberow12_col1\" class=\"data row12 col1\" >False</td>\n",
       "            </tr>\n",
       "            <tr>\n",
       "                        <th id=\"T_983cdd57_1870_11ec_af2c_782b46b87dbelevel0_row13\" class=\"row_heading level0 row13\" >13</th>\n",
       "                        <td id=\"T_983cdd57_1870_11ec_af2c_782b46b87dberow13_col0\" class=\"data row13 col0\" >Fold Generator</td>\n",
       "                        <td id=\"T_983cdd57_1870_11ec_af2c_782b46b87dberow13_col1\" class=\"data row13 col1\" >KFold</td>\n",
       "            </tr>\n",
       "            <tr>\n",
       "                        <th id=\"T_983cdd57_1870_11ec_af2c_782b46b87dbelevel0_row14\" class=\"row_heading level0 row14\" >14</th>\n",
       "                        <td id=\"T_983cdd57_1870_11ec_af2c_782b46b87dberow14_col0\" class=\"data row14 col0\" >Fold Number</td>\n",
       "                        <td id=\"T_983cdd57_1870_11ec_af2c_782b46b87dberow14_col1\" class=\"data row14 col1\" >10</td>\n",
       "            </tr>\n",
       "            <tr>\n",
       "                        <th id=\"T_983cdd57_1870_11ec_af2c_782b46b87dbelevel0_row15\" class=\"row_heading level0 row15\" >15</th>\n",
       "                        <td id=\"T_983cdd57_1870_11ec_af2c_782b46b87dberow15_col0\" class=\"data row15 col0\" >CPU Jobs</td>\n",
       "                        <td id=\"T_983cdd57_1870_11ec_af2c_782b46b87dberow15_col1\" class=\"data row15 col1\" >-1</td>\n",
       "            </tr>\n",
       "            <tr>\n",
       "                        <th id=\"T_983cdd57_1870_11ec_af2c_782b46b87dbelevel0_row16\" class=\"row_heading level0 row16\" >16</th>\n",
       "                        <td id=\"T_983cdd57_1870_11ec_af2c_782b46b87dberow16_col0\" class=\"data row16 col0\" >Use GPU</td>\n",
       "                        <td id=\"T_983cdd57_1870_11ec_af2c_782b46b87dberow16_col1\" class=\"data row16 col1\" >False</td>\n",
       "            </tr>\n",
       "            <tr>\n",
       "                        <th id=\"T_983cdd57_1870_11ec_af2c_782b46b87dbelevel0_row17\" class=\"row_heading level0 row17\" >17</th>\n",
       "                        <td id=\"T_983cdd57_1870_11ec_af2c_782b46b87dberow17_col0\" class=\"data row17 col0\" >Log Experiment</td>\n",
       "                        <td id=\"T_983cdd57_1870_11ec_af2c_782b46b87dberow17_col1\" class=\"data row17 col1\" >False</td>\n",
       "            </tr>\n",
       "            <tr>\n",
       "                        <th id=\"T_983cdd57_1870_11ec_af2c_782b46b87dbelevel0_row18\" class=\"row_heading level0 row18\" >18</th>\n",
       "                        <td id=\"T_983cdd57_1870_11ec_af2c_782b46b87dberow18_col0\" class=\"data row18 col0\" >Experiment Name</td>\n",
       "                        <td id=\"T_983cdd57_1870_11ec_af2c_782b46b87dberow18_col1\" class=\"data row18 col1\" >reg-default-name</td>\n",
       "            </tr>\n",
       "            <tr>\n",
       "                        <th id=\"T_983cdd57_1870_11ec_af2c_782b46b87dbelevel0_row19\" class=\"row_heading level0 row19\" >19</th>\n",
       "                        <td id=\"T_983cdd57_1870_11ec_af2c_782b46b87dberow19_col0\" class=\"data row19 col0\" >USI</td>\n",
       "                        <td id=\"T_983cdd57_1870_11ec_af2c_782b46b87dberow19_col1\" class=\"data row19 col1\" >62e3</td>\n",
       "            </tr>\n",
       "            <tr>\n",
       "                        <th id=\"T_983cdd57_1870_11ec_af2c_782b46b87dbelevel0_row20\" class=\"row_heading level0 row20\" >20</th>\n",
       "                        <td id=\"T_983cdd57_1870_11ec_af2c_782b46b87dberow20_col0\" class=\"data row20 col0\" >Imputation Type</td>\n",
       "                        <td id=\"T_983cdd57_1870_11ec_af2c_782b46b87dberow20_col1\" class=\"data row20 col1\" >simple</td>\n",
       "            </tr>\n",
       "            <tr>\n",
       "                        <th id=\"T_983cdd57_1870_11ec_af2c_782b46b87dbelevel0_row21\" class=\"row_heading level0 row21\" >21</th>\n",
       "                        <td id=\"T_983cdd57_1870_11ec_af2c_782b46b87dberow21_col0\" class=\"data row21 col0\" >Iterative Imputation Iteration</td>\n",
       "                        <td id=\"T_983cdd57_1870_11ec_af2c_782b46b87dberow21_col1\" class=\"data row21 col1\" >None</td>\n",
       "            </tr>\n",
       "            <tr>\n",
       "                        <th id=\"T_983cdd57_1870_11ec_af2c_782b46b87dbelevel0_row22\" class=\"row_heading level0 row22\" >22</th>\n",
       "                        <td id=\"T_983cdd57_1870_11ec_af2c_782b46b87dberow22_col0\" class=\"data row22 col0\" >Numeric Imputer</td>\n",
       "                        <td id=\"T_983cdd57_1870_11ec_af2c_782b46b87dberow22_col1\" class=\"data row22 col1\" >mean</td>\n",
       "            </tr>\n",
       "            <tr>\n",
       "                        <th id=\"T_983cdd57_1870_11ec_af2c_782b46b87dbelevel0_row23\" class=\"row_heading level0 row23\" >23</th>\n",
       "                        <td id=\"T_983cdd57_1870_11ec_af2c_782b46b87dberow23_col0\" class=\"data row23 col0\" >Iterative Imputation Numeric Model</td>\n",
       "                        <td id=\"T_983cdd57_1870_11ec_af2c_782b46b87dberow23_col1\" class=\"data row23 col1\" >None</td>\n",
       "            </tr>\n",
       "            <tr>\n",
       "                        <th id=\"T_983cdd57_1870_11ec_af2c_782b46b87dbelevel0_row24\" class=\"row_heading level0 row24\" >24</th>\n",
       "                        <td id=\"T_983cdd57_1870_11ec_af2c_782b46b87dberow24_col0\" class=\"data row24 col0\" >Categorical Imputer</td>\n",
       "                        <td id=\"T_983cdd57_1870_11ec_af2c_782b46b87dberow24_col1\" class=\"data row24 col1\" >constant</td>\n",
       "            </tr>\n",
       "            <tr>\n",
       "                        <th id=\"T_983cdd57_1870_11ec_af2c_782b46b87dbelevel0_row25\" class=\"row_heading level0 row25\" >25</th>\n",
       "                        <td id=\"T_983cdd57_1870_11ec_af2c_782b46b87dberow25_col0\" class=\"data row25 col0\" >Iterative Imputation Categorical Model</td>\n",
       "                        <td id=\"T_983cdd57_1870_11ec_af2c_782b46b87dberow25_col1\" class=\"data row25 col1\" >None</td>\n",
       "            </tr>\n",
       "            <tr>\n",
       "                        <th id=\"T_983cdd57_1870_11ec_af2c_782b46b87dbelevel0_row26\" class=\"row_heading level0 row26\" >26</th>\n",
       "                        <td id=\"T_983cdd57_1870_11ec_af2c_782b46b87dberow26_col0\" class=\"data row26 col0\" >Unknown Categoricals Handling</td>\n",
       "                        <td id=\"T_983cdd57_1870_11ec_af2c_782b46b87dberow26_col1\" class=\"data row26 col1\" >least_frequent</td>\n",
       "            </tr>\n",
       "            <tr>\n",
       "                        <th id=\"T_983cdd57_1870_11ec_af2c_782b46b87dbelevel0_row27\" class=\"row_heading level0 row27\" >27</th>\n",
       "                        <td id=\"T_983cdd57_1870_11ec_af2c_782b46b87dberow27_col0\" class=\"data row27 col0\" >Normalize</td>\n",
       "                        <td id=\"T_983cdd57_1870_11ec_af2c_782b46b87dberow27_col1\" class=\"data row27 col1\" >True</td>\n",
       "            </tr>\n",
       "            <tr>\n",
       "                        <th id=\"T_983cdd57_1870_11ec_af2c_782b46b87dbelevel0_row28\" class=\"row_heading level0 row28\" >28</th>\n",
       "                        <td id=\"T_983cdd57_1870_11ec_af2c_782b46b87dberow28_col0\" class=\"data row28 col0\" >Normalize Method</td>\n",
       "                        <td id=\"T_983cdd57_1870_11ec_af2c_782b46b87dberow28_col1\" class=\"data row28 col1\" >zscore</td>\n",
       "            </tr>\n",
       "            <tr>\n",
       "                        <th id=\"T_983cdd57_1870_11ec_af2c_782b46b87dbelevel0_row29\" class=\"row_heading level0 row29\" >29</th>\n",
       "                        <td id=\"T_983cdd57_1870_11ec_af2c_782b46b87dberow29_col0\" class=\"data row29 col0\" >Transformation</td>\n",
       "                        <td id=\"T_983cdd57_1870_11ec_af2c_782b46b87dberow29_col1\" class=\"data row29 col1\" >True</td>\n",
       "            </tr>\n",
       "            <tr>\n",
       "                        <th id=\"T_983cdd57_1870_11ec_af2c_782b46b87dbelevel0_row30\" class=\"row_heading level0 row30\" >30</th>\n",
       "                        <td id=\"T_983cdd57_1870_11ec_af2c_782b46b87dberow30_col0\" class=\"data row30 col0\" >Transformation Method</td>\n",
       "                        <td id=\"T_983cdd57_1870_11ec_af2c_782b46b87dberow30_col1\" class=\"data row30 col1\" >yeo-johnson</td>\n",
       "            </tr>\n",
       "            <tr>\n",
       "                        <th id=\"T_983cdd57_1870_11ec_af2c_782b46b87dbelevel0_row31\" class=\"row_heading level0 row31\" >31</th>\n",
       "                        <td id=\"T_983cdd57_1870_11ec_af2c_782b46b87dberow31_col0\" class=\"data row31 col0\" >PCA</td>\n",
       "                        <td id=\"T_983cdd57_1870_11ec_af2c_782b46b87dberow31_col1\" class=\"data row31 col1\" >False</td>\n",
       "            </tr>\n",
       "            <tr>\n",
       "                        <th id=\"T_983cdd57_1870_11ec_af2c_782b46b87dbelevel0_row32\" class=\"row_heading level0 row32\" >32</th>\n",
       "                        <td id=\"T_983cdd57_1870_11ec_af2c_782b46b87dberow32_col0\" class=\"data row32 col0\" >PCA Method</td>\n",
       "                        <td id=\"T_983cdd57_1870_11ec_af2c_782b46b87dberow32_col1\" class=\"data row32 col1\" >None</td>\n",
       "            </tr>\n",
       "            <tr>\n",
       "                        <th id=\"T_983cdd57_1870_11ec_af2c_782b46b87dbelevel0_row33\" class=\"row_heading level0 row33\" >33</th>\n",
       "                        <td id=\"T_983cdd57_1870_11ec_af2c_782b46b87dberow33_col0\" class=\"data row33 col0\" >PCA Components</td>\n",
       "                        <td id=\"T_983cdd57_1870_11ec_af2c_782b46b87dberow33_col1\" class=\"data row33 col1\" >None</td>\n",
       "            </tr>\n",
       "            <tr>\n",
       "                        <th id=\"T_983cdd57_1870_11ec_af2c_782b46b87dbelevel0_row34\" class=\"row_heading level0 row34\" >34</th>\n",
       "                        <td id=\"T_983cdd57_1870_11ec_af2c_782b46b87dberow34_col0\" class=\"data row34 col0\" >Ignore Low Variance</td>\n",
       "                        <td id=\"T_983cdd57_1870_11ec_af2c_782b46b87dberow34_col1\" class=\"data row34 col1\" >False</td>\n",
       "            </tr>\n",
       "            <tr>\n",
       "                        <th id=\"T_983cdd57_1870_11ec_af2c_782b46b87dbelevel0_row35\" class=\"row_heading level0 row35\" >35</th>\n",
       "                        <td id=\"T_983cdd57_1870_11ec_af2c_782b46b87dberow35_col0\" class=\"data row35 col0\" >Combine Rare Levels</td>\n",
       "                        <td id=\"T_983cdd57_1870_11ec_af2c_782b46b87dberow35_col1\" class=\"data row35 col1\" >False</td>\n",
       "            </tr>\n",
       "            <tr>\n",
       "                        <th id=\"T_983cdd57_1870_11ec_af2c_782b46b87dbelevel0_row36\" class=\"row_heading level0 row36\" >36</th>\n",
       "                        <td id=\"T_983cdd57_1870_11ec_af2c_782b46b87dberow36_col0\" class=\"data row36 col0\" >Rare Level Threshold</td>\n",
       "                        <td id=\"T_983cdd57_1870_11ec_af2c_782b46b87dberow36_col1\" class=\"data row36 col1\" >None</td>\n",
       "            </tr>\n",
       "            <tr>\n",
       "                        <th id=\"T_983cdd57_1870_11ec_af2c_782b46b87dbelevel0_row37\" class=\"row_heading level0 row37\" >37</th>\n",
       "                        <td id=\"T_983cdd57_1870_11ec_af2c_782b46b87dberow37_col0\" class=\"data row37 col0\" >Numeric Binning</td>\n",
       "                        <td id=\"T_983cdd57_1870_11ec_af2c_782b46b87dberow37_col1\" class=\"data row37 col1\" >False</td>\n",
       "            </tr>\n",
       "            <tr>\n",
       "                        <th id=\"T_983cdd57_1870_11ec_af2c_782b46b87dbelevel0_row38\" class=\"row_heading level0 row38\" >38</th>\n",
       "                        <td id=\"T_983cdd57_1870_11ec_af2c_782b46b87dberow38_col0\" class=\"data row38 col0\" >Remove Outliers</td>\n",
       "                        <td id=\"T_983cdd57_1870_11ec_af2c_782b46b87dberow38_col1\" class=\"data row38 col1\" >False</td>\n",
       "            </tr>\n",
       "            <tr>\n",
       "                        <th id=\"T_983cdd57_1870_11ec_af2c_782b46b87dbelevel0_row39\" class=\"row_heading level0 row39\" >39</th>\n",
       "                        <td id=\"T_983cdd57_1870_11ec_af2c_782b46b87dberow39_col0\" class=\"data row39 col0\" >Outliers Threshold</td>\n",
       "                        <td id=\"T_983cdd57_1870_11ec_af2c_782b46b87dberow39_col1\" class=\"data row39 col1\" >None</td>\n",
       "            </tr>\n",
       "            <tr>\n",
       "                        <th id=\"T_983cdd57_1870_11ec_af2c_782b46b87dbelevel0_row40\" class=\"row_heading level0 row40\" >40</th>\n",
       "                        <td id=\"T_983cdd57_1870_11ec_af2c_782b46b87dberow40_col0\" class=\"data row40 col0\" >Remove Multicollinearity</td>\n",
       "                        <td id=\"T_983cdd57_1870_11ec_af2c_782b46b87dberow40_col1\" class=\"data row40 col1\" >True</td>\n",
       "            </tr>\n",
       "            <tr>\n",
       "                        <th id=\"T_983cdd57_1870_11ec_af2c_782b46b87dbelevel0_row41\" class=\"row_heading level0 row41\" >41</th>\n",
       "                        <td id=\"T_983cdd57_1870_11ec_af2c_782b46b87dberow41_col0\" class=\"data row41 col0\" >Multicollinearity Threshold</td>\n",
       "                        <td id=\"T_983cdd57_1870_11ec_af2c_782b46b87dberow41_col1\" class=\"data row41 col1\" >0.900000</td>\n",
       "            </tr>\n",
       "            <tr>\n",
       "                        <th id=\"T_983cdd57_1870_11ec_af2c_782b46b87dbelevel0_row42\" class=\"row_heading level0 row42\" >42</th>\n",
       "                        <td id=\"T_983cdd57_1870_11ec_af2c_782b46b87dberow42_col0\" class=\"data row42 col0\" >Remove Perfect Collinearity</td>\n",
       "                        <td id=\"T_983cdd57_1870_11ec_af2c_782b46b87dberow42_col1\" class=\"data row42 col1\" >True</td>\n",
       "            </tr>\n",
       "            <tr>\n",
       "                        <th id=\"T_983cdd57_1870_11ec_af2c_782b46b87dbelevel0_row43\" class=\"row_heading level0 row43\" >43</th>\n",
       "                        <td id=\"T_983cdd57_1870_11ec_af2c_782b46b87dberow43_col0\" class=\"data row43 col0\" >Clustering</td>\n",
       "                        <td id=\"T_983cdd57_1870_11ec_af2c_782b46b87dberow43_col1\" class=\"data row43 col1\" >False</td>\n",
       "            </tr>\n",
       "            <tr>\n",
       "                        <th id=\"T_983cdd57_1870_11ec_af2c_782b46b87dbelevel0_row44\" class=\"row_heading level0 row44\" >44</th>\n",
       "                        <td id=\"T_983cdd57_1870_11ec_af2c_782b46b87dberow44_col0\" class=\"data row44 col0\" >Clustering Iteration</td>\n",
       "                        <td id=\"T_983cdd57_1870_11ec_af2c_782b46b87dberow44_col1\" class=\"data row44 col1\" >None</td>\n",
       "            </tr>\n",
       "            <tr>\n",
       "                        <th id=\"T_983cdd57_1870_11ec_af2c_782b46b87dbelevel0_row45\" class=\"row_heading level0 row45\" >45</th>\n",
       "                        <td id=\"T_983cdd57_1870_11ec_af2c_782b46b87dberow45_col0\" class=\"data row45 col0\" >Polynomial Features</td>\n",
       "                        <td id=\"T_983cdd57_1870_11ec_af2c_782b46b87dberow45_col1\" class=\"data row45 col1\" >False</td>\n",
       "            </tr>\n",
       "            <tr>\n",
       "                        <th id=\"T_983cdd57_1870_11ec_af2c_782b46b87dbelevel0_row46\" class=\"row_heading level0 row46\" >46</th>\n",
       "                        <td id=\"T_983cdd57_1870_11ec_af2c_782b46b87dberow46_col0\" class=\"data row46 col0\" >Polynomial Degree</td>\n",
       "                        <td id=\"T_983cdd57_1870_11ec_af2c_782b46b87dberow46_col1\" class=\"data row46 col1\" >None</td>\n",
       "            </tr>\n",
       "            <tr>\n",
       "                        <th id=\"T_983cdd57_1870_11ec_af2c_782b46b87dbelevel0_row47\" class=\"row_heading level0 row47\" >47</th>\n",
       "                        <td id=\"T_983cdd57_1870_11ec_af2c_782b46b87dberow47_col0\" class=\"data row47 col0\" >Trignometry Features</td>\n",
       "                        <td id=\"T_983cdd57_1870_11ec_af2c_782b46b87dberow47_col1\" class=\"data row47 col1\" >False</td>\n",
       "            </tr>\n",
       "            <tr>\n",
       "                        <th id=\"T_983cdd57_1870_11ec_af2c_782b46b87dbelevel0_row48\" class=\"row_heading level0 row48\" >48</th>\n",
       "                        <td id=\"T_983cdd57_1870_11ec_af2c_782b46b87dberow48_col0\" class=\"data row48 col0\" >Polynomial Threshold</td>\n",
       "                        <td id=\"T_983cdd57_1870_11ec_af2c_782b46b87dberow48_col1\" class=\"data row48 col1\" >None</td>\n",
       "            </tr>\n",
       "            <tr>\n",
       "                        <th id=\"T_983cdd57_1870_11ec_af2c_782b46b87dbelevel0_row49\" class=\"row_heading level0 row49\" >49</th>\n",
       "                        <td id=\"T_983cdd57_1870_11ec_af2c_782b46b87dberow49_col0\" class=\"data row49 col0\" >Group Features</td>\n",
       "                        <td id=\"T_983cdd57_1870_11ec_af2c_782b46b87dberow49_col1\" class=\"data row49 col1\" >False</td>\n",
       "            </tr>\n",
       "            <tr>\n",
       "                        <th id=\"T_983cdd57_1870_11ec_af2c_782b46b87dbelevel0_row50\" class=\"row_heading level0 row50\" >50</th>\n",
       "                        <td id=\"T_983cdd57_1870_11ec_af2c_782b46b87dberow50_col0\" class=\"data row50 col0\" >Feature Selection</td>\n",
       "                        <td id=\"T_983cdd57_1870_11ec_af2c_782b46b87dberow50_col1\" class=\"data row50 col1\" >False</td>\n",
       "            </tr>\n",
       "            <tr>\n",
       "                        <th id=\"T_983cdd57_1870_11ec_af2c_782b46b87dbelevel0_row51\" class=\"row_heading level0 row51\" >51</th>\n",
       "                        <td id=\"T_983cdd57_1870_11ec_af2c_782b46b87dberow51_col0\" class=\"data row51 col0\" >Feature Selection Method</td>\n",
       "                        <td id=\"T_983cdd57_1870_11ec_af2c_782b46b87dberow51_col1\" class=\"data row51 col1\" >classic</td>\n",
       "            </tr>\n",
       "            <tr>\n",
       "                        <th id=\"T_983cdd57_1870_11ec_af2c_782b46b87dbelevel0_row52\" class=\"row_heading level0 row52\" >52</th>\n",
       "                        <td id=\"T_983cdd57_1870_11ec_af2c_782b46b87dberow52_col0\" class=\"data row52 col0\" >Features Selection Threshold</td>\n",
       "                        <td id=\"T_983cdd57_1870_11ec_af2c_782b46b87dberow52_col1\" class=\"data row52 col1\" >None</td>\n",
       "            </tr>\n",
       "            <tr>\n",
       "                        <th id=\"T_983cdd57_1870_11ec_af2c_782b46b87dbelevel0_row53\" class=\"row_heading level0 row53\" >53</th>\n",
       "                        <td id=\"T_983cdd57_1870_11ec_af2c_782b46b87dberow53_col0\" class=\"data row53 col0\" >Feature Interaction</td>\n",
       "                        <td id=\"T_983cdd57_1870_11ec_af2c_782b46b87dberow53_col1\" class=\"data row53 col1\" >False</td>\n",
       "            </tr>\n",
       "            <tr>\n",
       "                        <th id=\"T_983cdd57_1870_11ec_af2c_782b46b87dbelevel0_row54\" class=\"row_heading level0 row54\" >54</th>\n",
       "                        <td id=\"T_983cdd57_1870_11ec_af2c_782b46b87dberow54_col0\" class=\"data row54 col0\" >Feature Ratio</td>\n",
       "                        <td id=\"T_983cdd57_1870_11ec_af2c_782b46b87dberow54_col1\" class=\"data row54 col1\" >False</td>\n",
       "            </tr>\n",
       "            <tr>\n",
       "                        <th id=\"T_983cdd57_1870_11ec_af2c_782b46b87dbelevel0_row55\" class=\"row_heading level0 row55\" >55</th>\n",
       "                        <td id=\"T_983cdd57_1870_11ec_af2c_782b46b87dberow55_col0\" class=\"data row55 col0\" >Interaction Threshold</td>\n",
       "                        <td id=\"T_983cdd57_1870_11ec_af2c_782b46b87dberow55_col1\" class=\"data row55 col1\" >None</td>\n",
       "            </tr>\n",
       "            <tr>\n",
       "                        <th id=\"T_983cdd57_1870_11ec_af2c_782b46b87dbelevel0_row56\" class=\"row_heading level0 row56\" >56</th>\n",
       "                        <td id=\"T_983cdd57_1870_11ec_af2c_782b46b87dberow56_col0\" class=\"data row56 col0\" >Transform Target</td>\n",
       "                        <td id=\"T_983cdd57_1870_11ec_af2c_782b46b87dberow56_col1\" class=\"data row56 col1\" >True</td>\n",
       "            </tr>\n",
       "            <tr>\n",
       "                        <th id=\"T_983cdd57_1870_11ec_af2c_782b46b87dbelevel0_row57\" class=\"row_heading level0 row57\" >57</th>\n",
       "                        <td id=\"T_983cdd57_1870_11ec_af2c_782b46b87dberow57_col0\" class=\"data row57 col0\" >Transform Target Method</td>\n",
       "                        <td id=\"T_983cdd57_1870_11ec_af2c_782b46b87dberow57_col1\" class=\"data row57 col1\" >box-cox</td>\n",
       "            </tr>\n",
       "    </tbody></table>"
      ],
      "text/plain": [
       "<pandas.io.formats.style.Styler at 0x1904b7f9640>"
      ]
     },
     "metadata": {},
     "output_type": "display_data"
    }
   ],
   "source": [
    "# Normalization, Transformation, Target_Transformation, Remove Multicollinearity (threshold = 0.95)를 하여 모델 Setup\n",
    "df_reg = setup(data = train_data,\n",
    "               target = '등록차량수',\n",
    "               session_id = 123,\n",
    "               fold_shuffle = True,\n",
    "               normalize = True,\n",
    "               transformation = True,\n",
    "               transform_target = True,\n",
    "               remove_multicollinearity = True,\n",
    "               multicollinearity_threshold = 0.90)"
   ]
  },
  {
   "cell_type": "code",
   "execution_count": 57,
   "metadata": {},
   "outputs": [
    {
     "data": {
      "text/html": [
       "<div>\n",
       "<style scoped>\n",
       "    .dataframe tbody tr th:only-of-type {\n",
       "        vertical-align: middle;\n",
       "    }\n",
       "\n",
       "    .dataframe tbody tr th {\n",
       "        vertical-align: top;\n",
       "    }\n",
       "\n",
       "    .dataframe thead th {\n",
       "        text-align: right;\n",
       "    }\n",
       "</style>\n",
       "<table border=\"1\" class=\"dataframe\">\n",
       "  <thead>\n",
       "    <tr style=\"text-align: right;\">\n",
       "      <th></th>\n",
       "      <th>총세대수</th>\n",
       "      <th>전용면적</th>\n",
       "      <th>전용면적별세대수</th>\n",
       "      <th>공가수</th>\n",
       "      <th>단지내주차면수</th>\n",
       "      <th>10대미만(남자)</th>\n",
       "      <th>10대(남자)</th>\n",
       "      <th>20대(여자)</th>\n",
       "      <th>20대(남자)</th>\n",
       "      <th>30대(여자)</th>\n",
       "      <th>...</th>\n",
       "      <th>대전광역시_not_available</th>\n",
       "      <th>부산광역시_not_available</th>\n",
       "      <th>서울특별시_not_available</th>\n",
       "      <th>세종특별자치시_not_available</th>\n",
       "      <th>울산광역시_not_available</th>\n",
       "      <th>전라남도_not_available</th>\n",
       "      <th>전라북도_not_available</th>\n",
       "      <th>제주특별자치도_not_available</th>\n",
       "      <th>충청남도_not_available</th>\n",
       "      <th>충청북도_not_available</th>\n",
       "    </tr>\n",
       "  </thead>\n",
       "  <tbody>\n",
       "    <tr>\n",
       "      <th>0</th>\n",
       "      <td>0.289043</td>\n",
       "      <td>-0.020735</td>\n",
       "      <td>0.727946</td>\n",
       "      <td>1.816672</td>\n",
       "      <td>1.698622</td>\n",
       "      <td>0.226600</td>\n",
       "      <td>1.192272</td>\n",
       "      <td>-0.224943</td>\n",
       "      <td>0.575708</td>\n",
       "      <td>-0.801599</td>\n",
       "      <td>...</td>\n",
       "      <td>1.0</td>\n",
       "      <td>1.0</td>\n",
       "      <td>1.0</td>\n",
       "      <td>1.0</td>\n",
       "      <td>1.0</td>\n",
       "      <td>1.0</td>\n",
       "      <td>1.0</td>\n",
       "      <td>1.0</td>\n",
       "      <td>1.0</td>\n",
       "      <td>1.0</td>\n",
       "    </tr>\n",
       "    <tr>\n",
       "      <th>1</th>\n",
       "      <td>0.289043</td>\n",
       "      <td>-0.020735</td>\n",
       "      <td>-0.954060</td>\n",
       "      <td>1.816672</td>\n",
       "      <td>1.698622</td>\n",
       "      <td>0.226600</td>\n",
       "      <td>1.192272</td>\n",
       "      <td>-0.224943</td>\n",
       "      <td>0.575708</td>\n",
       "      <td>-0.801599</td>\n",
       "      <td>...</td>\n",
       "      <td>1.0</td>\n",
       "      <td>1.0</td>\n",
       "      <td>1.0</td>\n",
       "      <td>1.0</td>\n",
       "      <td>1.0</td>\n",
       "      <td>1.0</td>\n",
       "      <td>1.0</td>\n",
       "      <td>1.0</td>\n",
       "      <td>1.0</td>\n",
       "      <td>1.0</td>\n",
       "    </tr>\n",
       "    <tr>\n",
       "      <th>2</th>\n",
       "      <td>0.289043</td>\n",
       "      <td>0.733205</td>\n",
       "      <td>1.734035</td>\n",
       "      <td>1.816672</td>\n",
       "      <td>1.698622</td>\n",
       "      <td>0.226600</td>\n",
       "      <td>1.192272</td>\n",
       "      <td>-0.224943</td>\n",
       "      <td>0.575708</td>\n",
       "      <td>-0.801599</td>\n",
       "      <td>...</td>\n",
       "      <td>1.0</td>\n",
       "      <td>1.0</td>\n",
       "      <td>1.0</td>\n",
       "      <td>1.0</td>\n",
       "      <td>1.0</td>\n",
       "      <td>1.0</td>\n",
       "      <td>1.0</td>\n",
       "      <td>1.0</td>\n",
       "      <td>1.0</td>\n",
       "      <td>1.0</td>\n",
       "    </tr>\n",
       "    <tr>\n",
       "      <th>3</th>\n",
       "      <td>0.289043</td>\n",
       "      <td>0.733205</td>\n",
       "      <td>-0.954060</td>\n",
       "      <td>1.816672</td>\n",
       "      <td>1.698622</td>\n",
       "      <td>0.226600</td>\n",
       "      <td>1.192272</td>\n",
       "      <td>-0.224943</td>\n",
       "      <td>0.575708</td>\n",
       "      <td>-0.801599</td>\n",
       "      <td>...</td>\n",
       "      <td>1.0</td>\n",
       "      <td>1.0</td>\n",
       "      <td>1.0</td>\n",
       "      <td>1.0</td>\n",
       "      <td>1.0</td>\n",
       "      <td>1.0</td>\n",
       "      <td>1.0</td>\n",
       "      <td>1.0</td>\n",
       "      <td>1.0</td>\n",
       "      <td>1.0</td>\n",
       "    </tr>\n",
       "    <tr>\n",
       "      <th>4</th>\n",
       "      <td>0.289043</td>\n",
       "      <td>0.733205</td>\n",
       "      <td>-0.442271</td>\n",
       "      <td>1.816672</td>\n",
       "      <td>1.698622</td>\n",
       "      <td>0.226600</td>\n",
       "      <td>1.192272</td>\n",
       "      <td>-0.224943</td>\n",
       "      <td>0.575708</td>\n",
       "      <td>-0.801599</td>\n",
       "      <td>...</td>\n",
       "      <td>1.0</td>\n",
       "      <td>1.0</td>\n",
       "      <td>1.0</td>\n",
       "      <td>1.0</td>\n",
       "      <td>1.0</td>\n",
       "      <td>1.0</td>\n",
       "      <td>1.0</td>\n",
       "      <td>1.0</td>\n",
       "      <td>1.0</td>\n",
       "      <td>1.0</td>\n",
       "    </tr>\n",
       "    <tr>\n",
       "      <th>...</th>\n",
       "      <td>...</td>\n",
       "      <td>...</td>\n",
       "      <td>...</td>\n",
       "      <td>...</td>\n",
       "      <td>...</td>\n",
       "      <td>...</td>\n",
       "      <td>...</td>\n",
       "      <td>...</td>\n",
       "      <td>...</td>\n",
       "      <td>...</td>\n",
       "      <td>...</td>\n",
       "      <td>...</td>\n",
       "      <td>...</td>\n",
       "      <td>...</td>\n",
       "      <td>...</td>\n",
       "      <td>...</td>\n",
       "      <td>...</td>\n",
       "      <td>...</td>\n",
       "      <td>...</td>\n",
       "      <td>...</td>\n",
       "      <td>...</td>\n",
       "    </tr>\n",
       "    <tr>\n",
       "      <th>2947</th>\n",
       "      <td>0.631165</td>\n",
       "      <td>1.081039</td>\n",
       "      <td>-0.648071</td>\n",
       "      <td>-0.451420</td>\n",
       "      <td>1.299358</td>\n",
       "      <td>0.854039</td>\n",
       "      <td>-0.449729</td>\n",
       "      <td>3.070143</td>\n",
       "      <td>-0.023828</td>\n",
       "      <td>3.108648</td>\n",
       "      <td>...</td>\n",
       "      <td>1.0</td>\n",
       "      <td>1.0</td>\n",
       "      <td>1.0</td>\n",
       "      <td>1.0</td>\n",
       "      <td>1.0</td>\n",
       "      <td>1.0</td>\n",
       "      <td>1.0</td>\n",
       "      <td>1.0</td>\n",
       "      <td>1.0</td>\n",
       "      <td>1.0</td>\n",
       "    </tr>\n",
       "    <tr>\n",
       "      <th>2948</th>\n",
       "      <td>0.631165</td>\n",
       "      <td>1.561457</td>\n",
       "      <td>0.888342</td>\n",
       "      <td>-0.451420</td>\n",
       "      <td>1.299358</td>\n",
       "      <td>0.854039</td>\n",
       "      <td>-0.449729</td>\n",
       "      <td>3.070143</td>\n",
       "      <td>-0.023828</td>\n",
       "      <td>3.108648</td>\n",
       "      <td>...</td>\n",
       "      <td>1.0</td>\n",
       "      <td>1.0</td>\n",
       "      <td>1.0</td>\n",
       "      <td>1.0</td>\n",
       "      <td>1.0</td>\n",
       "      <td>1.0</td>\n",
       "      <td>1.0</td>\n",
       "      <td>1.0</td>\n",
       "      <td>1.0</td>\n",
       "      <td>1.0</td>\n",
       "    </tr>\n",
       "    <tr>\n",
       "      <th>2949</th>\n",
       "      <td>0.631165</td>\n",
       "      <td>1.561725</td>\n",
       "      <td>0.139582</td>\n",
       "      <td>-0.451420</td>\n",
       "      <td>1.299358</td>\n",
       "      <td>0.854039</td>\n",
       "      <td>-0.449729</td>\n",
       "      <td>3.070143</td>\n",
       "      <td>-0.023828</td>\n",
       "      <td>3.108648</td>\n",
       "      <td>...</td>\n",
       "      <td>1.0</td>\n",
       "      <td>1.0</td>\n",
       "      <td>1.0</td>\n",
       "      <td>1.0</td>\n",
       "      <td>1.0</td>\n",
       "      <td>1.0</td>\n",
       "      <td>1.0</td>\n",
       "      <td>1.0</td>\n",
       "      <td>1.0</td>\n",
       "      <td>1.0</td>\n",
       "    </tr>\n",
       "    <tr>\n",
       "      <th>2950</th>\n",
       "      <td>0.631165</td>\n",
       "      <td>1.803663</td>\n",
       "      <td>0.914637</td>\n",
       "      <td>-0.451420</td>\n",
       "      <td>1.299358</td>\n",
       "      <td>0.854039</td>\n",
       "      <td>-0.449729</td>\n",
       "      <td>3.070143</td>\n",
       "      <td>-0.023828</td>\n",
       "      <td>3.108648</td>\n",
       "      <td>...</td>\n",
       "      <td>1.0</td>\n",
       "      <td>1.0</td>\n",
       "      <td>1.0</td>\n",
       "      <td>1.0</td>\n",
       "      <td>1.0</td>\n",
       "      <td>1.0</td>\n",
       "      <td>1.0</td>\n",
       "      <td>1.0</td>\n",
       "      <td>1.0</td>\n",
       "      <td>1.0</td>\n",
       "    </tr>\n",
       "    <tr>\n",
       "      <th>2951</th>\n",
       "      <td>0.631165</td>\n",
       "      <td>1.804986</td>\n",
       "      <td>0.166370</td>\n",
       "      <td>-0.451420</td>\n",
       "      <td>1.299358</td>\n",
       "      <td>0.854039</td>\n",
       "      <td>-0.449729</td>\n",
       "      <td>3.070143</td>\n",
       "      <td>-0.023828</td>\n",
       "      <td>3.108648</td>\n",
       "      <td>...</td>\n",
       "      <td>1.0</td>\n",
       "      <td>1.0</td>\n",
       "      <td>1.0</td>\n",
       "      <td>1.0</td>\n",
       "      <td>1.0</td>\n",
       "      <td>1.0</td>\n",
       "      <td>1.0</td>\n",
       "      <td>1.0</td>\n",
       "      <td>1.0</td>\n",
       "      <td>1.0</td>\n",
       "    </tr>\n",
       "  </tbody>\n",
       "</table>\n",
       "<p>2952 rows × 779 columns</p>\n",
       "</div>"
      ],
      "text/plain": [
       "          총세대수      전용면적  전용면적별세대수       공가수   단지내주차면수  10대미만(남자)   10대(남자)  \\\n",
       "0     0.289043 -0.020735  0.727946  1.816672  1.698622   0.226600  1.192272   \n",
       "1     0.289043 -0.020735 -0.954060  1.816672  1.698622   0.226600  1.192272   \n",
       "2     0.289043  0.733205  1.734035  1.816672  1.698622   0.226600  1.192272   \n",
       "3     0.289043  0.733205 -0.954060  1.816672  1.698622   0.226600  1.192272   \n",
       "4     0.289043  0.733205 -0.442271  1.816672  1.698622   0.226600  1.192272   \n",
       "...        ...       ...       ...       ...       ...        ...       ...   \n",
       "2947  0.631165  1.081039 -0.648071 -0.451420  1.299358   0.854039 -0.449729   \n",
       "2948  0.631165  1.561457  0.888342 -0.451420  1.299358   0.854039 -0.449729   \n",
       "2949  0.631165  1.561725  0.139582 -0.451420  1.299358   0.854039 -0.449729   \n",
       "2950  0.631165  1.803663  0.914637 -0.451420  1.299358   0.854039 -0.449729   \n",
       "2951  0.631165  1.804986  0.166370 -0.451420  1.299358   0.854039 -0.449729   \n",
       "\n",
       "       20대(여자)   20대(남자)   30대(여자)  ...  대전광역시_not_available  \\\n",
       "0    -0.224943  0.575708 -0.801599  ...                  1.0   \n",
       "1    -0.224943  0.575708 -0.801599  ...                  1.0   \n",
       "2    -0.224943  0.575708 -0.801599  ...                  1.0   \n",
       "3    -0.224943  0.575708 -0.801599  ...                  1.0   \n",
       "4    -0.224943  0.575708 -0.801599  ...                  1.0   \n",
       "...        ...       ...       ...  ...                  ...   \n",
       "2947  3.070143 -0.023828  3.108648  ...                  1.0   \n",
       "2948  3.070143 -0.023828  3.108648  ...                  1.0   \n",
       "2949  3.070143 -0.023828  3.108648  ...                  1.0   \n",
       "2950  3.070143 -0.023828  3.108648  ...                  1.0   \n",
       "2951  3.070143 -0.023828  3.108648  ...                  1.0   \n",
       "\n",
       "      부산광역시_not_available  서울특별시_not_available  세종특별자치시_not_available  \\\n",
       "0                     1.0                  1.0                    1.0   \n",
       "1                     1.0                  1.0                    1.0   \n",
       "2                     1.0                  1.0                    1.0   \n",
       "3                     1.0                  1.0                    1.0   \n",
       "4                     1.0                  1.0                    1.0   \n",
       "...                   ...                  ...                    ...   \n",
       "2947                  1.0                  1.0                    1.0   \n",
       "2948                  1.0                  1.0                    1.0   \n",
       "2949                  1.0                  1.0                    1.0   \n",
       "2950                  1.0                  1.0                    1.0   \n",
       "2951                  1.0                  1.0                    1.0   \n",
       "\n",
       "      울산광역시_not_available  전라남도_not_available  전라북도_not_available  \\\n",
       "0                     1.0                 1.0                 1.0   \n",
       "1                     1.0                 1.0                 1.0   \n",
       "2                     1.0                 1.0                 1.0   \n",
       "3                     1.0                 1.0                 1.0   \n",
       "4                     1.0                 1.0                 1.0   \n",
       "...                   ...                 ...                 ...   \n",
       "2947                  1.0                 1.0                 1.0   \n",
       "2948                  1.0                 1.0                 1.0   \n",
       "2949                  1.0                 1.0                 1.0   \n",
       "2950                  1.0                 1.0                 1.0   \n",
       "2951                  1.0                 1.0                 1.0   \n",
       "\n",
       "      제주특별자치도_not_available  충청남도_not_available  충청북도_not_available  \n",
       "0                       1.0                 1.0                 1.0  \n",
       "1                       1.0                 1.0                 1.0  \n",
       "2                       1.0                 1.0                 1.0  \n",
       "3                       1.0                 1.0                 1.0  \n",
       "4                       1.0                 1.0                 1.0  \n",
       "...                     ...                 ...                 ...  \n",
       "2947                    1.0                 1.0                 1.0  \n",
       "2948                    1.0                 1.0                 1.0  \n",
       "2949                    1.0                 1.0                 1.0  \n",
       "2950                    1.0                 1.0                 1.0  \n",
       "2951                    1.0                 1.0                 1.0  \n",
       "\n",
       "[2952 rows x 779 columns]"
      ]
     },
     "execution_count": 57,
     "metadata": {},
     "output_type": "execute_result"
    }
   ],
   "source": [
    "# 다중공선성에 의해 제거된 변수 버린 후 나온 결과 \n",
    "get_config('X')"
   ]
  },
  {
   "cell_type": "code",
   "execution_count": 58,
   "metadata": {},
   "outputs": [
    {
     "data": {
      "text/html": [
       "<div>\n",
       "<style scoped>\n",
       "    .dataframe tbody tr th:only-of-type {\n",
       "        vertical-align: middle;\n",
       "    }\n",
       "\n",
       "    .dataframe tbody tr th {\n",
       "        vertical-align: top;\n",
       "    }\n",
       "\n",
       "    .dataframe thead th {\n",
       "        text-align: right;\n",
       "    }\n",
       "</style>\n",
       "<table border=\"1\" class=\"dataframe\">\n",
       "  <thead>\n",
       "    <tr style=\"text-align: right;\">\n",
       "      <th></th>\n",
       "      <th>Name</th>\n",
       "      <th>Reference</th>\n",
       "      <th>Turbo</th>\n",
       "    </tr>\n",
       "    <tr>\n",
       "      <th>ID</th>\n",
       "      <th></th>\n",
       "      <th></th>\n",
       "      <th></th>\n",
       "    </tr>\n",
       "  </thead>\n",
       "  <tbody>\n",
       "    <tr>\n",
       "      <th>lr</th>\n",
       "      <td>Linear Regression</td>\n",
       "      <td>sklearn.linear_model._base.LinearRegression</td>\n",
       "      <td>True</td>\n",
       "    </tr>\n",
       "    <tr>\n",
       "      <th>lasso</th>\n",
       "      <td>Lasso Regression</td>\n",
       "      <td>sklearn.linear_model._coordinate_descent.Lasso</td>\n",
       "      <td>True</td>\n",
       "    </tr>\n",
       "    <tr>\n",
       "      <th>ridge</th>\n",
       "      <td>Ridge Regression</td>\n",
       "      <td>sklearn.linear_model._ridge.Ridge</td>\n",
       "      <td>True</td>\n",
       "    </tr>\n",
       "    <tr>\n",
       "      <th>en</th>\n",
       "      <td>Elastic Net</td>\n",
       "      <td>sklearn.linear_model._coordinate_descent.Elast...</td>\n",
       "      <td>True</td>\n",
       "    </tr>\n",
       "    <tr>\n",
       "      <th>lar</th>\n",
       "      <td>Least Angle Regression</td>\n",
       "      <td>sklearn.linear_model._least_angle.Lars</td>\n",
       "      <td>True</td>\n",
       "    </tr>\n",
       "    <tr>\n",
       "      <th>llar</th>\n",
       "      <td>Lasso Least Angle Regression</td>\n",
       "      <td>sklearn.linear_model._least_angle.LassoLars</td>\n",
       "      <td>True</td>\n",
       "    </tr>\n",
       "    <tr>\n",
       "      <th>omp</th>\n",
       "      <td>Orthogonal Matching Pursuit</td>\n",
       "      <td>sklearn.linear_model._omp.OrthogonalMatchingPu...</td>\n",
       "      <td>True</td>\n",
       "    </tr>\n",
       "    <tr>\n",
       "      <th>br</th>\n",
       "      <td>Bayesian Ridge</td>\n",
       "      <td>sklearn.linear_model._bayes.BayesianRidge</td>\n",
       "      <td>True</td>\n",
       "    </tr>\n",
       "    <tr>\n",
       "      <th>ard</th>\n",
       "      <td>Automatic Relevance Determination</td>\n",
       "      <td>sklearn.linear_model._bayes.ARDRegression</td>\n",
       "      <td>False</td>\n",
       "    </tr>\n",
       "    <tr>\n",
       "      <th>par</th>\n",
       "      <td>Passive Aggressive Regressor</td>\n",
       "      <td>sklearn.linear_model._passive_aggressive.Passi...</td>\n",
       "      <td>True</td>\n",
       "    </tr>\n",
       "    <tr>\n",
       "      <th>ransac</th>\n",
       "      <td>Random Sample Consensus</td>\n",
       "      <td>sklearn.linear_model._ransac.RANSACRegressor</td>\n",
       "      <td>False</td>\n",
       "    </tr>\n",
       "    <tr>\n",
       "      <th>tr</th>\n",
       "      <td>TheilSen Regressor</td>\n",
       "      <td>sklearn.linear_model._theil_sen.TheilSenRegressor</td>\n",
       "      <td>False</td>\n",
       "    </tr>\n",
       "    <tr>\n",
       "      <th>huber</th>\n",
       "      <td>Huber Regressor</td>\n",
       "      <td>sklearn.linear_model._huber.HuberRegressor</td>\n",
       "      <td>True</td>\n",
       "    </tr>\n",
       "    <tr>\n",
       "      <th>kr</th>\n",
       "      <td>Kernel Ridge</td>\n",
       "      <td>sklearn.kernel_ridge.KernelRidge</td>\n",
       "      <td>False</td>\n",
       "    </tr>\n",
       "    <tr>\n",
       "      <th>svm</th>\n",
       "      <td>Support Vector Regression</td>\n",
       "      <td>sklearn.svm._classes.SVR</td>\n",
       "      <td>False</td>\n",
       "    </tr>\n",
       "    <tr>\n",
       "      <th>knn</th>\n",
       "      <td>K Neighbors Regressor</td>\n",
       "      <td>sklearn.neighbors._regression.KNeighborsRegressor</td>\n",
       "      <td>True</td>\n",
       "    </tr>\n",
       "    <tr>\n",
       "      <th>dt</th>\n",
       "      <td>Decision Tree Regressor</td>\n",
       "      <td>sklearn.tree._classes.DecisionTreeRegressor</td>\n",
       "      <td>True</td>\n",
       "    </tr>\n",
       "    <tr>\n",
       "      <th>rf</th>\n",
       "      <td>Random Forest Regressor</td>\n",
       "      <td>sklearn.ensemble._forest.RandomForestRegressor</td>\n",
       "      <td>True</td>\n",
       "    </tr>\n",
       "    <tr>\n",
       "      <th>et</th>\n",
       "      <td>Extra Trees Regressor</td>\n",
       "      <td>sklearn.ensemble._forest.ExtraTreesRegressor</td>\n",
       "      <td>True</td>\n",
       "    </tr>\n",
       "    <tr>\n",
       "      <th>ada</th>\n",
       "      <td>AdaBoost Regressor</td>\n",
       "      <td>sklearn.ensemble._weight_boosting.AdaBoostRegr...</td>\n",
       "      <td>True</td>\n",
       "    </tr>\n",
       "    <tr>\n",
       "      <th>gbr</th>\n",
       "      <td>Gradient Boosting Regressor</td>\n",
       "      <td>sklearn.ensemble._gb.GradientBoostingRegressor</td>\n",
       "      <td>True</td>\n",
       "    </tr>\n",
       "    <tr>\n",
       "      <th>mlp</th>\n",
       "      <td>MLP Regressor</td>\n",
       "      <td>sklearn.neural_network._multilayer_perceptron....</td>\n",
       "      <td>False</td>\n",
       "    </tr>\n",
       "    <tr>\n",
       "      <th>lightgbm</th>\n",
       "      <td>Light Gradient Boosting Machine</td>\n",
       "      <td>lightgbm.sklearn.LGBMRegressor</td>\n",
       "      <td>True</td>\n",
       "    </tr>\n",
       "  </tbody>\n",
       "</table>\n",
       "</div>"
      ],
      "text/plain": [
       "                                       Name  \\\n",
       "ID                                            \n",
       "lr                        Linear Regression   \n",
       "lasso                      Lasso Regression   \n",
       "ridge                      Ridge Regression   \n",
       "en                              Elastic Net   \n",
       "lar                  Least Angle Regression   \n",
       "llar           Lasso Least Angle Regression   \n",
       "omp             Orthogonal Matching Pursuit   \n",
       "br                           Bayesian Ridge   \n",
       "ard       Automatic Relevance Determination   \n",
       "par            Passive Aggressive Regressor   \n",
       "ransac              Random Sample Consensus   \n",
       "tr                       TheilSen Regressor   \n",
       "huber                       Huber Regressor   \n",
       "kr                             Kernel Ridge   \n",
       "svm               Support Vector Regression   \n",
       "knn                   K Neighbors Regressor   \n",
       "dt                  Decision Tree Regressor   \n",
       "rf                  Random Forest Regressor   \n",
       "et                    Extra Trees Regressor   \n",
       "ada                      AdaBoost Regressor   \n",
       "gbr             Gradient Boosting Regressor   \n",
       "mlp                           MLP Regressor   \n",
       "lightgbm    Light Gradient Boosting Machine   \n",
       "\n",
       "                                                  Reference  Turbo  \n",
       "ID                                                                  \n",
       "lr              sklearn.linear_model._base.LinearRegression   True  \n",
       "lasso        sklearn.linear_model._coordinate_descent.Lasso   True  \n",
       "ridge                     sklearn.linear_model._ridge.Ridge   True  \n",
       "en        sklearn.linear_model._coordinate_descent.Elast...   True  \n",
       "lar                  sklearn.linear_model._least_angle.Lars   True  \n",
       "llar            sklearn.linear_model._least_angle.LassoLars   True  \n",
       "omp       sklearn.linear_model._omp.OrthogonalMatchingPu...   True  \n",
       "br                sklearn.linear_model._bayes.BayesianRidge   True  \n",
       "ard               sklearn.linear_model._bayes.ARDRegression  False  \n",
       "par       sklearn.linear_model._passive_aggressive.Passi...   True  \n",
       "ransac         sklearn.linear_model._ransac.RANSACRegressor  False  \n",
       "tr        sklearn.linear_model._theil_sen.TheilSenRegressor  False  \n",
       "huber            sklearn.linear_model._huber.HuberRegressor   True  \n",
       "kr                         sklearn.kernel_ridge.KernelRidge  False  \n",
       "svm                                sklearn.svm._classes.SVR  False  \n",
       "knn       sklearn.neighbors._regression.KNeighborsRegressor   True  \n",
       "dt              sklearn.tree._classes.DecisionTreeRegressor   True  \n",
       "rf           sklearn.ensemble._forest.RandomForestRegressor   True  \n",
       "et             sklearn.ensemble._forest.ExtraTreesRegressor   True  \n",
       "ada       sklearn.ensemble._weight_boosting.AdaBoostRegr...   True  \n",
       "gbr          sklearn.ensemble._gb.GradientBoostingRegressor   True  \n",
       "mlp       sklearn.neural_network._multilayer_perceptron....  False  \n",
       "lightgbm                     lightgbm.sklearn.LGBMRegressor   True  "
      ]
     },
     "execution_count": 58,
     "metadata": {},
     "output_type": "execute_result"
    }
   ],
   "source": [
    "models()"
   ]
  },
  {
   "cell_type": "code",
   "execution_count": null,
   "metadata": {},
   "outputs": [],
   "source": []
  },
  {
   "cell_type": "code",
   "execution_count": 59,
   "metadata": {},
   "outputs": [
    {
     "data": {
      "text/html": [
       "<style  type=\"text/css\" >\n",
       "</style><table id=\"T_99d1a44b_1870_11ec_8829_782b46b87dbe\" ><thead></thead><tbody>\n",
       "        </tbody></table>"
      ],
      "text/plain": [
       "<pandas.io.formats.style.Styler at 0x1904bc97e80>"
      ]
     },
     "metadata": {},
     "output_type": "display_data"
    }
   ],
   "source": [
    "top3 = compare_models(n_select=3)"
   ]
  },
  {
   "cell_type": "code",
   "execution_count": 60,
   "metadata": {},
   "outputs": [
    {
     "data": {
      "text/html": [
       "<style  type=\"text/css\" >\n",
       "</style><table id=\"T_9b15df3d_1870_11ec_9d8e_782b46b87dbe\" ><thead></thead><tbody>\n",
       "        </tbody></table>"
      ],
      "text/plain": [
       "<pandas.io.formats.style.Styler at 0x1904bd31700>"
      ]
     },
     "metadata": {},
     "output_type": "display_data"
    },
    {
     "data": {
      "text/plain": [
       "[]"
      ]
     },
     "execution_count": 60,
     "metadata": {},
     "output_type": "execute_result"
    }
   ],
   "source": [
    "compare_models()"
   ]
  },
  {
   "cell_type": "code",
   "execution_count": null,
   "metadata": {},
   "outputs": [],
   "source": []
  }
 ],
 "metadata": {
  "kernelspec": {
   "display_name": "Python 3",
   "language": "python",
   "name": "python3"
  },
  "language_info": {
   "codemirror_mode": {
    "name": "ipython",
    "version": 3
   },
   "file_extension": ".py",
   "mimetype": "text/x-python",
   "name": "python",
   "nbconvert_exporter": "python",
   "pygments_lexer": "ipython3",
   "version": "3.8.3"
  }
 },
 "nbformat": 4,
 "nbformat_minor": 4
}
