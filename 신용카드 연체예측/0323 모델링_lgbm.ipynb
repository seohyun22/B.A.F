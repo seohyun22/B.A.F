{
 "cells": [
  {
   "cell_type": "code",
   "execution_count": 2,
   "id": "f2ab1c63",
   "metadata": {},
   "outputs": [],
   "source": [
    "# !pip install lightgbm"
   ]
  },
  {
   "cell_type": "code",
   "execution_count": 3,
   "id": "0ca201fa",
   "metadata": {},
   "outputs": [],
   "source": [
    "import pandas as pd\n",
    "import random\n",
    "from lightgbm import LGBMClassifier\n",
    "from lightgbm import plot_importance\n",
    "from sklearn.metrics import *\n",
    "from sklearn.model_selection import train_test_split\n",
    "from sklearn.model_selection import GridSearchCV\n",
    "from sklearn.model_selection import RandomizedSearchCV\n",
    "from sklearn.model_selection import StratifiedKFold\n",
    "import matplotlib.pyplot as plt"
   ]
  },
  {
   "cell_type": "code",
   "execution_count": 4,
   "id": "05b48894",
   "metadata": {},
   "outputs": [],
   "source": [
    "train=pd.read_csv('train_final.csv')\n",
    "test=pd.read_csv('test_final.csv')\n",
    "submit = pd.read_csv('sample_submission.csv')"
   ]
  },
  {
   "cell_type": "code",
   "execution_count": 5,
   "id": "f4e1927e",
   "metadata": {},
   "outputs": [],
   "source": [
    "# train = train.astype({'gender':object})\n",
    "# train = train.astype({'car':object})\n",
    "# train = train.astype({'reality':object})\n",
    "# train = train.astype({'edu_type':object})\n",
    "# train = train.astype({'work_phone':object})\n",
    "# train = train.astype({'phone':object})\n",
    "# train = train.astype({'email':object})\n",
    "# train = train.astype({'family_size':object})  # 이산형\n",
    "# train = train.astype({'credit':int})          # 타겟\n",
    "# train = train.astype({'age':object})          # 이산형\n",
    "# train = train.astype({'experience':object})   # 이산형\n",
    "# train = train.astype({'start_work':object})   # 이산형\n",
    "# train = train.astype({'n_card':object})       # 이산형\n",
    "# train = train.astype({'extra_card':object})\n",
    "# train = train.astype({'ability':object})      # 이산형\n",
    "# train = train.astype({'owned':object})\n",
    "# train = train.astype({'property':object})     # 이산형-> 점수?"
   ]
  },
  {
   "cell_type": "code",
   "execution_count": 6,
   "id": "fc066d96",
   "metadata": {},
   "outputs": [],
   "source": [
    "X = train.drop('credit', axis=1)\n",
    "y = train['credit'] \n",
    "X_train, X_test, y_train, y_test = train_test_split(X, y, test_size=0.2, random_state=123)"
   ]
  },
  {
   "cell_type": "code",
   "execution_count": 7,
   "id": "9adc03fc",
   "metadata": {},
   "outputs": [],
   "source": [
    "lgb = LGBMClassifier()\n",
    "lgb.fit(X_train, y_train)\n",
    "predicted = lgb.predict(X_test)"
   ]
  },
  {
   "cell_type": "code",
   "execution_count": 8,
   "id": "6b3fc1e7",
   "metadata": {},
   "outputs": [
    {
     "name": "stdout",
     "output_type": "stream",
     "text": [
      "0.6972338006820765\n"
     ]
    }
   ],
   "source": [
    "print(accuracy_score(y_test, predicted))"
   ]
  },
  {
   "cell_type": "code",
   "execution_count": 9,
   "id": "8ccec19f",
   "metadata": {},
   "outputs": [
    {
     "data": {
      "text/plain": [
       "array([2., 2., 2., ..., 2., 2., 2.])"
      ]
     },
     "execution_count": 9,
     "metadata": {},
     "output_type": "execute_result"
    }
   ],
   "source": [
    "# 최종예측 \n",
    "predicted2 = lgb.predict(test)\n",
    "predicted2"
   ]
  },
  {
   "cell_type": "markdown",
   "id": "358eaabe",
   "metadata": {},
   "source": [
    "## GridSearchCV"
   ]
  },
  {
   "cell_type": "code",
   "execution_count": 10,
   "id": "04b69794",
   "metadata": {},
   "outputs": [],
   "source": [
    "lgb=LGBMClassifier()"
   ]
  },
  {
   "cell_type": "code",
   "execution_count": 11,
   "id": "7c645c89",
   "metadata": {},
   "outputs": [],
   "source": [
    "params = {'max_depth':[10, 20, 30],    # 트리의 최대 깊이\n",
    "          'num_leaves':[20,40],        # 하나의 트리가 가질 수 있는 최대 리프 개수\n",
    "          'n_estimators':[20,40,60],   # 반복하려는 트리의 개수 \n",
    "          'min_child_samples':[5,10],  # 리트 노드가 되기 위한 최소한의 샘플 데이터 수 \n",
    "          'learning_rate':[0.05,0.1],  # 학습률\n",
    "          'reg_alpha':[0,0.01]           # L1 regularization\n",
    "          #'reg_lambda':[0,0.01,0.03]}   # L2 regularization\n",
    "         }      "
   ]
  },
  {
   "cell_type": "code",
   "execution_count": 12,
   "id": "676037ed",
   "metadata": {},
   "outputs": [],
   "source": [
    "clf=GridSearchCV(lgb, params, scoring='accuracy')"
   ]
  },
  {
   "cell_type": "code",
   "execution_count": 13,
   "id": "488a9ea7",
   "metadata": {},
   "outputs": [
    {
     "name": "stdout",
     "output_type": "stream",
     "text": [
      "{'learning_rate': 0.1, 'max_depth': 20, 'min_child_samples': 10, 'n_estimators': 60, 'num_leaves': 40, 'reg_alpha': 0.01}\n"
     ]
    }
   ],
   "source": [
    "clf.fit(X=X_train, y=y_train) \n",
    "print(clf.best_params_)"
   ]
  },
  {
   "cell_type": "code",
   "execution_count": 14,
   "id": "5ad23f70",
   "metadata": {},
   "outputs": [],
   "source": [
    "params['num_leaves'] = clf.best_params_['num_leaves']\n",
    "params['n_estimators'] = clf.best_params_['n_estimators'] \n",
    "params['min_child_samples'] = clf.best_params_['min_child_samples']\n",
    "params['max_depth'] = clf.best_params_['max_depth']\n",
    "params['learning_rate'] = clf.best_params_['learning_rate']\n",
    "params['reg_alpha'] = clf.best_params_['reg_alpha']"
   ]
  },
  {
   "cell_type": "code",
   "execution_count": 15,
   "id": "6a53325e",
   "metadata": {},
   "outputs": [
    {
     "data": {
      "text/plain": [
       "LGBMClassifier(max_depth=20, min_child_samples=10, n_estimators=60,\n",
       "               num_leaves=40, random_state=123, reg_alpha=0.01)"
      ]
     },
     "execution_count": 15,
     "metadata": {},
     "output_type": "execute_result"
    }
   ],
   "source": [
    "model = LGBMClassifier(**params, random_state=123)\n",
    "model.fit(X_train, y_train) "
   ]
  },
  {
   "cell_type": "code",
   "execution_count": 16,
   "id": "da791d45",
   "metadata": {},
   "outputs": [
    {
     "name": "stdout",
     "output_type": "stream",
     "text": [
      "0.6962864721485411\n"
     ]
    }
   ],
   "source": [
    "predicted = model.predict(X_test) \n",
    "print(accuracy_score(y_test, predicted))"
   ]
  },
  {
   "cell_type": "code",
   "execution_count": 17,
   "id": "d2c35787",
   "metadata": {},
   "outputs": [
    {
     "data": {
      "image/png": "[encoded data removed]",
      "text/plain": [
       "<Figure size 720x864 with 1 Axes>"
      ]
     },
     "metadata": {
      "needs_background": "light"
     },
     "output_type": "display_data"
    }
   ],
   "source": [
    "fig, ax = plt.subplots(figsize=(10,12))\n",
    "plot_importance(model, ax=ax)\n",
    "plt.show()"
   ]
  },
  {
   "cell_type": "markdown",
   "id": "76a91621",
   "metadata": {},
   "source": [
    "## Random Search"
   ]
  },
  {
   "cell_type": "code",
   "execution_count": 18,
   "id": "befb8453",
   "metadata": {},
   "outputs": [],
   "source": [
    "lgb=LGBMClassifier()"
   ]
  },
  {
   "cell_type": "code",
   "execution_count": 19,
   "id": "f50d46b7",
   "metadata": {},
   "outputs": [],
   "source": [
    "params = {'max_depth':[10,20,30,40],   # 트리의 최대 깊이\n",
    "          'num_leaves':[20,40],        # 하나의 트리가 가질 수 있는 최대 리프 개수\n",
    "          'n_estimators':[20,40,60,80,100,200],   # 반복하려는 트리의 개수 \n",
    "          'min_child_samples':[5,10],  # 리트 노드가 되기 위한 최소한의 샘플 데이터 수 \n",
    "          'learning_rate':[0.05,0.1],  # 학습률\n",
    "          'reg_alpha':[0,0.01]           # L1 regularization\n",
    "          #'reg_lambda':[0,0.01,0.03]}   # L2 regularization\n",
    "         }    "
   ]
  },
  {
   "cell_type": "code",
   "execution_count": 20,
   "id": "eb59d736",
   "metadata": {},
   "outputs": [],
   "source": [
    "clf=RandomizedSearchCV(lgb,params,scoring='accuracy',n_iter=20, random_state=123)"
   ]
  },
  {
   "cell_type": "code",
   "execution_count": 21,
   "id": "31dd92d0",
   "metadata": {},
   "outputs": [
    {
     "name": "stdout",
     "output_type": "stream",
     "text": [
      "{'reg_alpha': 0.01, 'num_leaves': 40, 'n_estimators': 200, 'min_child_samples': 10, 'max_depth': 10, 'learning_rate': 0.1}\n"
     ]
    }
   ],
   "source": [
    "clf.fit(X=X_train, y=y_train) \n",
    "print(clf.best_params_)"
   ]
  },
  {
   "cell_type": "code",
   "execution_count": 22,
   "id": "48b1441a",
   "metadata": {},
   "outputs": [],
   "source": [
    "params['num_leaves'] = clf.best_params_['num_leaves']\n",
    "params['n_estimators'] = clf.best_params_['n_estimators'] \n",
    "params['min_child_samples'] = clf.best_params_['min_child_samples']\n",
    "params['max_depth'] = clf.best_params_['max_depth']\n",
    "params['learning_rate'] = clf.best_params_['learning_rate']\n",
    "params['reg_alpha'] = clf.best_params_['reg_alpha']"
   ]
  },
  {
   "cell_type": "code",
   "execution_count": null,
   "id": "76d3a233",
   "metadata": {},
   "outputs": [],
   "source": []
  },
  {
   "cell_type": "code",
   "execution_count": 23,
   "id": "d0516fb2",
   "metadata": {},
   "outputs": [
    {
     "data": {
      "text/plain": [
       "LGBMClassifier(max_depth=10, min_child_samples=10, n_estimators=200,\n",
       "               num_leaves=40, random_state=123, reg_alpha=0.01)"
      ]
     },
     "execution_count": 23,
     "metadata": {},
     "output_type": "execute_result"
    }
   ],
   "source": [
    "model = LGBMClassifier(**params, random_state=123)\n",
    "model.fit(X_train, y_train) "
   ]
  },
  {
   "cell_type": "code",
   "execution_count": 24,
   "id": "e13fb2aa",
   "metadata": {},
   "outputs": [
    {
     "name": "stdout",
     "output_type": "stream",
     "text": [
      "0.7038651004168246\n"
     ]
    }
   ],
   "source": [
    "predicted = model.predict(X_test) \n",
    "print(accuracy_score(y_test, predicted))"
   ]
  },
  {
   "cell_type": "code",
   "execution_count": null,
   "id": "3dc2fc34",
   "metadata": {},
   "outputs": [],
   "source": []
  },
  {
   "cell_type": "code",
   "execution_count": 25,
   "id": "2ea4701c",
   "metadata": {},
   "outputs": [],
   "source": [
    "skf = StratifiedKFold(n_splits=5, shuffle=True, random_state=123)\n",
    "folds=[]\n",
    "for train_idx, test_idx in skf.split(train, train['credit']):\n",
    "    folds.append((train_idx, test_idx))"
   ]
  },
  {
   "cell_type": "code",
   "execution_count": 26,
   "id": "d421d48c",
   "metadata": {},
   "outputs": [
    {
     "name": "stdout",
     "output_type": "stream",
     "text": [
      "---------------------------------------\n"
     ]
    },
    {
     "name": "stderr",
     "output_type": "stream",
     "text": [
      "C:\\Users\\seohyun\\anaconda3\\lib\\site-packages\\lightgbm\\sklearn.py:726: UserWarning: 'early_stopping_rounds' argument is deprecated and will be removed in a future release of LightGBM. Pass 'early_stopping()' callback via 'callbacks' argument instead.\n",
      "  _log_warning(\"'early_stopping_rounds' argument is deprecated and will be removed in a future release of LightGBM. \"\n",
      "C:\\Users\\seohyun\\anaconda3\\lib\\site-packages\\lightgbm\\sklearn.py:736: UserWarning: 'verbose' argument is deprecated and will be removed in a future release of LightGBM. Pass 'log_evaluation()' callback via 'callbacks' argument instead.\n",
      "  _log_warning(\"'verbose' argument is deprecated and will be removed in a future release of LightGBM. \"\n"
     ]
    },
    {
     "name": "stdout",
     "output_type": "stream",
     "text": [
      "[100]\ttraining's multi_logloss: 0.596905\tvalid_1's multi_logloss: 0.749215\n",
      "[200]\ttraining's multi_logloss: 0.493683\tvalid_1's multi_logloss: 0.739833\n",
      "---------------------------------------\n"
     ]
    },
    {
     "name": "stderr",
     "output_type": "stream",
     "text": [
      "C:\\Users\\seohyun\\anaconda3\\lib\\site-packages\\lightgbm\\sklearn.py:726: UserWarning: 'early_stopping_rounds' argument is deprecated and will be removed in a future release of LightGBM. Pass 'early_stopping()' callback via 'callbacks' argument instead.\n",
      "  _log_warning(\"'early_stopping_rounds' argument is deprecated and will be removed in a future release of LightGBM. \"\n",
      "C:\\Users\\seohyun\\anaconda3\\lib\\site-packages\\lightgbm\\sklearn.py:736: UserWarning: 'verbose' argument is deprecated and will be removed in a future release of LightGBM. Pass 'log_evaluation()' callback via 'callbacks' argument instead.\n",
      "  _log_warning(\"'verbose' argument is deprecated and will be removed in a future release of LightGBM. \"\n"
     ]
    },
    {
     "name": "stdout",
     "output_type": "stream",
     "text": [
      "[100]\ttraining's multi_logloss: 0.603522\tvalid_1's multi_logloss: 0.739663\n",
      "[200]\ttraining's multi_logloss: 0.497038\tvalid_1's multi_logloss: 0.72666\n",
      "---------------------------------------\n"
     ]
    },
    {
     "name": "stderr",
     "output_type": "stream",
     "text": [
      "C:\\Users\\seohyun\\anaconda3\\lib\\site-packages\\lightgbm\\sklearn.py:726: UserWarning: 'early_stopping_rounds' argument is deprecated and will be removed in a future release of LightGBM. Pass 'early_stopping()' callback via 'callbacks' argument instead.\n",
      "  _log_warning(\"'early_stopping_rounds' argument is deprecated and will be removed in a future release of LightGBM. \"\n",
      "C:\\Users\\seohyun\\anaconda3\\lib\\site-packages\\lightgbm\\sklearn.py:736: UserWarning: 'verbose' argument is deprecated and will be removed in a future release of LightGBM. Pass 'log_evaluation()' callback via 'callbacks' argument instead.\n",
      "  _log_warning(\"'verbose' argument is deprecated and will be removed in a future release of LightGBM. \"\n"
     ]
    },
    {
     "name": "stdout",
     "output_type": "stream",
     "text": [
      "[100]\ttraining's multi_logloss: 0.601954\tvalid_1's multi_logloss: 0.734847\n",
      "[200]\ttraining's multi_logloss: 0.496197\tvalid_1's multi_logloss: 0.725028\n",
      "---------------------------------------\n"
     ]
    },
    {
     "name": "stderr",
     "output_type": "stream",
     "text": [
      "C:\\Users\\seohyun\\anaconda3\\lib\\site-packages\\lightgbm\\sklearn.py:726: UserWarning: 'early_stopping_rounds' argument is deprecated and will be removed in a future release of LightGBM. Pass 'early_stopping()' callback via 'callbacks' argument instead.\n",
      "  _log_warning(\"'early_stopping_rounds' argument is deprecated and will be removed in a future release of LightGBM. \"\n",
      "C:\\Users\\seohyun\\anaconda3\\lib\\site-packages\\lightgbm\\sklearn.py:736: UserWarning: 'verbose' argument is deprecated and will be removed in a future release of LightGBM. Pass 'log_evaluation()' callback via 'callbacks' argument instead.\n",
      "  _log_warning(\"'verbose' argument is deprecated and will be removed in a future release of LightGBM. \"\n"
     ]
    },
    {
     "name": "stdout",
     "output_type": "stream",
     "text": [
      "[100]\ttraining's multi_logloss: 0.601058\tvalid_1's multi_logloss: 0.740715\n",
      "[200]\ttraining's multi_logloss: 0.499546\tvalid_1's multi_logloss: 0.729222\n",
      "---------------------------------------\n"
     ]
    },
    {
     "name": "stderr",
     "output_type": "stream",
     "text": [
      "C:\\Users\\seohyun\\anaconda3\\lib\\site-packages\\lightgbm\\sklearn.py:726: UserWarning: 'early_stopping_rounds' argument is deprecated and will be removed in a future release of LightGBM. Pass 'early_stopping()' callback via 'callbacks' argument instead.\n",
      "  _log_warning(\"'early_stopping_rounds' argument is deprecated and will be removed in a future release of LightGBM. \"\n",
      "C:\\Users\\seohyun\\anaconda3\\lib\\site-packages\\lightgbm\\sklearn.py:736: UserWarning: 'verbose' argument is deprecated and will be removed in a future release of LightGBM. Pass 'log_evaluation()' callback via 'callbacks' argument instead.\n",
      "  _log_warning(\"'verbose' argument is deprecated and will be removed in a future release of LightGBM. \"\n"
     ]
    },
    {
     "name": "stdout",
     "output_type": "stream",
     "text": [
      "[100]\ttraining's multi_logloss: 0.601049\tvalid_1's multi_logloss: 0.744089\n",
      "[200]\ttraining's multi_logloss: 0.496212\tvalid_1's multi_logloss: 0.733343\n"
     ]
    }
   ],
   "source": [
    "random.seed(123)\n",
    "lgb_models={}\n",
    "for fold in range(5):\n",
    "    print(\"---------------------------------------\")\n",
    "    train_idx, test_idx = folds[fold]\n",
    "    X_train, X_test, y_train, y_test = train.drop(['credit'],axis=1).iloc[train_idx].values, train.drop(['credit'],axis=1).iloc[test_idx].values,\\\n",
    "                                         train['credit'][train_idx].values, train['credit'][test_idx].values \n",
    "    lgb = LGBMClassifier(**params)\n",
    "    lgb.fit(X_train, y_train, \n",
    "            eval_set=[(X_train, y_train), (X_test, y_test)], \n",
    "            early_stopping_rounds=30,\n",
    "           verbose=100)\n",
    "    lgb_models[fold]=lgb"
   ]
  },
  {
   "cell_type": "code",
   "execution_count": 27,
   "id": "5cfd964a",
   "metadata": {},
   "outputs": [
    {
     "name": "stdout",
     "output_type": "stream",
     "text": [
      "0.7087360242562062\n"
     ]
    }
   ],
   "source": [
    "predicted = lgb.predict(X_test) \n",
    "print(accuracy_score(y_test, predicted))"
   ]
  },
  {
   "cell_type": "code",
   "execution_count": 28,
   "id": "df387efe",
   "metadata": {},
   "outputs": [
    {
     "data": {
      "image/png": "[encoded data removed]",
      "text/plain": [
       "<Figure size 720x864 with 1 Axes>"
      ]
     },
     "metadata": {
      "needs_background": "light"
     },
     "output_type": "display_data"
    }
   ],
   "source": [
    "fig, ax = plt.subplots(figsize=(10,12))\n",
    "plot_importance(model, ax=ax)\n",
    "plt.show()"
   ]
  },
  {
   "cell_type": "code",
   "execution_count": 29,
   "id": "1f59e65b",
   "metadata": {},
   "outputs": [],
   "source": [
    "submit.iloc[:,1:]=0"
   ]
  },
  {
   "cell_type": "code",
   "execution_count": 30,
   "id": "f6496b7a",
   "metadata": {},
   "outputs": [],
   "source": [
    "for fold in range(5):\n",
    "    submit.iloc[:,1:] += lgb_models[fold].predict_proba(test)/5"
   ]
  },
  {
   "cell_type": "code",
   "execution_count": 31,
   "id": "3a6d47be",
   "metadata": {},
   "outputs": [
    {
     "data": {
      "text/html": [
       "<div>\n",
       "<style scoped>\n",
       "    .dataframe tbody tr th:only-of-type {\n",
       "        vertical-align: middle;\n",
       "    }\n",
       "\n",
       "    .dataframe tbody tr th {\n",
       "        vertical-align: top;\n",
       "    }\n",
       "\n",
       "    .dataframe thead th {\n",
       "        text-align: right;\n",
       "    }\n",
       "</style>\n",
       "<table border=\"1\" class=\"dataframe\">\n",
       "  <thead>\n",
       "    <tr style=\"text-align: right;\">\n",
       "      <th></th>\n",
       "      <th>index</th>\n",
       "      <th>0</th>\n",
       "      <th>1</th>\n",
       "      <th>2</th>\n",
       "    </tr>\n",
       "  </thead>\n",
       "  <tbody>\n",
       "    <tr>\n",
       "      <th>0</th>\n",
       "      <td>26457</td>\n",
       "      <td>0.066919</td>\n",
       "      <td>0.224693</td>\n",
       "      <td>0.708388</td>\n",
       "    </tr>\n",
       "    <tr>\n",
       "      <th>1</th>\n",
       "      <td>26458</td>\n",
       "      <td>0.042077</td>\n",
       "      <td>0.141899</td>\n",
       "      <td>0.816024</td>\n",
       "    </tr>\n",
       "    <tr>\n",
       "      <th>2</th>\n",
       "      <td>26459</td>\n",
       "      <td>0.087561</td>\n",
       "      <td>0.209338</td>\n",
       "      <td>0.703101</td>\n",
       "    </tr>\n",
       "    <tr>\n",
       "      <th>3</th>\n",
       "      <td>26460</td>\n",
       "      <td>0.138852</td>\n",
       "      <td>0.143517</td>\n",
       "      <td>0.717632</td>\n",
       "    </tr>\n",
       "    <tr>\n",
       "      <th>4</th>\n",
       "      <td>26461</td>\n",
       "      <td>0.107901</td>\n",
       "      <td>0.164946</td>\n",
       "      <td>0.727153</td>\n",
       "    </tr>\n",
       "    <tr>\n",
       "      <th>...</th>\n",
       "      <td>...</td>\n",
       "      <td>...</td>\n",
       "      <td>...</td>\n",
       "      <td>...</td>\n",
       "    </tr>\n",
       "    <tr>\n",
       "      <th>9995</th>\n",
       "      <td>36452</td>\n",
       "      <td>0.217960</td>\n",
       "      <td>0.098700</td>\n",
       "      <td>0.683340</td>\n",
       "    </tr>\n",
       "    <tr>\n",
       "      <th>9996</th>\n",
       "      <td>36453</td>\n",
       "      <td>0.114293</td>\n",
       "      <td>0.236486</td>\n",
       "      <td>0.649221</td>\n",
       "    </tr>\n",
       "    <tr>\n",
       "      <th>9997</th>\n",
       "      <td>36454</td>\n",
       "      <td>0.123039</td>\n",
       "      <td>0.175689</td>\n",
       "      <td>0.701273</td>\n",
       "    </tr>\n",
       "    <tr>\n",
       "      <th>9998</th>\n",
       "      <td>36455</td>\n",
       "      <td>0.084062</td>\n",
       "      <td>0.091383</td>\n",
       "      <td>0.824554</td>\n",
       "    </tr>\n",
       "    <tr>\n",
       "      <th>9999</th>\n",
       "      <td>36456</td>\n",
       "      <td>0.143065</td>\n",
       "      <td>0.152887</td>\n",
       "      <td>0.704048</td>\n",
       "    </tr>\n",
       "  </tbody>\n",
       "</table>\n",
       "<p>10000 rows × 4 columns</p>\n",
       "</div>"
      ],
      "text/plain": [
       "      index         0         1         2\n",
       "0     26457  0.066919  0.224693  0.708388\n",
       "1     26458  0.042077  0.141899  0.816024\n",
       "2     26459  0.087561  0.209338  0.703101\n",
       "3     26460  0.138852  0.143517  0.717632\n",
       "4     26461  0.107901  0.164946  0.727153\n",
       "...     ...       ...       ...       ...\n",
       "9995  36452  0.217960  0.098700  0.683340\n",
       "9996  36453  0.114293  0.236486  0.649221\n",
       "9997  36454  0.123039  0.175689  0.701273\n",
       "9998  36455  0.084062  0.091383  0.824554\n",
       "9999  36456  0.143065  0.152887  0.704048\n",
       "\n",
       "[10000 rows x 4 columns]"
      ]
     },
     "execution_count": 31,
     "metadata": {},
     "output_type": "execute_result"
    }
   ],
   "source": [
    "submit"
   ]
  },
  {
   "cell_type": "code",
   "execution_count": 32,
   "id": "b9b1b827",
   "metadata": {},
   "outputs": [],
   "source": [
    "submit.to_csv('submission_final.csv', index=False)"
   ]
  },
  {
   "cell_type": "code",
   "execution_count": null,
   "id": "0e0b37c8",
   "metadata": {},
   "outputs": [],
   "source": []
  },
  {
   "cell_type": "code",
   "execution_count": null,
   "id": "64b9522c",
   "metadata": {},
   "outputs": [],
   "source": []
  },
  {
   "cell_type": "code",
   "execution_count": null,
   "id": "6fcc40d2",
   "metadata": {},
   "outputs": [],
   "source": []
  }
 ],
 "metadata": {
  "kernelspec": {
   "display_name": "Python 3",
   "language": "python",
   "name": "python3"
  },
  "language_info": {
   "codemirror_mode": {
    "name": "ipython",
    "version": 3
   },
   "file_extension": ".py",
   "mimetype": "text/x-python",
   "name": "python",
   "nbconvert_exporter": "python",
   "pygments_lexer": "ipython3",
   "version": "3.8.8"
  }
 },
 "nbformat": 4,
 "nbformat_minor": 5
}
