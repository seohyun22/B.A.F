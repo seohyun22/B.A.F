{
 "cells": [
  {
   "cell_type": "code",
   "execution_count": 1,
   "id": "8128c04e",
   "metadata": {},
   "outputs": [],
   "source": [
    "import numpy as np\n",
    "import pandas as pd   \n",
    "import matplotlib.pyplot as plt\n",
    "import seaborn as sns\n",
    "\n",
    "from category_encoders.ordinal import OrdinalEncoder\n",
    "from sklearn.preprocessing import StandardScaler\n",
    "from catboost import CatBoostClassifier, Pool\n",
    "from sklearn.model_selection import train_test_split\n",
    "from sklearn.model_selection import RandomizedSearchCV\n",
    "from sklearn.model_selection import StratifiedKFold\n",
    "from sklearn.metrics import log_loss"
   ]
  },
  {
   "cell_type": "code",
   "execution_count": 2,
   "id": "00a172b0",
   "metadata": {},
   "outputs": [],
   "source": [
    "train = pd.read_csv('train_final.csv')\n",
    "test = pd.read_csv('test_final.csv')\n",
    "submission = pd.read_csv('sample_submission.csv')"
   ]
  },
  {
   "cell_type": "code",
   "execution_count": 3,
   "id": "9b346ce8",
   "metadata": {},
   "outputs": [
    {
     "name": "stdout",
     "output_type": "stream",
     "text": [
      "<class 'pandas.core.frame.DataFrame'>\n",
      "RangeIndex: 26389 entries, 0 to 26388\n",
      "Data columns (total 27 columns):\n",
      " #   Column        Non-Null Count  Dtype  \n",
      "---  ------        --------------  -----  \n",
      " 0   gender        26389 non-null  int64  \n",
      " 1   car           26389 non-null  int64  \n",
      " 2   reality       26389 non-null  int64  \n",
      " 3   income_total  26389 non-null  float64\n",
      " 4   income_type   26389 non-null  float64\n",
      " 5   edu_type      26389 non-null  int64  \n",
      " 6   family_type   26389 non-null  float64\n",
      " 7   house_type    26389 non-null  float64\n",
      " 8   work_phone    26389 non-null  int64  \n",
      " 9   phone         26389 non-null  int64  \n",
      " 10  email         26389 non-null  int64  \n",
      " 11  occyp_type    26389 non-null  float64\n",
      " 12  family_size   26389 non-null  float64\n",
      " 13  begin_month   26389 non-null  float64\n",
      " 14  credit        26389 non-null  float64\n",
      " 15  id            26389 non-null  int64  \n",
      " 16  age           26389 non-null  float64\n",
      " 17  experience    26389 non-null  float64\n",
      " 18  income_rate   26389 non-null  float64\n",
      " 19  start_work    26389 non-null  float64\n",
      " 20  n_card        26389 non-null  float64\n",
      " 21  extra_card    26389 non-null  float64\n",
      " 22  income_abcd   26389 non-null  int64  \n",
      " 23  begin_abcd    26389 non-null  int64  \n",
      " 24  ability       26389 non-null  float64\n",
      " 25  owned         26389 non-null  float64\n",
      " 26  property      26389 non-null  float64\n",
      "dtypes: float64(17), int64(10)\n",
      "memory usage: 5.4 MB\n"
     ]
    }
   ],
   "source": [
    "train.info()"
   ]
  },
  {
   "cell_type": "code",
   "execution_count": 4,
   "id": "c99bb046",
   "metadata": {},
   "outputs": [],
   "source": [
    "train['gender'] = train['gender'].astype('object')\n",
    "train['car'] = train['car'].astype('object')\n",
    "train['reality'] = train['reality'].astype('object')\n",
    "train['income_type'] = train['income_type'].astype('object')\n",
    "train['edu_type'] = train['edu_type'].astype('object')\n",
    "train['family_type'] = train['family_type'].astype('object')\n",
    "train['house_type'] = train['house_type'].astype('object')\n",
    "train['occyp_type'] = train['occyp_type'].astype('object')\n",
    "\n",
    "test['gender'] = test['gender'].astype('object')\n",
    "test['car'] = test['car'].astype('object')\n",
    "test['reality'] = test['reality'].astype('object')\n",
    "test['income_type'] = test['income_type'].astype('object')\n",
    "test['edu_type'] = test['edu_type'].astype('object')\n",
    "test['family_type'] = test['family_type'].astype('object')\n",
    "test['house_type'] = test['house_type'].astype('object')\n",
    "test['occyp_type'] = test['occyp_type'].astype('object')"
   ]
  },
  {
   "cell_type": "code",
   "execution_count": 5,
   "id": "1129eb9c",
   "metadata": {},
   "outputs": [
    {
     "name": "stdout",
     "output_type": "stream",
     "text": [
      "<class 'pandas.core.frame.DataFrame'>\n",
      "RangeIndex: 26389 entries, 0 to 26388\n",
      "Data columns (total 27 columns):\n",
      " #   Column        Non-Null Count  Dtype  \n",
      "---  ------        --------------  -----  \n",
      " 0   gender        26389 non-null  object \n",
      " 1   car           26389 non-null  object \n",
      " 2   reality       26389 non-null  object \n",
      " 3   income_total  26389 non-null  float64\n",
      " 4   income_type   26389 non-null  object \n",
      " 5   edu_type      26389 non-null  object \n",
      " 6   family_type   26389 non-null  object \n",
      " 7   house_type    26389 non-null  object \n",
      " 8   work_phone    26389 non-null  int64  \n",
      " 9   phone         26389 non-null  int64  \n",
      " 10  email         26389 non-null  int64  \n",
      " 11  occyp_type    26389 non-null  object \n",
      " 12  family_size   26389 non-null  float64\n",
      " 13  begin_month   26389 non-null  float64\n",
      " 14  credit        26389 non-null  float64\n",
      " 15  id            26389 non-null  int64  \n",
      " 16  age           26389 non-null  float64\n",
      " 17  experience    26389 non-null  float64\n",
      " 18  income_rate   26389 non-null  float64\n",
      " 19  start_work    26389 non-null  float64\n",
      " 20  n_card        26389 non-null  float64\n",
      " 21  extra_card    26389 non-null  float64\n",
      " 22  income_abcd   26389 non-null  int64  \n",
      " 23  begin_abcd    26389 non-null  int64  \n",
      " 24  ability       26389 non-null  float64\n",
      " 25  owned         26389 non-null  float64\n",
      " 26  property      26389 non-null  float64\n",
      "dtypes: float64(13), int64(6), object(8)\n",
      "memory usage: 5.4+ MB\n"
     ]
    }
   ],
   "source": [
    "train.info()"
   ]
  },
  {
   "cell_type": "code",
   "execution_count": 6,
   "id": "958a6caf",
   "metadata": {},
   "outputs": [
    {
     "name": "stdout",
     "output_type": "stream",
     "text": [
      "Number of Numerical features:  18\n",
      "Number of Categorical features:  8\n"
     ]
    }
   ],
   "source": [
    "numerical_feats = train.dtypes[train.dtypes != \"object\"].index.tolist()\n",
    "numerical_feats.remove('credit')\n",
    "print(\"Number of Numerical features: \", len(numerical_feats))\n",
    "\n",
    "categorical_feats = train.dtypes[train.dtypes == \"object\"].index.tolist()\n",
    "print(\"Number of Categorical features: \", len(categorical_feats))"
   ]
  },
  {
   "cell_type": "code",
   "execution_count": 7,
   "id": "a544e1e2",
   "metadata": {},
   "outputs": [
    {
     "data": {
      "text/plain": [
       "['income_total',\n",
       " 'work_phone',\n",
       " 'phone',\n",
       " 'email',\n",
       " 'family_size',\n",
       " 'begin_month',\n",
       " 'id',\n",
       " 'age',\n",
       " 'experience',\n",
       " 'income_rate',\n",
       " 'start_work',\n",
       " 'n_card',\n",
       " 'extra_card',\n",
       " 'income_abcd',\n",
       " 'begin_abcd',\n",
       " 'ability',\n",
       " 'owned',\n",
       " 'property']"
      ]
     },
     "execution_count": 7,
     "metadata": {},
     "output_type": "execute_result"
    }
   ],
   "source": [
    "numerical_feats"
   ]
  },
  {
   "cell_type": "code",
   "execution_count": 8,
   "id": "b240977d",
   "metadata": {},
   "outputs": [
    {
     "data": {
      "text/plain": [
       "['gender',\n",
       " 'car',\n",
       " 'reality',\n",
       " 'income_type',\n",
       " 'edu_type',\n",
       " 'family_type',\n",
       " 'house_type',\n",
       " 'occyp_type']"
      ]
     },
     "execution_count": 8,
     "metadata": {},
     "output_type": "execute_result"
    }
   ],
   "source": [
    "categorical_feats"
   ]
  },
  {
   "cell_type": "code",
   "execution_count": 9,
   "id": "98b20550",
   "metadata": {},
   "outputs": [],
   "source": [
    "encoder = OrdinalEncoder(categorical_feats)\n",
    "train[categorical_feats] = encoder.fit_transform(train[categorical_feats], train['credit'])\n",
    "test[categorical_feats] = encoder.transform(test[categorical_feats])"
   ]
  },
  {
   "cell_type": "markdown",
   "id": "7114cb30",
   "metadata": {},
   "source": [
    "## 하이퍼 파라미터 찾기 "
   ]
  },
  {
   "cell_type": "code",
   "execution_count": 10,
   "id": "c670b768",
   "metadata": {},
   "outputs": [],
   "source": [
    "X = train.drop('credit', axis=1)\n",
    "y = train['credit'] \n",
    "X_train, X_test, y_train, y_test = train_test_split(X, y, test_size=0.2, random_state=123)"
   ]
  },
  {
   "cell_type": "code",
   "execution_count": 11,
   "id": "04208d10",
   "metadata": {},
   "outputs": [],
   "source": [
    "models = CatBoostClassifier()"
   ]
  },
  {
   "cell_type": "code",
   "execution_count": 18,
   "id": "1e9e1a62",
   "metadata": {},
   "outputs": [],
   "source": [
    "#!pip install teddynote"
   ]
  },
  {
   "cell_type": "code",
   "execution_count": 27,
   "id": "c51f178f",
   "metadata": {
    "scrolled": false
   },
   "outputs": [
    {
     "name": "stderr",
     "output_type": "stream",
     "text": [
      "\u001b[32m[I 2022-03-30 02:33:50,093]\u001b[0m A new study created in memory with name: no-name-f2b9a83f-ac8c-4158-b297-948a86644d3e\u001b[0m\n"
     ]
    },
    {
     "name": "stdout",
     "output_type": "stream",
     "text": [
      "metric type: accuracy, score: 0.69136\n",
      "metric type: accuracy, score: 0.69989\n",
      "metric type: accuracy, score: 0.69344\n",
      "metric type: accuracy, score: 0.67829\n"
     ]
    },
    {
     "name": "stderr",
     "output_type": "stream",
     "text": [
      "\u001b[32m[I 2022-03-30 02:34:03,895]\u001b[0m Trial 0 finished with value: 0.6911971582944509 and parameters: {'bootstrap_type': 'Bayesian', 'boosting_type': 'Plain', 'od_type': 'IncToDec', 'colsample_bylevel': 0.04086453256466515, 'l2_leaf_reg': 0.019766966397091027, 'learning_rate': 0.2292870750664585, 'iterations': 541, 'min_child_samples': 10, 'depth': 12, 'bagging_temperature': 22.835436264662434}. Best is trial 0 with value: 0.6911971582944509.\u001b[0m\n"
     ]
    },
    {
     "name": "stdout",
     "output_type": "stream",
     "text": [
      "metric type: accuracy, score: 0.69301\n",
      "metric type: accuracy, score: 0.70235\n",
      "metric type: accuracy, score: 0.70955\n",
      "metric type: accuracy, score: 0.69951\n",
      "metric type: accuracy, score: 0.69041\n"
     ]
    },
    {
     "name": "stderr",
     "output_type": "stream",
     "text": [
      "\u001b[32m[I 2022-03-30 02:41:12,673]\u001b[0m Trial 1 finished with value: 0.7006328664441621 and parameters: {'bootstrap_type': 'MVS', 'boosting_type': 'Ordered', 'od_type': 'IncToDec', 'colsample_bylevel': 0.09477465463238516, 'l2_leaf_reg': 7.023354246057416e-05, 'learning_rate': 0.051438606486204574, 'iterations': 1744, 'min_child_samples': 24, 'depth': 5}. Best is trial 1 with value: 0.7006328664441621.\u001b[0m\n"
     ]
    },
    {
     "name": "stdout",
     "output_type": "stream",
     "text": [
      "metric type: accuracy, score: 0.70135\n",
      "metric type: accuracy, score: 0.69572\n",
      "metric type: accuracy, score: 0.70841\n",
      "metric type: accuracy, score: 0.69648\n",
      "metric type: accuracy, score: 0.68909\n"
     ]
    },
    {
     "name": "stderr",
     "output_type": "stream",
     "text": [
      "\u001b[32m[I 2022-03-30 02:44:26,893]\u001b[0m Trial 2 finished with value: 0.6970327954115765 and parameters: {'bootstrap_type': 'MVS', 'boosting_type': 'Ordered', 'od_type': 'Iter', 'colsample_bylevel': 0.08510027230542444, 'l2_leaf_reg': 1.622522039386701e-07, 'learning_rate': 0.18469566496373052, 'iterations': 1302, 'min_child_samples': 20, 'depth': 3}. Best is trial 1 with value: 0.7006328664441621.\u001b[0m\n"
     ]
    },
    {
     "name": "stdout",
     "output_type": "stream",
     "text": [
      "metric type: accuracy, score: 0.69547\n",
      "saving model...models\\CatBoostClassifier-0.70063.npy\n"
     ]
    },
    {
     "data": {
      "text/plain": [
       "0.7159801432415022"
      ]
     },
     "execution_count": 27,
     "metadata": {},
     "output_type": "execute_result"
    }
   ],
   "source": [
    "from teddynote import models\n",
    "\n",
    "catboostoptuna = models.CatBoostClassifierOptuna(use_gpu=False)\n",
    "\n",
    "params, preds = catboostoptuna.optimize(train.drop('credit', 1), \n",
    "                                        train['credit'], \n",
    "                                        test_data=train.drop('credit', 1),\n",
    "                                        seed=321,\n",
    "                                        eval_metric='accuracy', n_trials=3)\n",
    "\n",
    "(np.squeeze(preds) == train['credit']).mean()"
   ]
  },
  {
   "cell_type": "code",
   "execution_count": 28,
   "id": "2cd3dc88",
   "metadata": {},
   "outputs": [
    {
     "data": {
      "text/plain": [
       "{'bootstrap_type': 'MVS',\n",
       " 'boosting_type': 'Ordered',\n",
       " 'od_type': 'IncToDec',\n",
       " 'colsample_bylevel': 0.09477465463238516,\n",
       " 'l2_leaf_reg': 7.023354246057416e-05,\n",
       " 'learning_rate': 0.051438606486204574,\n",
       " 'iterations': 1744,\n",
       " 'min_child_samples': 24,\n",
       " 'depth': 5}"
      ]
     },
     "execution_count": 28,
     "metadata": {},
     "output_type": "execute_result"
    }
   ],
   "source": [
    "catboostoptuna.get_best_params()"
   ]
  },
  {
   "cell_type": "code",
   "execution_count": 29,
   "id": "104ecc62",
   "metadata": {},
   "outputs": [],
   "source": [
    "catboost_params = catboostoptuna.get_best_params()"
   ]
  },
  {
   "cell_type": "code",
   "execution_count": 30,
   "id": "233aea47",
   "metadata": {},
   "outputs": [],
   "source": [
    "n_est = 300\n",
    "seed = 42\n",
    "n_fold = 5\n",
    "n_class = 3\n",
    "\n",
    "target = 'credit'\n",
    "X = train.drop(target, axis=1)\n",
    "y = train[target]\n",
    "X_test = test"
   ]
  },
  {
   "cell_type": "code",
   "execution_count": 31,
   "id": "49c75c68",
   "metadata": {
    "scrolled": false
   },
   "outputs": [
    {
     "name": "stdout",
     "output_type": "stream",
     "text": [
      "\n",
      "----------------- Fold 0 -----------------\n",
      "\n",
      "0:\tlearn: 1.0762614\ttest: 1.0762639\tbest: 1.0762639 (0)\ttotal: 36.2ms\tremaining: 1m 3s\n",
      "100:\tlearn: 0.7447665\ttest: 0.6996268\tbest: 0.6996268 (100)\ttotal: 7.17s\tremaining: 1m 56s\n",
      "200:\tlearn: 0.7294063\ttest: 0.6801383\tbest: 0.6801383 (200)\ttotal: 14.8s\tremaining: 1m 53s\n",
      "300:\tlearn: 0.7202913\ttest: 0.6748589\tbest: 0.6748589 (300)\ttotal: 22.8s\tremaining: 1m 49s\n",
      "400:\tlearn: 0.7129598\ttest: 0.6722016\tbest: 0.6722003 (399)\ttotal: 30.5s\tremaining: 1m 42s\n",
      "500:\tlearn: 0.7058572\ttest: 0.6712657\tbest: 0.6712657 (500)\ttotal: 38.2s\tremaining: 1m 34s\n",
      "600:\tlearn: 0.6994182\ttest: 0.6705975\tbest: 0.6705865 (596)\ttotal: 44.9s\tremaining: 1m 25s\n",
      "700:\tlearn: 0.6938447\ttest: 0.6698334\tbest: 0.6698334 (700)\ttotal: 51.6s\tremaining: 1m 16s\n",
      "800:\tlearn: 0.6875924\ttest: 0.6694206\tbest: 0.6692532 (787)\ttotal: 59.5s\tremaining: 1m 10s\n",
      "900:\tlearn: 0.6822447\ttest: 0.6692273\tbest: 0.6690732 (869)\ttotal: 1m 7s\tremaining: 1m 2s\n",
      "Stopped by overfitting detector  (100 iterations wait)\n",
      "\n",
      "bestTest = 0.6690731703\n",
      "bestIteration = 869\n",
      "\n",
      "Shrink model to first 870 iterations.\n",
      "CV Log Loss Score: 0.669073\n",
      "\n",
      "----------------- Fold 1 -----------------\n",
      "\n",
      "0:\tlearn: 1.0762599\ttest: 1.0762737\tbest: 1.0762737 (0)\ttotal: 31.2ms\tremaining: 54.5s\n",
      "100:\tlearn: 0.7453291\ttest: 0.7161706\tbest: 0.7161706 (100)\ttotal: 6.64s\tremaining: 1m 48s\n",
      "200:\tlearn: 0.7283719\ttest: 0.6960911\tbest: 0.6960911 (200)\ttotal: 13.5s\tremaining: 1m 43s\n",
      "300:\tlearn: 0.7171489\ttest: 0.6896609\tbest: 0.6896609 (300)\ttotal: 21.3s\tremaining: 1m 42s\n",
      "400:\tlearn: 0.7096750\ttest: 0.6887823\tbest: 0.6886470 (378)\ttotal: 28.9s\tremaining: 1m 36s\n",
      "500:\tlearn: 0.7016987\ttest: 0.6876519\tbest: 0.6876519 (500)\ttotal: 36.8s\tremaining: 1m 31s\n",
      "600:\tlearn: 0.6944178\ttest: 0.6863463\tbest: 0.6863279 (597)\ttotal: 44.9s\tremaining: 1m 25s\n",
      "700:\tlearn: 0.6881391\ttest: 0.6863377\tbest: 0.6861458 (612)\ttotal: 52.6s\tremaining: 1m 18s\n",
      "Stopped by overfitting detector  (100 iterations wait)\n",
      "\n",
      "bestTest = 0.686145805\n",
      "bestIteration = 612\n",
      "\n",
      "Shrink model to first 613 iterations.\n",
      "CV Log Loss Score: 0.686146\n",
      "\n",
      "----------------- Fold 2 -----------------\n",
      "\n",
      "0:\tlearn: 1.0762593\ttest: 1.0762726\tbest: 1.0762726 (0)\ttotal: 29.4ms\tremaining: 51.2s\n",
      "100:\tlearn: 0.7411043\ttest: 0.7065093\tbest: 0.7065093 (100)\ttotal: 7.34s\tremaining: 1m 59s\n",
      "200:\tlearn: 0.7281455\ttest: 0.6910470\tbest: 0.6910470 (200)\ttotal: 14.9s\tremaining: 1m 54s\n",
      "300:\tlearn: 0.7180060\ttest: 0.6854583\tbest: 0.6854516 (299)\ttotal: 22.5s\tremaining: 1m 47s\n",
      "400:\tlearn: 0.7105277\ttest: 0.6836949\tbest: 0.6836848 (398)\ttotal: 30.1s\tremaining: 1m 40s\n",
      "500:\tlearn: 0.7035880\ttest: 0.6823520\tbest: 0.6822916 (497)\ttotal: 36.2s\tremaining: 1m 29s\n",
      "600:\tlearn: 0.6971066\ttest: 0.6814716\tbest: 0.6814716 (600)\ttotal: 42.7s\tremaining: 1m 21s\n",
      "700:\tlearn: 0.6908954\ttest: 0.6813136\tbest: 0.6809706 (646)\ttotal: 49.2s\tremaining: 1m 13s\n",
      "Stopped by overfitting detector  (100 iterations wait)\n",
      "\n",
      "bestTest = 0.680970571\n",
      "bestIteration = 646\n",
      "\n",
      "Shrink model to first 647 iterations.\n",
      "CV Log Loss Score: 0.680971\n",
      "\n",
      "----------------- Fold 3 -----------------\n",
      "\n",
      "0:\tlearn: 1.0762620\ttest: 1.0762679\tbest: 1.0762679 (0)\ttotal: 27.6ms\tremaining: 48.2s\n",
      "100:\tlearn: 0.7397084\ttest: 0.7069187\tbest: 0.7069187 (100)\ttotal: 6.73s\tremaining: 1m 49s\n",
      "200:\tlearn: 0.7278180\ttest: 0.6939725\tbest: 0.6939725 (200)\ttotal: 13.6s\tremaining: 1m 44s\n",
      "300:\tlearn: 0.7179280\ttest: 0.6877917\tbest: 0.6877917 (300)\ttotal: 21.4s\tremaining: 1m 42s\n",
      "400:\tlearn: 0.7096896\ttest: 0.6860387\tbest: 0.6860057 (397)\ttotal: 28.9s\tremaining: 1m 36s\n",
      "500:\tlearn: 0.7029917\ttest: 0.6855204\tbest: 0.6855204 (500)\ttotal: 36.7s\tremaining: 1m 31s\n",
      "600:\tlearn: 0.6961396\ttest: 0.6846490\tbest: 0.6846380 (597)\ttotal: 44.6s\tremaining: 1m 24s\n",
      "700:\tlearn: 0.6891250\ttest: 0.6843582\tbest: 0.6841481 (677)\ttotal: 52.1s\tremaining: 1m 17s\n",
      "Stopped by overfitting detector  (100 iterations wait)\n",
      "\n",
      "bestTest = 0.6841481489\n",
      "bestIteration = 677\n",
      "\n",
      "Shrink model to first 678 iterations.\n",
      "CV Log Loss Score: 0.684148\n",
      "\n",
      "----------------- Fold 4 -----------------\n",
      "\n",
      "0:\tlearn: 1.0762276\ttest: 1.0762338\tbest: 1.0762338 (0)\ttotal: 40.6ms\tremaining: 1m 10s\n",
      "100:\tlearn: 0.7437642\ttest: 0.7134035\tbest: 0.7134035 (100)\ttotal: 6.88s\tremaining: 1m 51s\n",
      "200:\tlearn: 0.7286104\ttest: 0.6936120\tbest: 0.6936120 (200)\ttotal: 14s\tremaining: 1m 47s\n",
      "300:\tlearn: 0.7186426\ttest: 0.6885617\tbest: 0.6885608 (298)\ttotal: 21.5s\tremaining: 1m 43s\n",
      "400:\tlearn: 0.7112685\ttest: 0.6868821\tbest: 0.6868821 (400)\ttotal: 28.9s\tremaining: 1m 36s\n",
      "500:\tlearn: 0.7045477\ttest: 0.6861985\tbest: 0.6861674 (493)\ttotal: 36.6s\tremaining: 1m 30s\n",
      "600:\tlearn: 0.6971666\ttest: 0.6862523\tbest: 0.6857885 (513)\ttotal: 43s\tremaining: 1m 21s\n",
      "Stopped by overfitting detector  (100 iterations wait)\n",
      "\n",
      "bestTest = 0.6857885312\n",
      "bestIteration = 513\n",
      "\n",
      "Shrink model to first 514 iterations.\n",
      "CV Log Loss Score: 0.685789\n",
      "\tLog Loss: 0.681225\n"
     ]
    }
   ],
   "source": [
    "skfold = StratifiedKFold(n_splits=n_fold, shuffle=True, random_state=seed)\n",
    "folds=[]\n",
    "for train_idx, valid_idx in skfold.split(X, y):\n",
    "    folds.append((train_idx, valid_idx))\n",
    "\n",
    "cat_pred = np.zeros((X.shape[0], n_class))\n",
    "cat_pred_test = np.zeros((X_test.shape[0], n_class))\n",
    "cat_cols = ['income_type', 'edu_type', 'family_type', 'house_type', 'occyp_type', 'id']\n",
    "for fold in range(n_fold):\n",
    "    print(f'\\n----------------- Fold {fold} -----------------\\n')\n",
    "    train_idx, valid_idx = folds[fold]\n",
    "    X_train, X_valid, y_train, y_valid = X.iloc[train_idx], X.iloc[valid_idx], y[train_idx], y[valid_idx]\n",
    "    train_data = Pool(data=X_train, label=y_train, cat_features=cat_cols)\n",
    "    valid_data = Pool(data=X_valid, label=y_valid, cat_features=cat_cols)\n",
    "\n",
    "    model_cat = CatBoostClassifier(**catboost_params)\n",
    "    model_cat.fit(train_data, eval_set=valid_data, use_best_model=True, early_stopping_rounds=100, verbose=100)\n",
    "  \n",
    "    cat_pred[valid_idx] = model_cat.predict_proba(X_valid)\n",
    "    cat_pred_test += model_cat.predict_proba(X_test) / n_fold\n",
    "    print(f'CV Log Loss Score: {log_loss(y_valid, cat_pred[valid_idx]):.6f}')\n",
    "    \n",
    "print(f'\\tLog Loss: {log_loss(y, cat_pred):.6f}')\n"
   ]
  },
  {
   "cell_type": "code",
   "execution_count": 21,
   "id": "3459c312",
   "metadata": {},
   "outputs": [],
   "source": [
    "def plot_feature_importance(importance,names,model_type):\n",
    "    \n",
    "    feature_importance = np.array(importance)\n",
    "    feature_names = np.array(names)\n",
    "    \n",
    "    data={'feature_names':feature_names,'feature_importance':feature_importance}\n",
    "    fi_df = pd.DataFrame(data)\n",
    "    \n",
    "    fi_df.sort_values(by=['feature_importance'], ascending=False,inplace=True)\n",
    "\n",
    "    plt.figure(figsize=(10,8))\n",
    "\n",
    "    sns.barplot(x=fi_df['feature_importance'], y=fi_df['feature_names'])\n",
    "\n",
    "    plt.title(model_type + ' Feature Importance')\n",
    "    plt.xlabel('Feature Importance')\n",
    "    plt.ylabel('Feature Names')"
   ]
  },
  {
   "cell_type": "code",
   "execution_count": 22,
   "id": "f2848c3b",
   "metadata": {},
   "outputs": [
    {
     "data": {
      "image/png": "[encoded data removed]",
      "text/plain": [
       "<Figure size 720x576 with 1 Axes>"
      ]
     },
     "metadata": {
      "needs_background": "light"
     },
     "output_type": "display_data"
    }
   ],
   "source": [
    "plot_feature_importance(model_cat.get_feature_importance(),X_test.columns,'CATBOOST')"
   ]
  },
  {
   "cell_type": "code",
   "execution_count": 21,
   "id": "494dc4d6",
   "metadata": {},
   "outputs": [
    {
     "data": {
      "text/html": [
       "<div>\n",
       "<style scoped>\n",
       "    .dataframe tbody tr th:only-of-type {\n",
       "        vertical-align: middle;\n",
       "    }\n",
       "\n",
       "    .dataframe tbody tr th {\n",
       "        vertical-align: top;\n",
       "    }\n",
       "\n",
       "    .dataframe thead th {\n",
       "        text-align: right;\n",
       "    }\n",
       "</style>\n",
       "<table border=\"1\" class=\"dataframe\">\n",
       "  <thead>\n",
       "    <tr style=\"text-align: right;\">\n",
       "      <th></th>\n",
       "      <th>index</th>\n",
       "      <th>0</th>\n",
       "      <th>1</th>\n",
       "      <th>2</th>\n",
       "    </tr>\n",
       "  </thead>\n",
       "  <tbody>\n",
       "    <tr>\n",
       "      <th>0</th>\n",
       "      <td>26457</td>\n",
       "      <td>0.052441</td>\n",
       "      <td>0.598191</td>\n",
       "      <td>0.349368</td>\n",
       "    </tr>\n",
       "    <tr>\n",
       "      <th>1</th>\n",
       "      <td>26458</td>\n",
       "      <td>0.052843</td>\n",
       "      <td>0.598954</td>\n",
       "      <td>0.348203</td>\n",
       "    </tr>\n",
       "    <tr>\n",
       "      <th>2</th>\n",
       "      <td>26459</td>\n",
       "      <td>0.054154</td>\n",
       "      <td>0.600796</td>\n",
       "      <td>0.345050</td>\n",
       "    </tr>\n",
       "    <tr>\n",
       "      <th>3</th>\n",
       "      <td>26460</td>\n",
       "      <td>0.077329</td>\n",
       "      <td>0.096561</td>\n",
       "      <td>0.826110</td>\n",
       "    </tr>\n",
       "    <tr>\n",
       "      <th>4</th>\n",
       "      <td>26461</td>\n",
       "      <td>0.077763</td>\n",
       "      <td>0.098208</td>\n",
       "      <td>0.824028</td>\n",
       "    </tr>\n",
       "    <tr>\n",
       "      <th>...</th>\n",
       "      <td>...</td>\n",
       "      <td>...</td>\n",
       "      <td>...</td>\n",
       "      <td>...</td>\n",
       "    </tr>\n",
       "    <tr>\n",
       "      <th>9995</th>\n",
       "      <td>36452</td>\n",
       "      <td>0.045262</td>\n",
       "      <td>0.077083</td>\n",
       "      <td>0.877655</td>\n",
       "    </tr>\n",
       "    <tr>\n",
       "      <th>9996</th>\n",
       "      <td>36453</td>\n",
       "      <td>0.072238</td>\n",
       "      <td>0.211280</td>\n",
       "      <td>0.716483</td>\n",
       "    </tr>\n",
       "    <tr>\n",
       "      <th>9997</th>\n",
       "      <td>36454</td>\n",
       "      <td>0.156114</td>\n",
       "      <td>0.277146</td>\n",
       "      <td>0.566740</td>\n",
       "    </tr>\n",
       "    <tr>\n",
       "      <th>9998</th>\n",
       "      <td>36455</td>\n",
       "      <td>0.063663</td>\n",
       "      <td>0.081808</td>\n",
       "      <td>0.854529</td>\n",
       "    </tr>\n",
       "    <tr>\n",
       "      <th>9999</th>\n",
       "      <td>36456</td>\n",
       "      <td>0.070542</td>\n",
       "      <td>0.120295</td>\n",
       "      <td>0.809163</td>\n",
       "    </tr>\n",
       "  </tbody>\n",
       "</table>\n",
       "<p>10000 rows × 4 columns</p>\n",
       "</div>"
      ],
      "text/plain": [
       "      index         0         1         2\n",
       "0     26457  0.052441  0.598191  0.349368\n",
       "1     26458  0.052843  0.598954  0.348203\n",
       "2     26459  0.054154  0.600796  0.345050\n",
       "3     26460  0.077329  0.096561  0.826110\n",
       "4     26461  0.077763  0.098208  0.824028\n",
       "...     ...       ...       ...       ...\n",
       "9995  36452  0.045262  0.077083  0.877655\n",
       "9996  36453  0.072238  0.211280  0.716483\n",
       "9997  36454  0.156114  0.277146  0.566740\n",
       "9998  36455  0.063663  0.081808  0.854529\n",
       "9999  36456  0.070542  0.120295  0.809163\n",
       "\n",
       "[10000 rows x 4 columns]"
      ]
     },
     "execution_count": 21,
     "metadata": {},
     "output_type": "execute_result"
    }
   ],
   "source": [
    "submission.iloc[:, 1:] = cat_pred_test\n",
    "submission"
   ]
  },
  {
   "cell_type": "code",
   "execution_count": 22,
   "id": "2131c133",
   "metadata": {},
   "outputs": [],
   "source": [
    "submission.to_csv('/Users/choejeongheon/Desktop/Credit AI/submission_final.csv', index=False)"
   ]
  }
 ],
 "metadata": {
  "kernelspec": {
   "display_name": "Python 3",
   "language": "python",
   "name": "python3"
  },
  "language_info": {
   "codemirror_mode": {
    "name": "ipython",
    "version": 3
   },
   "file_extension": ".py",
   "mimetype": "text/x-python",
   "name": "python",
   "nbconvert_exporter": "python",
   "pygments_lexer": "ipython3",
   "version": "3.8.8"
  }
 },
 "nbformat": 4,
 "nbformat_minor": 5
}
